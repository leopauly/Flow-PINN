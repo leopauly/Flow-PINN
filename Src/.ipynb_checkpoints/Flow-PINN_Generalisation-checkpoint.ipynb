{
 "cells": [
  {
   "cell_type": "markdown",
   "metadata": {
    "id": "_GjAWEr3TthX"
   },
   "source": [
    "#### **Description**"
   ]
  },
  {
   "cell_type": "code",
   "execution_count": 1,
   "metadata": {
    "colab": {
     "base_uri": "https://localhost:8080/"
    },
    "executionInfo": {
     "elapsed": 175,
     "status": "ok",
     "timestamp": 1627514608794,
     "user": {
      "displayName": "Leo Pauly",
      "photoUrl": "",
      "userId": "17762392962337360052"
     },
     "user_tz": -60
    },
    "id": "3JJQdteW0mWQ",
    "outputId": "55bdbc18-9ba8-4aab-886c-c5965718248f"
   },
   "outputs": [
    {
     "name": "stdout",
     "output_type": "stream",
     "text": [
      "Name:Leo pauly\n",
      "Description: Program for implementing Flow-PINN\n"
     ]
    }
   ],
   "source": [
    "print('Name:Leo pauly')\n",
    "print('Description: Program for implementing Flow-PINN')"
   ]
  },
  {
   "cell_type": "markdown",
   "metadata": {
    "id": "osKwGPpwqqIZ"
   },
   "source": [
    "For reference, PINN & SciANN package tutorial: https://www.youtube.com/watch?v=20NEQFcdp3o&ab_channel=DesignSafe-CIMedia"
   ]
  },
  {
   "cell_type": "markdown",
   "metadata": {
    "id": "JXeJVVfd0mWS"
   },
   "source": [
    "#### **Install**\n",
    "\n",
    "This will install SciANN library and all the dependecies"
   ]
  },
  {
   "cell_type": "code",
   "execution_count": 2,
   "metadata": {
    "colab": {
     "base_uri": "https://localhost:8080/"
    },
    "executionInfo": {
     "elapsed": 3220,
     "status": "ok",
     "timestamp": 1627514612197,
     "user": {
      "displayName": "Leo Pauly",
      "photoUrl": "",
      "userId": "17762392962337360052"
     },
     "user_tz": -60
    },
    "id": "GNj-yJtP4KjM",
    "outputId": "04f22adc-d9d3-428a-e2ae-63347ae19640"
   },
   "outputs": [],
   "source": [
    "#!pip install sciann"
   ]
  },
  {
   "cell_type": "markdown",
   "metadata": {
    "id": "yPvfnsTpsEIk"
   },
   "source": [
    "#### **Import**"
   ]
  },
  {
   "cell_type": "code",
   "execution_count": 3,
   "metadata": {
    "executionInfo": {
     "elapsed": 15,
     "status": "ok",
     "timestamp": 1627514612198,
     "user": {
      "displayName": "Leo Pauly",
      "photoUrl": "",
      "userId": "17762392962337360052"
     },
     "user_tz": -60
    },
    "id": "6AJcsTGv8Apr"
   },
   "outputs": [
    {
     "name": "stdout",
     "output_type": "stream",
     "text": [
      "---------------------- SCIANN 0.6.3.1 ---------------------- \n",
      "For details, check out our review paper and the documentation at: \n",
      " +  \"https://www.sciencedirect.com/science/article/pii/S0045782520307374\", \n",
      " +  \"https://arxiv.org/abs/2005.08803\", \n",
      " +  \"https://www.sciann.com\". \n",
      "\n",
      " Need support or would like to contribute, please join sciann`s slack group: \n",
      " +  \"https://join.slack.com/t/sciann/shared_invite/zt-ne1f5jlx-k_dY8RGo3ZreDXwz0f~CeA\" \n",
      " \n"
     ]
    }
   ],
   "source": [
    "import numpy as np\n",
    "np.random.seed(64)\n",
    "import matplotlib.pyplot as plt \n",
    "import sciann as sn \n",
    "import pandas as pd\n",
    "from numpy import pi\n",
    "from sciann.utils.math import diff, sign, sin\n",
    "import keras\n",
    "from sklearn.model_selection import train_test_split\n",
    "from sklearn.metrics import mean_squared_error\n",
    "np.set_printoptions(suppress=True)"
   ]
  },
  {
   "cell_type": "markdown",
   "metadata": {
    "id": "ypbprauBsLHY"
   },
   "source": [
    "Run the following only if using google Colab. It will ennable you to load data from google drive. Ignore if running on you local machine. "
   ]
  },
  {
   "cell_type": "code",
   "execution_count": 4,
   "metadata": {
    "colab": {
     "base_uri": "https://localhost:8080/"
    },
    "executionInfo": {
     "elapsed": 14,
     "status": "ok",
     "timestamp": 1627514612199,
     "user": {
      "displayName": "Leo Pauly",
      "photoUrl": "",
      "userId": "17762392962337360052"
     },
     "user_tz": -60
    },
    "id": "0Cx-WY3d17zD",
    "outputId": "fcd1b5ef-d173-4928-b574-3c3044c5935d"
   },
   "outputs": [],
   "source": [
    "#from google.colab import drive\n",
    "#drive.mount('/content/gdrive')"
   ]
  },
  {
   "cell_type": "markdown",
   "metadata": {
    "id": "akWSm5gp8OqZ"
   },
   "source": [
    "#### **Flow-PINN** \n",
    "\n",
    "Details of defining functionls is available here: https://www.sciann.com/getting-started/functional-guide/\n",
    "\n",
    "Details of deifing the model can be found here: https://www.sciann.com/scimodels/#scimodel\n",
    "\n"
   ]
  },
  {
   "cell_type": "markdown",
   "metadata": {
    "id": "m6dqkwkpP0d_"
   },
   "source": [
    "##### **Dimensions**\n",
    "\n",
    "\n",
    "![image.png](data:image/png;base64,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)"
   ]
  },
  {
   "cell_type": "code",
   "execution_count": 5,
   "metadata": {
    "collapsed": true,
    "executionInfo": {
     "elapsed": 7,
     "status": "ok",
     "timestamp": 1627514612200,
     "user": {
      "displayName": "Leo Pauly",
      "photoUrl": "",
      "userId": "17762392962337360052"
     },
     "user_tz": -60
    },
    "id": "1uOaboCFBmSG"
   },
   "outputs": [],
   "source": [
    "L1=1\n",
    "L2=.5\n",
    "H1=1\n",
    "H2=0"
   ]
  },
  {
   "cell_type": "markdown",
   "metadata": {
    "id": "hlxmiDESPFD6"
   },
   "source": [
    "##### **Inputs:** x,y \n",
    "\n",
    "##### **Outputs:** v (x,y) (Darcy's velocity); K(x,y) (hydraulic conductivity); h (x,y)(pressure head)"
   ]
  },
  {
   "cell_type": "code",
   "execution_count": 6,
   "metadata": {
    "collapsed": true,
    "executionInfo": {
     "elapsed": 266,
     "status": "ok",
     "timestamp": 1627514612460,
     "user": {
      "displayName": "Leo Pauly",
      "photoUrl": "",
      "userId": "17762392962337360052"
     },
     "user_tz": -60
    },
    "id": "IphAjNlN8I2s"
   },
   "outputs": [],
   "source": [
    "x = sn.Variable('x',dtype='float64')\n",
    "y = sn.Variable('y',dtype='float64')\n",
    "v = sn.Functional('v', [x,y], 2*[20], 'relu')\n",
    "K = sn.Functional('K', [x,y], 2*[20], 'relu')\n",
    "h = sn.Functional('h', [x,y], 2*[20], 'relu')"
   ]
  },
  {
   "cell_type": "markdown",
   "metadata": {
    "id": "bhLiAud8IITi"
   },
   "source": [
    "##### **Darcy's Equation:**\n",
    "\n",
    "\n",
    "![image.png](data:image/png;base64,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)"
   ]
  },
  {
   "cell_type": "code",
   "execution_count": 7,
   "metadata": {
    "collapsed": true,
    "executionInfo": {
     "elapsed": 191,
     "status": "ok",
     "timestamp": 1627514612648,
     "user": {
      "displayName": "Leo Pauly",
      "photoUrl": "",
      "userId": "17762392962337360052"
     },
     "user_tz": -60
    },
    "id": "i2SHomId-9Og"
   },
   "outputs": [],
   "source": [
    "d1 = sn.Data(v)\n",
    "d2 = sn.Data(K)\n",
    "d3 = sn.Data(h)\n",
    "pde1=pow(diff(h, x),2)\n",
    "pde2=pow(diff(h, y),2)\n",
    "C1 = -v-(K*(pow(pde1+pde2,.5)))"
   ]
  },
  {
   "cell_type": "markdown",
   "metadata": {
    "id": "8e89S3QBPdaP"
   },
   "source": [
    "**Boundary Conditions:**\n",
    "\n",
    "![image.png](data:image/png;base64,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)"
   ]
  },
  {
   "cell_type": "code",
   "execution_count": 8,
   "metadata": {
    "collapsed": true,
    "executionInfo": {
     "elapsed": 5,
     "status": "ok",
     "timestamp": 1627514612649,
     "user": {
      "displayName": "Leo Pauly",
      "photoUrl": "",
      "userId": "17762392962337360052"
     },
     "user_tz": -60
    },
    "id": "4bDJqnnN-KWX"
   },
   "outputs": [],
   "source": [
    "TOL = 0.001\n",
    "\n",
    "B1 = (1 - sign(x - (-L1+TOL))) * (h-H1)\n",
    "B2 = (1 + sign(x - (L1-TOL))) * (h-H2)\n",
    "\n",
    "B3 = (1 - sign(y - (-L2+TOL))) * (-K*diff(h,y))\n",
    "B4 = (1 + sign(y - (L2-TOL))) * (-K*diff(h,y))"
   ]
  },
  {
   "cell_type": "markdown",
   "metadata": {
    "id": "SN009pJjL7SM"
   },
   "source": [
    "Visualising boundary condition functions used:"
   ]
  },
  {
   "cell_type": "code",
   "execution_count": 9,
   "metadata": {
    "colab": {
     "base_uri": "https://localhost:8080/",
     "height": 573
    },
    "executionInfo": {
     "elapsed": 383,
     "status": "ok",
     "timestamp": 1627514613028,
     "user": {
      "displayName": "Leo Pauly",
      "photoUrl": "",
      "userId": "17762392962337360052"
     },
     "user_tz": -60
    },
    "id": "cwQkEdncE1U5",
    "outputId": "ba887267-5b84-4dd3-d117-b2f42762d742"
   },
   "outputs": [
    {
     "data": {
      "image/png": "[encoded data removed]",
      "text/plain": [
       "<matplotlib.figure.Figure at 0x2b536ab35b70>"
      ]
     },
     "metadata": {},
     "output_type": "display_data"
    },
    {
     "data": {
      "image/png": "[encoded data removed]",
      "text/plain": [
       "<matplotlib.figure.Figure at 0x2b536ab353c8>"
      ]
     },
     "metadata": {},
     "output_type": "display_data"
    }
   ],
   "source": [
    "psuedo_x=np.linspace(-2,2,100)\n",
    "\n",
    "psuedo_x_multiplier_B1=(1 - np.sign(psuedo_x - (-L1+TOL))) \n",
    "plt.plot(psuedo_x,psuedo_x_multiplier_B1)\n",
    "plt.title('Multiplier for B1 (h-H1)')\n",
    "plt.xlabel('x values')\n",
    "plt.show()\n",
    "\n",
    "psuedo_x_multiplier_B2=(1 + np.sign(psuedo_x - (L1-TOL))) \n",
    "plt.plot(psuedo_x,psuedo_x_multiplier_B2)\n",
    "plt.title('Multiplier for B2 (h-H2)')\n",
    "plt.xlabel('x values')\n",
    "plt.show()"
   ]
  },
  {
   "cell_type": "code",
   "execution_count": 10,
   "metadata": {
    "colab": {
     "base_uri": "https://localhost:8080/",
     "height": 573
    },
    "executionInfo": {
     "elapsed": 515,
     "status": "ok",
     "timestamp": 1627514613540,
     "user": {
      "displayName": "Leo Pauly",
      "photoUrl": "",
      "userId": "17762392962337360052"
     },
     "user_tz": -60
    },
    "id": "AMT1SAvWGFsv",
    "outputId": "f9103a27-821c-4aaf-a734-33acf9ca8c06"
   },
   "outputs": [
    {
     "data": {
      "image/png": "[encoded data removed]",
      "text/plain": [
       "<matplotlib.figure.Figure at 0x2b536aab0668>"
      ]
     },
     "metadata": {},
     "output_type": "display_data"
    },
    {
     "data": {
      "image/png": "[encoded data removed]",
      "text/plain": [
       "<matplotlib.figure.Figure at 0x2b53737a3588>"
      ]
     },
     "metadata": {},
     "output_type": "display_data"
    }
   ],
   "source": [
    "psuedo_y=np.linspace(-2,2,100)\n",
    "\n",
    "psuedo_y_multiplier_B3=(1 - np.sign(psuedo_y - (-L2+TOL)))\n",
    "plt.plot(psuedo_y,psuedo_y_multiplier_B3)\n",
    "plt.title('Multiplier for B3 (-K*diff(h,y))')\n",
    "plt.xlabel('y values')\n",
    "plt.show()\n",
    "\n",
    "psuedo_y_multiplier_B4=(1 + np.sign(psuedo_y - (L2-TOL))) \n",
    "plt.plot(psuedo_y,psuedo_y_multiplier_B4)\n",
    "plt.title('Multiplier for B4 (-K*diff(h,y))')\n",
    "plt.xlabel('y values')\n",
    "plt.show()"
   ]
  },
  {
   "cell_type": "markdown",
   "metadata": {
    "id": "iU4GmkfIJiZq"
   },
   "source": [
    "######  **Model definition**"
   ]
  },
  {
   "cell_type": "code",
   "execution_count": 11,
   "metadata": {
    "executionInfo": {
     "elapsed": 497,
     "status": "ok",
     "timestamp": 1627514614034,
     "user": {
      "displayName": "Leo Pauly",
      "photoUrl": "",
      "userId": "17762392962337360052"
     },
     "user_tz": -60
    },
    "id": "38nC2ILu-47f"
   },
   "outputs": [
    {
     "name": "stdout",
     "output_type": "stream",
     "text": [
      "('You must install pydot (`pip install pydot`) and install graphviz (see instructions at https://graphviz.gitlab.io/download/) ', 'for plot_model/model_to_dot to work.')\n"
     ]
    }
   ],
   "source": [
    "m = sn.SciModel([x,y], [d1,d2,d3,C1,B1,B2,B3,B4],loss_func='mse',plot_to_file='./Flow-PINN.png')"
   ]
  },
  {
   "cell_type": "markdown",
   "metadata": {
    "id": "By_guVFaXFLn"
   },
   "source": [
    "#### **Dataset**\n",
    "\n",
    "Datasets in .xlxs format are loaded using pandas python library: https://pandas.pydata.org/"
   ]
  },
  {
   "cell_type": "code",
   "execution_count": 12,
   "metadata": {
    "executionInfo": {
     "elapsed": 8,
     "status": "ok",
     "timestamp": 1627514614036,
     "user": {
      "displayName": "Leo Pauly",
      "photoUrl": "",
      "userId": "17762392962337360052"
     },
     "user_tz": -60
    },
    "id": "SkDVxkCu0mWZ"
   },
   "outputs": [
    {
     "ename": "FileNotFoundError",
     "evalue": "[Errno 2] No such file or directory: '/content/gdrive/My Drive/Colab Notebooks/PINN/Darcy_Flux.xlsx'",
     "output_type": "error",
     "traceback": [
      "\u001b[0;31m---------------------------------------------------------------------------\u001b[0m",
      "\u001b[0;31mFileNotFoundError\u001b[0m                         Traceback (most recent call last)",
      "\u001b[0;32m<ipython-input-12-9900e5f53ca0>\u001b[0m in \u001b[0;36m<module>\u001b[0;34m()\u001b[0m\n\u001b[0;32m----> 1\u001b[0;31m \u001b[0mv_data_df\u001b[0m\u001b[0;34m=\u001b[0m\u001b[0mpd\u001b[0m\u001b[0;34m.\u001b[0m\u001b[0mread_excel\u001b[0m\u001b[0;34m(\u001b[0m\u001b[0;34m'/content/gdrive/My Drive/Colab Notebooks/PINN/Darcy_Flux.xlsx'\u001b[0m\u001b[0;34m)\u001b[0m\u001b[0;34m\u001b[0m\u001b[0m\n\u001b[0m\u001b[1;32m      2\u001b[0m \u001b[0mh_data_df\u001b[0m\u001b[0;34m=\u001b[0m\u001b[0mpd\u001b[0m\u001b[0;34m.\u001b[0m\u001b[0mread_excel\u001b[0m\u001b[0;34m(\u001b[0m\u001b[0;34m'/content/gdrive/My Drive/Colab Notebooks/PINN/Hydraulic_Head.xlsx'\u001b[0m\u001b[0;34m)\u001b[0m\u001b[0;34m\u001b[0m\u001b[0m\n",
      "\u001b[0;32m/opt/conda/lib/python3.6/site-packages/pandas/io/excel.py\u001b[0m in \u001b[0;36mread_excel\u001b[0;34m(io, sheetname, header, skiprows, skip_footer, index_col, names, parse_cols, parse_dates, date_parser, na_values, thousands, convert_float, has_index_names, converters, dtype, true_values, false_values, engine, squeeze, **kwds)\u001b[0m\n\u001b[1;32m    198\u001b[0m \u001b[0;34m\u001b[0m\u001b[0m\n\u001b[1;32m    199\u001b[0m     \u001b[0;32mif\u001b[0m \u001b[0;32mnot\u001b[0m \u001b[0misinstance\u001b[0m\u001b[0;34m(\u001b[0m\u001b[0mio\u001b[0m\u001b[0;34m,\u001b[0m \u001b[0mExcelFile\u001b[0m\u001b[0;34m)\u001b[0m\u001b[0;34m:\u001b[0m\u001b[0;34m\u001b[0m\u001b[0m\n\u001b[0;32m--> 200\u001b[0;31m         \u001b[0mio\u001b[0m \u001b[0;34m=\u001b[0m \u001b[0mExcelFile\u001b[0m\u001b[0;34m(\u001b[0m\u001b[0mio\u001b[0m\u001b[0;34m,\u001b[0m \u001b[0mengine\u001b[0m\u001b[0;34m=\u001b[0m\u001b[0mengine\u001b[0m\u001b[0;34m)\u001b[0m\u001b[0;34m\u001b[0m\u001b[0m\n\u001b[0m\u001b[1;32m    201\u001b[0m \u001b[0;34m\u001b[0m\u001b[0m\n\u001b[1;32m    202\u001b[0m     return io._parse_excel(\n",
      "\u001b[0;32m/opt/conda/lib/python3.6/site-packages/pandas/io/excel.py\u001b[0m in \u001b[0;36m__init__\u001b[0;34m(self, io, **kwds)\u001b[0m\n\u001b[1;32m    255\u001b[0m             \u001b[0mself\u001b[0m\u001b[0;34m.\u001b[0m\u001b[0mbook\u001b[0m \u001b[0;34m=\u001b[0m \u001b[0mxlrd\u001b[0m\u001b[0;34m.\u001b[0m\u001b[0mopen_workbook\u001b[0m\u001b[0;34m(\u001b[0m\u001b[0mfile_contents\u001b[0m\u001b[0;34m=\u001b[0m\u001b[0mdata\u001b[0m\u001b[0;34m)\u001b[0m\u001b[0;34m\u001b[0m\u001b[0m\n\u001b[1;32m    256\u001b[0m         \u001b[0;32melif\u001b[0m \u001b[0misinstance\u001b[0m\u001b[0;34m(\u001b[0m\u001b[0mio\u001b[0m\u001b[0;34m,\u001b[0m \u001b[0mcompat\u001b[0m\u001b[0;34m.\u001b[0m\u001b[0mstring_types\u001b[0m\u001b[0;34m)\u001b[0m\u001b[0;34m:\u001b[0m\u001b[0;34m\u001b[0m\u001b[0m\n\u001b[0;32m--> 257\u001b[0;31m             \u001b[0mself\u001b[0m\u001b[0;34m.\u001b[0m\u001b[0mbook\u001b[0m \u001b[0;34m=\u001b[0m \u001b[0mxlrd\u001b[0m\u001b[0;34m.\u001b[0m\u001b[0mopen_workbook\u001b[0m\u001b[0;34m(\u001b[0m\u001b[0mio\u001b[0m\u001b[0;34m)\u001b[0m\u001b[0;34m\u001b[0m\u001b[0m\n\u001b[0m\u001b[1;32m    258\u001b[0m         \u001b[0;32melse\u001b[0m\u001b[0;34m:\u001b[0m\u001b[0;34m\u001b[0m\u001b[0m\n\u001b[1;32m    259\u001b[0m             raise ValueError('Must explicitly set engine if not passing in'\n",
      "\u001b[0;32m/opt/conda/lib/python3.6/site-packages/xlrd/__init__.py\u001b[0m in \u001b[0;36mopen_workbook\u001b[0;34m(filename, logfile, verbosity, use_mmap, file_contents, encoding_override, formatting_info, on_demand, ragged_rows)\u001b[0m\n\u001b[1;32m    393\u001b[0m         \u001b[0mpeek\u001b[0m \u001b[0;34m=\u001b[0m \u001b[0mfile_contents\u001b[0m\u001b[0;34m[\u001b[0m\u001b[0;34m:\u001b[0m\u001b[0mpeeksz\u001b[0m\u001b[0;34m]\u001b[0m\u001b[0;34m\u001b[0m\u001b[0m\n\u001b[1;32m    394\u001b[0m     \u001b[0;32melse\u001b[0m\u001b[0;34m:\u001b[0m\u001b[0;34m\u001b[0m\u001b[0m\n\u001b[0;32m--> 395\u001b[0;31m         \u001b[0;32mwith\u001b[0m \u001b[0mopen\u001b[0m\u001b[0;34m(\u001b[0m\u001b[0mfilename\u001b[0m\u001b[0;34m,\u001b[0m \u001b[0;34m\"rb\"\u001b[0m\u001b[0;34m)\u001b[0m \u001b[0;32mas\u001b[0m \u001b[0mf\u001b[0m\u001b[0;34m:\u001b[0m\u001b[0;34m\u001b[0m\u001b[0m\n\u001b[0m\u001b[1;32m    396\u001b[0m             \u001b[0mpeek\u001b[0m \u001b[0;34m=\u001b[0m \u001b[0mf\u001b[0m\u001b[0;34m.\u001b[0m\u001b[0mread\u001b[0m\u001b[0;34m(\u001b[0m\u001b[0mpeeksz\u001b[0m\u001b[0;34m)\u001b[0m\u001b[0;34m\u001b[0m\u001b[0m\n\u001b[1;32m    397\u001b[0m     \u001b[0;32mif\u001b[0m \u001b[0mpeek\u001b[0m \u001b[0;34m==\u001b[0m \u001b[0;34mb\"PK\\x03\\x04\"\u001b[0m\u001b[0;34m:\u001b[0m \u001b[0;31m# a ZIP file\u001b[0m\u001b[0;34m\u001b[0m\u001b[0m\n",
      "\u001b[0;31mFileNotFoundError\u001b[0m: [Errno 2] No such file or directory: '/content/gdrive/My Drive/Colab Notebooks/PINN/Darcy_Flux.xlsx'"
     ]
    }
   ],
   "source": [
    "v_data_df=pd.read_excel('./Darcy_Flux.xlsx')#('/content/gdrive/My Drive/Colab Notebooks/PINN/Darcy_Flux.xlsx')  \n",
    "h_data_df=pd.read_excel('./Hydraulic_Head.xlsx')#('/content/gdrive/My Drive/Colab Notebooks/PINN/Hydraulic_Head.xlsx')  "
   ]
  },
  {
   "cell_type": "code",
   "execution_count": null,
   "metadata": {
    "colab": {
     "base_uri": "https://localhost:8080/"
    },
    "executionInfo": {
     "elapsed": 16,
     "status": "ok",
     "timestamp": 1627514614321,
     "user": {
      "displayName": "Leo Pauly",
      "photoUrl": "",
      "userId": "17762392962337360052"
     },
     "user_tz": -60
    },
    "id": "ePmu4m3B0mWa",
    "outputId": "9d1493aa-f3a0-49aa-e2c1-4fb516833626"
   },
   "outputs": [],
   "source": [
    "x1_data=np.array(v_data_df['X'].values)\n",
    "x2_data=np.array(v_data_df['Y'].values)\n",
    "\n",
    "v_data=np.array(v_data_df['VINIT'].values)\n",
    "print('v_data:',v_data.shape)\n",
    "\n",
    "K_data=[]\n",
    "for i in range(len(x1_data)):\n",
    "  if ((x1_data[i]*x1_data[i])+(x2_data[i]*x2_data[i])<=(.25*L2)):\n",
    "    K_data.append(0)\n",
    "  else:\n",
    "    K_data.append(.5)\n",
    "K_data=np.array(K_data)\n",
    "print('K_test:',K_data.shape)\n",
    "\n",
    "h_data=np.array(h_data_df['FINIT'].values)\n",
    "print('h_data:',h_data.shape)"
   ]
  },
  {
   "cell_type": "markdown",
   "metadata": {
    "id": "XgmzkhahXWE3"
   },
   "source": [
    "**Visualizing data**"
   ]
  },
  {
   "cell_type": "code",
   "execution_count": null,
   "metadata": {
    "colab": {
     "base_uri": "https://localhost:8080/",
     "height": 241
    },
    "executionInfo": {
     "elapsed": 418,
     "status": "ok",
     "timestamp": 1627514614735,
     "user": {
      "displayName": "Leo Pauly",
      "photoUrl": "",
      "userId": "17762392962337360052"
     },
     "user_tz": -60
    },
    "id": "3sV5BR23VOVc",
    "outputId": "92c57b5d-dc0f-41c7-96ab-ac78fd8dd232"
   },
   "outputs": [],
   "source": [
    "fig = plt.figure(figsize=(6, 3))\n",
    "plt.scatter(x1_data, x2_data, c=v_data, cmap='viridis',linewidths=.0001)\n",
    "plt.xlabel('-1=<x<=1')\n",
    "plt.ylabel('-.5=<y<=.5')\n",
    "plt.title('v (Darcys velocity)')\n",
    "plt.colorbar()\n",
    "plt.show()"
   ]
  },
  {
   "cell_type": "code",
   "execution_count": null,
   "metadata": {
    "colab": {
     "base_uri": "https://localhost:8080/",
     "height": 241
    },
    "executionInfo": {
     "elapsed": 633,
     "status": "ok",
     "timestamp": 1627514615362,
     "user": {
      "displayName": "Leo Pauly",
      "photoUrl": "",
      "userId": "17762392962337360052"
     },
     "user_tz": -60
    },
    "id": "Im00ia-dRljx",
    "outputId": "ddad15dc-4d7e-45aa-ce2c-608757ee1868"
   },
   "outputs": [],
   "source": [
    "fig = plt.figure(figsize=(6, 3))\n",
    "plt.scatter(x1_data, x2_data, c=K_data, cmap='viridis',linewidths=.0001)\n",
    "plt.xlabel('-1=<x<=1')\n",
    "plt.ylabel('-.5=<y<=.5')\n",
    "plt.title('K (Hydraulic Conductivity)')\n",
    "plt.colorbar()\n",
    "plt.show()"
   ]
  },
  {
   "cell_type": "code",
   "execution_count": null,
   "metadata": {
    "colab": {
     "base_uri": "https://localhost:8080/",
     "height": 241
    },
    "executionInfo": {
     "elapsed": 23,
     "status": "ok",
     "timestamp": 1627514615362,
     "user": {
      "displayName": "Leo Pauly",
      "photoUrl": "",
      "userId": "17762392962337360052"
     },
     "user_tz": -60
    },
    "id": "Q103W5xwVPWe",
    "outputId": "71d53614-d27e-4010-9e1c-4d9e8f68c360"
   },
   "outputs": [],
   "source": [
    "fig = plt.figure(figsize=(6, 3))\n",
    "plt.scatter(x1_data, x2_data, c=h_data, cmap='viridis',linewidths=.0001)\n",
    "plt.xlabel('-1=<x<=1')\n",
    "plt.ylabel('-.5=<y<=.5')\n",
    "plt.title('h (Pressure head)')\n",
    "plt.colorbar()\n",
    "plt.show()"
   ]
  },
  {
   "cell_type": "code",
   "execution_count": null,
   "metadata": {
    "colab": {
     "base_uri": "https://localhost:8080/"
    },
    "executionInfo": {
     "elapsed": 20,
     "status": "ok",
     "timestamp": 1627514615363,
     "user": {
      "displayName": "Leo Pauly",
      "photoUrl": "",
      "userId": "17762392962337360052"
     },
     "user_tz": -60
    },
    "id": "aqE3V1Rn0mWb",
    "outputId": "48ad11e1-2bc5-4c08-d2ad-7bcb1b3ed98e"
   },
   "outputs": [],
   "source": [
    "train_test_ratio=.7\n",
    "x1_train, x1_test,x2_train, x2_test, v_train, v_test,K_train, K_test,h_train, h_test = train_test_split(x1_data,x2_data, v_data,K_data,h_data, train_size=train_test_ratio, random_state=512)\n",
    "print('test:train ratio:',train_test_ratio)\n",
    "print('Training sizes(x1,x2,v,K,h):',x1_train.shape,x2_train.shape,v_train.shape,K_train.shape,h_train.shape)\n",
    "print('Testing sizes(x1,x2,v,K,h):',x1_test.shape,x2_test.shape,v_test.shape,K_test.shape,h_test.shape)\n",
    "C1_train=B1_train=B2_train=B3_train=B4_train = 'zeros'\n",
    "C1_test=B1_test=B2_test=B3_test=B4_test = np.zeros(x1_test.shape)"
   ]
  },
  {
   "cell_type": "code",
   "execution_count": null,
   "metadata": {
    "colab": {
     "base_uri": "https://localhost:8080/"
    },
    "executionInfo": {
     "elapsed": 12939,
     "status": "ok",
     "timestamp": 1627514628291,
     "user": {
      "displayName": "Leo Pauly",
      "photoUrl": "",
      "userId": "17762392962337360052"
     },
     "user_tz": -60
    },
    "id": "16tYQS-E0mWd",
    "outputId": "17e51867-504e-4ba6-f56f-b25869f2b2e5"
   },
   "outputs": [],
   "source": [
    "v_pred = v.eval(m, [x1_test,x2_test])\n",
    "h_pred = h.eval(m, [x1_test,x2_test])\n",
    "K_pred = K.eval(m, [x1_test,x1_test])\n",
    "print('MSE for v before training:',(mean_squared_error(v_test,v_pred)))\n",
    "print('MSE for h before training:',(mean_squared_error(h_test,h_pred)))\n",
    "print('MSE for K before training:',(mean_squared_error(K_test,K_pred)))"
   ]
  },
  {
   "cell_type": "markdown",
   "metadata": {
    "id": "lcYv5Z7w0mWe"
   },
   "source": [
    "#### **Training**\n",
    "\n",
    "Details of the model.train function can be found here: https://www.sciann.com/scimodels/#train"
   ]
  },
  {
   "cell_type": "code",
   "execution_count": null,
   "metadata": {
    "colab": {
     "base_uri": "https://localhost:8080/"
    },
    "executionInfo": {
     "elapsed": 680308,
     "status": "ok",
     "timestamp": 1627515308584,
     "user": {
      "displayName": "Leo Pauly",
      "photoUrl": "",
      "userId": "17762392962337360052"
     },
     "user_tz": -60
    },
    "id": "icGZk7l-0mWf",
    "outputId": "71e762b1-269d-4e5c-b1ba-d4d2a1e19b2b",
    "scrolled": true
   },
   "outputs": [],
   "source": [
    "learning_rate=0.001\n",
    "epochs=50\n",
    "history = m.train([x1_train,x2_train], [v_train,K_train,h_train,C1_train,B1_train,B2_train,B3_train,B4_train], learning_rate=learning_rate, epochs=epochs, verbose=2,batch_size=100,validation_data=([x1_test,x2_test],[v_test,K_test,h_test,C1_test,B1_test,B2_test,B3_test,B4_test]))\n"
   ]
  },
  {
   "cell_type": "markdown",
   "metadata": {
    "id": "GZY1RYc0N2Zg"
   },
   "source": [
    "#### **Plotting Loss**"
   ]
  },
  {
   "cell_type": "code",
   "execution_count": null,
   "metadata": {
    "colab": {
     "base_uri": "https://localhost:8080/"
    },
    "executionInfo": {
     "elapsed": 19,
     "status": "ok",
     "timestamp": 1627515308585,
     "user": {
      "displayName": "Leo Pauly",
      "photoUrl": "",
      "userId": "17762392962337360052"
     },
     "user_tz": -60
    },
    "id": "nTC9M5aPeA53",
    "outputId": "027d0eec-5248-474e-a485-5512ea734a79"
   },
   "outputs": [],
   "source": [
    "print(history.history.keys())"
   ]
  },
  {
   "cell_type": "code",
   "execution_count": null,
   "metadata": {
    "colab": {
     "base_uri": "https://localhost:8080/",
     "height": 281
    },
    "executionInfo": {
     "elapsed": 498,
     "status": "ok",
     "timestamp": 1627515309079,
     "user": {
      "displayName": "Leo Pauly",
      "photoUrl": "",
      "userId": "17762392962337360052"
     },
     "user_tz": -60
    },
    "id": "cbqSDZhfIIoB",
    "outputId": "5347c8db-dce1-4aa9-9894-2eef6652649b"
   },
   "outputs": [],
   "source": [
    "plt.plot(range(0,epochs),history.history['v_loss'],color='red',label='train')\n",
    "plt.plot(range(0,epochs),history.history['val_v_loss'],label='test')\n",
    "plt.title('v_loss vs epoch')\n",
    "plt.legend()\n",
    "plt.show()"
   ]
  },
  {
   "cell_type": "code",
   "execution_count": null,
   "metadata": {
    "colab": {
     "base_uri": "https://localhost:8080/",
     "height": 281
    },
    "executionInfo": {
     "elapsed": 679,
     "status": "ok",
     "timestamp": 1627515309752,
     "user": {
      "displayName": "Leo Pauly",
      "photoUrl": "",
      "userId": "17762392962337360052"
     },
     "user_tz": -60
    },
    "id": "J5cSef0j5Dnh",
    "outputId": "d90f6693-c6e0-4153-b280-af00e5edfb1c"
   },
   "outputs": [],
   "source": [
    "plt.plot(range(0,epochs),history.history['K_loss'],color='red',label='train')\n",
    "plt.plot(range(0,epochs),history.history['val_K_loss'],label='test')\n",
    "plt.title('K_loss vs epoch')\n",
    "plt.legend()\n",
    "plt.show()"
   ]
  },
  {
   "cell_type": "code",
   "execution_count": null,
   "metadata": {
    "colab": {
     "base_uri": "https://localhost:8080/",
     "height": 281
    },
    "executionInfo": {
     "elapsed": 132,
     "status": "ok",
     "timestamp": 1627515309753,
     "user": {
      "displayName": "Leo Pauly",
      "photoUrl": "",
      "userId": "17762392962337360052"
     },
     "user_tz": -60
    },
    "id": "dr75Gh0mJm1K",
    "outputId": "77d5acf6-ea1d-47e0-9867-5c2b4ae0925c"
   },
   "outputs": [],
   "source": [
    "plt.plot(range(0,epochs),history.history['h_loss'],color='red',label='train')\n",
    "plt.plot(range(0,epochs),history.history['val_h_loss'],label='test')\n",
    "plt.title('h_loss vs epoch')\n",
    "plt.legend()\n",
    "plt.show()"
   ]
  },
  {
   "cell_type": "code",
   "execution_count": null,
   "metadata": {
    "colab": {
     "base_uri": "https://localhost:8080/",
     "height": 281
    },
    "executionInfo": {
     "elapsed": 840,
     "status": "ok",
     "timestamp": 1627515366253,
     "user": {
      "displayName": "Leo Pauly",
      "photoUrl": "",
      "userId": "17762392962337360052"
     },
     "user_tz": -60
    },
    "id": "pRSnHJuddQ_Q",
    "outputId": "db35e04b-3847-444c-e3a4-fbd91c7a7085"
   },
   "outputs": [],
   "source": [
    "plt.plot(range(0,epochs),history.history['mul_13_loss'],color='red',label='train')\n",
    "plt.plot(range(0,epochs),history.history['val_mul_13_loss'],label='test')\n",
    "plt.title('B1_loss vs epoch')\n",
    "plt.legend()\n",
    "plt.show()"
   ]
  },
  {
   "cell_type": "code",
   "execution_count": null,
   "metadata": {
    "colab": {
     "base_uri": "https://localhost:8080/",
     "height": 281
    },
    "executionInfo": {
     "elapsed": 329,
     "status": "ok",
     "timestamp": 1627515367499,
     "user": {
      "displayName": "Leo Pauly",
      "photoUrl": "",
      "userId": "17762392962337360052"
     },
     "user_tz": -60
    },
    "id": "ri_5ICfydcnF",
    "outputId": "36e0a513-3145-4422-fcc1-23a98fa86ed4"
   },
   "outputs": [],
   "source": [
    "plt.plot(range(0,epochs),history.history['mul_14_loss'],color='red',label='train')\n",
    "plt.plot(range(0,epochs),history.history['val_mul_14_loss'],label='test')\n",
    "plt.title('B2_loss vs epoch')\n",
    "plt.legend()\n",
    "plt.show()"
   ]
  },
  {
   "cell_type": "code",
   "execution_count": null,
   "metadata": {
    "colab": {
     "base_uri": "https://localhost:8080/",
     "height": 281
    },
    "executionInfo": {
     "elapsed": 719,
     "status": "ok",
     "timestamp": 1627515370511,
     "user": {
      "displayName": "Leo Pauly",
      "photoUrl": "",
      "userId": "17762392962337360052"
     },
     "user_tz": -60
    },
    "id": "WHTudCWIdkFj",
    "outputId": "f7af9ec8-1f4c-47aa-c3ce-29a89e7b4f8c"
   },
   "outputs": [],
   "source": [
    "plt.plot(range(0,epochs),history.history['mul_17_loss'],color='red',label='train')\n",
    "plt.plot(range(0,epochs),history.history['val_mul_17_loss'],label='test')\n",
    "plt.title('B3_loss vs epoch')\n",
    "plt.legend()\n",
    "plt.show()"
   ]
  },
  {
   "cell_type": "code",
   "execution_count": null,
   "metadata": {
    "colab": {
     "base_uri": "https://localhost:8080/",
     "height": 281
    },
    "executionInfo": {
     "elapsed": 726,
     "status": "ok",
     "timestamp": 1627515375189,
     "user": {
      "displayName": "Leo Pauly",
      "photoUrl": "",
      "userId": "17762392962337360052"
     },
     "user_tz": -60
    },
    "id": "jhQY6WXRdoef",
    "outputId": "4c838351-8ec4-4bbb-f340-f9d8c1194146"
   },
   "outputs": [],
   "source": [
    "plt.plot(range(0,epochs),history.history['mul_20_loss'],color='red',label='train')\n",
    "plt.plot(range(0,epochs),history.history['val_mul_20_loss'],label='test')\n",
    "plt.title('B4_loss vs epoch')\n",
    "plt.legend()\n",
    "plt.show() "
   ]
  },
  {
   "cell_type": "code",
   "execution_count": null,
   "metadata": {
    "colab": {
     "base_uri": "https://localhost:8080/",
     "height": 281
    },
    "executionInfo": {
     "elapsed": 231,
     "status": "ok",
     "timestamp": 1627515395985,
     "user": {
      "displayName": "Leo Pauly",
      "photoUrl": "",
      "userId": "17762392962337360052"
     },
     "user_tz": -60
    },
    "id": "RfdfilJoJty5",
    "outputId": "278089da-b6fc-44c8-893a-084fa9de14e3"
   },
   "outputs": [],
   "source": [
    "plt.plot(range(0,epochs),history.history['sub_8_loss'],color='red',label='train')\n",
    "plt.plot(range(0,epochs),history.history['val_sub_8_loss'],label='test')\n",
    "plt.legend()\n",
    "plt.title('PDE loss vs epoch')\n",
    "plt.show()"
   ]
  },
  {
   "cell_type": "code",
   "execution_count": null,
   "metadata": {
    "colab": {
     "base_uri": "https://localhost:8080/",
     "height": 281
    },
    "executionInfo": {
     "elapsed": 192,
     "status": "ok",
     "timestamp": 1627515398087,
     "user": {
      "displayName": "Leo Pauly",
      "photoUrl": "",
      "userId": "17762392962337360052"
     },
     "user_tz": -60
    },
    "id": "6EijqaPOKU0s",
    "outputId": "e1df61d0-1b24-46cb-9b02-7fbdfd0f1de7"
   },
   "outputs": [],
   "source": [
    "plt.plot(range(0,epochs),history.history['loss'],color='red',label='train')\n",
    "plt.plot(range(0,epochs),history.history['val_loss'],label='test')\n",
    "plt.title('Net loss vs epoch')\n",
    "plt.legend()\n",
    "plt.show()"
   ]
  },
  {
   "cell_type": "markdown",
   "metadata": {
    "id": "GfwwgJdS0mWf"
   },
   "source": [
    "#### **Testing** "
   ]
  },
  {
   "cell_type": "code",
   "execution_count": null,
   "metadata": {
    "colab": {
     "base_uri": "https://localhost:8080/"
    },
    "executionInfo": {
     "elapsed": 18736,
     "status": "ok",
     "timestamp": 1627515419174,
     "user": {
      "displayName": "Leo Pauly",
      "photoUrl": "",
      "userId": "17762392962337360052"
     },
     "user_tz": -60
    },
    "id": "xWlXzmX4_kU7",
    "outputId": "895cb6b9-f048-4350-d93e-085021fbcc31"
   },
   "outputs": [],
   "source": [
    "v_pred = v.eval(m, [x1_test,x2_test])\n",
    "h_pred = h.eval(m, [x1_test,x2_test])\n",
    "K_pred = K.eval(m, [x1_test,x2_test])\n",
    "print('MSE for v after training:',round(mean_squared_error(v_test,v_pred),10))\n",
    "print('MSE for h after training:',round(mean_squared_error(h_test,h_pred),10))\n",
    "print('MSE for K after training:',round(mean_squared_error(K_test,K_pred),10))\n"
   ]
  },
  {
   "cell_type": "code",
   "execution_count": null,
   "metadata": {
    "colab": {
     "base_uri": "https://localhost:8080/",
     "height": 465
    },
    "executionInfo": {
     "elapsed": 6801,
     "status": "ok",
     "timestamp": 1627515425960,
     "user": {
      "displayName": "Leo Pauly",
      "photoUrl": "",
      "userId": "17762392962337360052"
     },
     "user_tz": -60
    },
    "id": "ALZm_qnhZINJ",
    "outputId": "a93b0acc-af9c-4f79-90ce-ca71edf77fdb"
   },
   "outputs": [],
   "source": [
    "fig = plt.figure(figsize=(6, 3))\n",
    "plt.scatter(x1_test, x2_test, c= v.eval(m, [x1_test,x2_test]), cmap='viridis',linewidths=.0001)\n",
    "plt.xlabel('-1=<x<=1')\n",
    "plt.ylabel('-.5=<y<=.5')\n",
    "plt.title('v_pred (Darcy velocity)')\n",
    "plt.colorbar()\n",
    "plt.show()\n",
    "\n",
    "fig = plt.figure(figsize=(6, 3))\n",
    "plt.scatter(x1_test, x2_test, c= v_test, cmap='viridis',linewidths=.0001)\n",
    "plt.xlabel('-1=<x<=1')\n",
    "plt.ylabel('-.5=<y<=.5')\n",
    "plt.title('v_test (Darcy velocity)')\n",
    "plt.colorbar()\n",
    "plt.show()"
   ]
  },
  {
   "cell_type": "code",
   "execution_count": null,
   "metadata": {
    "colab": {
     "base_uri": "https://localhost:8080/",
     "height": 465
    },
    "executionInfo": {
     "elapsed": 6625,
     "status": "ok",
     "timestamp": 1627515432579,
     "user": {
      "displayName": "Leo Pauly",
      "photoUrl": "",
      "userId": "17762392962337360052"
     },
     "user_tz": -60
    },
    "id": "tVVjjlLZafr1",
    "outputId": "d4558c38-fc1d-44ff-866c-64a6d25b82c9"
   },
   "outputs": [],
   "source": [
    "fig = plt.figure(figsize=(6, 3))\n",
    "plt.scatter(x1_test, x2_test, c= K.eval(m, [x1_test,x2_test]), cmap='viridis',linewidths=.0001)\n",
    "plt.xlabel('-1=<x<=1')\n",
    "plt.ylabel('-.5=<y<=.5')\n",
    "plt.title('K_pred (Hydraulic Conductivity)')\n",
    "plt.colorbar()\n",
    "plt.show()\n",
    "\n",
    "fig = plt.figure(figsize=(6, 3))\n",
    "plt.scatter(x1_test, x2_test, c= K_test, cmap='viridis',linewidths=.0001)\n",
    "plt.xlabel('-1=<x<=1')\n",
    "plt.ylabel('-.5=<y<=.5')\n",
    "plt.title('K_test (Hydraulic Conductivity)')\n",
    "plt.colorbar()\n",
    "plt.show()"
   ]
  },
  {
   "cell_type": "code",
   "execution_count": null,
   "metadata": {
    "colab": {
     "base_uri": "https://localhost:8080/",
     "height": 465
    },
    "executionInfo": {
     "elapsed": 6737,
     "status": "ok",
     "timestamp": 1627515439313,
     "user": {
      "displayName": "Leo Pauly",
      "photoUrl": "",
      "userId": "17762392962337360052"
     },
     "user_tz": -60
    },
    "id": "UU0f3bwhajY0",
    "outputId": "4b0ef6c5-fdbf-464b-bba7-dc6ecdc60882"
   },
   "outputs": [],
   "source": [
    "fig = plt.figure(figsize=(6, 3))\n",
    "plt.scatter(x1_test, x2_test, c= h.eval(m, [x1_test,x2_test]), cmap='viridis',linewidths=.0001)\n",
    "plt.xlabel('-1=<x<=1')\n",
    "plt.ylabel('-.5=<y<=.5')\n",
    "plt.title('h_pred (Pressure head)')\n",
    "plt.colorbar()\n",
    "plt.show()\n",
    "\n",
    "fig = plt.figure(figsize=(6, 3))\n",
    "plt.scatter(x1_test, x2_test, c= h_test, cmap='viridis',linewidths=.0001)\n",
    "plt.xlabel('-1=<x<=1')\n",
    "plt.ylabel('-.5=<y<=.5')\n",
    "plt.title('h_test (Pressure head)')\n",
    "plt.colorbar()\n",
    "plt.show()"
   ]
  },
  {
   "cell_type": "markdown",
   "metadata": {
    "id": "vRQeFd1zWUnk"
   },
   "source": [
    "#### **Simulating**\n"
   ]
  },
  {
   "cell_type": "code",
   "execution_count": null,
   "metadata": {
    "colab": {
     "base_uri": "https://localhost:8080/",
     "height": 241
    },
    "executionInfo": {
     "elapsed": 6488,
     "status": "ok",
     "timestamp": 1627516057365,
     "user": {
      "displayName": "Leo Pauly",
      "photoUrl": "",
      "userId": "17762392962337360052"
     },
     "user_tz": -60
    },
    "id": "ERVMq5WKVyHI",
    "outputId": "f1796dff-3537-4d91-d969-740a7f14b4b7"
   },
   "outputs": [],
   "source": [
    "x1_sim, x2_sim = np.meshgrid(np.linspace(-1, 1, 100), np.linspace(-.5, .5, 100))\n",
    "fig = plt.figure(figsize=(6, 3))\n",
    "v_pred_sim =np.array(v.eval(m, [x1_sim,x2_sim]))\n",
    "plt.contourf(x1_sim, x2_sim, v_pred_sim)\n",
    "plt.xlabel('x')\n",
    "plt.ylabel('y')\n",
    "plt.colorbar()\n",
    "plt.title('Darcys Veloctiy')\n",
    "plt.show()"
   ]
  },
  {
   "cell_type": "code",
   "execution_count": null,
   "metadata": {
    "colab": {
     "base_uri": "https://localhost:8080/",
     "height": 241
    },
    "executionInfo": {
     "elapsed": 6333,
     "status": "ok",
     "timestamp": 1627516041731,
     "user": {
      "displayName": "Leo Pauly",
      "photoUrl": "",
      "userId": "17762392962337360052"
     },
     "user_tz": -60
    },
    "id": "2gw0EvUqFXw2",
    "outputId": "00734fd0-8bc2-44e6-bc6d-a27fef1ccfbb"
   },
   "outputs": [],
   "source": [
    "x1_sim, x2_sim = np.meshgrid(np.linspace(-1, 1, 100), np.linspace(-.5, .5, 100))\n",
    "fig = plt.figure(figsize=(6, 3))\n",
    "v_pred_sim =np.array(K.eval(m, [x1_sim,x2_sim]))\n",
    "plt.contourf(x1_sim, x2_sim, v_pred_sim)\n",
    "plt.xlabel('X')\n",
    "plt.ylabel('Y')\n",
    "plt.colorbar()\n",
    "plt.title('Hydraulic Conductivty')\n",
    "plt.show()"
   ]
  },
  {
   "cell_type": "code",
   "execution_count": null,
   "metadata": {
    "colab": {
     "base_uri": "https://localhost:8080/",
     "height": 241
    },
    "executionInfo": {
     "elapsed": 6514,
     "status": "ok",
     "timestamp": 1627516026692,
     "user": {
      "displayName": "Leo Pauly",
      "photoUrl": "",
      "userId": "17762392962337360052"
     },
     "user_tz": -60
    },
    "id": "R9yWVsPSFgbI",
    "outputId": "5b2a8fb2-9002-422a-8be8-11932c5c5bba"
   },
   "outputs": [],
   "source": [
    "x1_sim, x2_sim = np.meshgrid(np.linspace(-1, 1, 100), np.linspace(-.5, .5, 100))\n",
    "fig = plt.figure(figsize=(6, 3))\n",
    "v_pred_sim =np.array(h.eval(m, [x1_sim,x2_sim]))\n",
    "plt.contourf(x1_sim, x2_sim, v_pred_sim)\n",
    "plt.xlabel('x')\n",
    "plt.ylabel('y')\n",
    "plt.colorbar()\n",
    "plt.title('Pressure head')\n",
    "plt.show()"
   ]
  },
  {
   "cell_type": "code",
   "execution_count": null,
   "metadata": {
    "collapsed": true,
    "id": "yPNOwG87cE2D"
   },
   "outputs": [],
   "source": [
    "print(x1_sim.shape,x2_sim.shape,v_pred_sim.shape)"
   ]
  }
 ],
 "metadata": {
  "accelerator": "TPU",
  "colab": {
   "collapsed_sections": [],
   "name": "Flow-PINN.ipynb",
   "provenance": [
    {
     "file_id": "1sd29fIzQkhzzLuZzCcsNqmavzk-sjKcw",
     "timestamp": 1627403631888
    }
   ],
   "toc_visible": true
  },
  "kernelspec": {
   "display_name": "Python 3",
   "language": "python",
   "name": "python3"
  },
  "language_info": {
   "codemirror_mode": {
    "name": "ipython",
    "version": 3
   },
   "file_extension": ".py",
   "mimetype": "text/x-python",
   "name": "python",
   "nbconvert_exporter": "python",
   "pygments_lexer": "ipython3",
   "version": "3.6.1"
  }
 },
 "nbformat": 4,
 "nbformat_minor": 1
}
