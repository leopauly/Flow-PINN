{
 "cells": [
  {
   "cell_type": "markdown",
   "metadata": {
    "id": "_GjAWEr3TthX"
   },
   "source": [
    "#### Description "
   ]
  },
  {
   "cell_type": "code",
   "execution_count": 1,
   "metadata": {
    "colab": {
     "base_uri": "https://localhost:8080/"
    },
    "executionInfo": {
     "elapsed": 231,
     "status": "ok",
     "timestamp": 1627477896633,
     "user": {
      "displayName": "Leo Pauly",
      "photoUrl": "",
      "userId": "17762392962337360052"
     },
     "user_tz": -60
    },
    "id": "3JJQdteW0mWQ",
    "outputId": "95d9fc70-4dd4-4d6b-c954-da5e503e02e8"
   },
   "outputs": [
    {
     "name": "stdout",
     "output_type": "stream",
     "text": [
      "Name:Leo pauly\n",
      "Description: Program for implementing Flow-PINN\n"
     ]
    }
   ],
   "source": [
    "print('Name:Leo pauly')\n",
    "print('Description: Program for implementing Flow-PINN')"
   ]
  },
  {
   "cell_type": "markdown",
   "metadata": {
    "id": "JXeJVVfd0mWS"
   },
   "source": [
    "#### Install\n",
    "\n",
    "This will install SciANN library and all the dependecies"
   ]
  },
  {
   "cell_type": "code",
   "execution_count": 2,
   "metadata": {
    "colab": {
     "base_uri": "https://localhost:8080/"
    },
    "executionInfo": {
     "elapsed": 3590,
     "status": "ok",
     "timestamp": 1627477900421,
     "user": {
      "displayName": "Leo Pauly",
      "photoUrl": "",
      "userId": "17762392962337360052"
     },
     "user_tz": -60
    },
    "id": "GNj-yJtP4KjM",
    "outputId": "e22cb3ad-7cb4-4464-b784-2e1d98fad158"
   },
   "outputs": [
    {
     "name": "stdout",
     "output_type": "stream",
     "text": [
      "Requirement already satisfied: sciann in /usr/local/lib/python3.7/dist-packages (0.6.4.2)\n",
      "Requirement already satisfied: pybtex in /usr/local/lib/python3.7/dist-packages (from sciann) (0.24.0)\n",
      "Requirement already satisfied: numpy>=1.16.4 in /usr/local/lib/python3.7/dist-packages (from sciann) (1.19.5)\n",
      "Requirement already satisfied: sklearn in /usr/local/lib/python3.7/dist-packages (from sciann) (0.0)\n",
      "Requirement already satisfied: scipy>=0.14 in /usr/local/lib/python3.7/dist-packages (from sciann) (1.4.1)\n",
      "Requirement already satisfied: six>=1.9.0 in /usr/local/lib/python3.7/dist-packages (from sciann) (1.15.0)\n",
      "Requirement already satisfied: tensorflow>=2.1.0 in /usr/local/lib/python3.7/dist-packages (from sciann) (2.5.0)\n",
      "Requirement already satisfied: pyyaml in /usr/local/lib/python3.7/dist-packages (from sciann) (3.13)\n",
      "Requirement already satisfied: h5py in /usr/local/lib/python3.7/dist-packages (from sciann) (3.1.0)\n",
      "Requirement already satisfied: gast==0.4.0 in /usr/local/lib/python3.7/dist-packages (from tensorflow>=2.1.0->sciann) (0.4.0)\n",
      "Requirement already satisfied: astunparse~=1.6.3 in /usr/local/lib/python3.7/dist-packages (from tensorflow>=2.1.0->sciann) (1.6.3)\n",
      "Requirement already satisfied: keras-nightly~=2.5.0.dev in /usr/local/lib/python3.7/dist-packages (from tensorflow>=2.1.0->sciann) (2.5.0.dev2021032900)\n",
      "Requirement already satisfied: opt-einsum~=3.3.0 in /usr/local/lib/python3.7/dist-packages (from tensorflow>=2.1.0->sciann) (3.3.0)\n",
      "Requirement already satisfied: absl-py~=0.10 in /usr/local/lib/python3.7/dist-packages (from tensorflow>=2.1.0->sciann) (0.12.0)\n",
      "Requirement already satisfied: wheel~=0.35 in /usr/local/lib/python3.7/dist-packages (from tensorflow>=2.1.0->sciann) (0.36.2)\n",
      "Requirement already satisfied: tensorflow-estimator<2.6.0,>=2.5.0rc0 in /usr/local/lib/python3.7/dist-packages (from tensorflow>=2.1.0->sciann) (2.5.0)\n",
      "Requirement already satisfied: typing-extensions~=3.7.4 in /usr/local/lib/python3.7/dist-packages (from tensorflow>=2.1.0->sciann) (3.7.4.3)\n",
      "Requirement already satisfied: wrapt~=1.12.1 in /usr/local/lib/python3.7/dist-packages (from tensorflow>=2.1.0->sciann) (1.12.1)\n",
      "Requirement already satisfied: flatbuffers~=1.12.0 in /usr/local/lib/python3.7/dist-packages (from tensorflow>=2.1.0->sciann) (1.12)\n",
      "Requirement already satisfied: protobuf>=3.9.2 in /usr/local/lib/python3.7/dist-packages (from tensorflow>=2.1.0->sciann) (3.17.3)\n",
      "Requirement already satisfied: google-pasta~=0.2 in /usr/local/lib/python3.7/dist-packages (from tensorflow>=2.1.0->sciann) (0.2.0)\n",
      "Requirement already satisfied: tensorboard~=2.5 in /usr/local/lib/python3.7/dist-packages (from tensorflow>=2.1.0->sciann) (2.5.0)\n",
      "Requirement already satisfied: grpcio~=1.34.0 in /usr/local/lib/python3.7/dist-packages (from tensorflow>=2.1.0->sciann) (1.34.1)\n",
      "Requirement already satisfied: keras-preprocessing~=1.1.2 in /usr/local/lib/python3.7/dist-packages (from tensorflow>=2.1.0->sciann) (1.1.2)\n",
      "Requirement already satisfied: termcolor~=1.1.0 in /usr/local/lib/python3.7/dist-packages (from tensorflow>=2.1.0->sciann) (1.1.0)\n",
      "Requirement already satisfied: cached-property in /usr/local/lib/python3.7/dist-packages (from h5py->sciann) (1.5.2)\n",
      "Requirement already satisfied: google-auth-oauthlib<0.5,>=0.4.1 in /usr/local/lib/python3.7/dist-packages (from tensorboard~=2.5->tensorflow>=2.1.0->sciann) (0.4.4)\n",
      "Requirement already satisfied: tensorboard-data-server<0.7.0,>=0.6.0 in /usr/local/lib/python3.7/dist-packages (from tensorboard~=2.5->tensorflow>=2.1.0->sciann) (0.6.1)\n",
      "Requirement already satisfied: google-auth<2,>=1.6.3 in /usr/local/lib/python3.7/dist-packages (from tensorboard~=2.5->tensorflow>=2.1.0->sciann) (1.32.1)\n",
      "Requirement already satisfied: markdown>=2.6.8 in /usr/local/lib/python3.7/dist-packages (from tensorboard~=2.5->tensorflow>=2.1.0->sciann) (3.3.4)\n",
      "Requirement already satisfied: setuptools>=41.0.0 in /usr/local/lib/python3.7/dist-packages (from tensorboard~=2.5->tensorflow>=2.1.0->sciann) (57.2.0)\n",
      "Requirement already satisfied: tensorboard-plugin-wit>=1.6.0 in /usr/local/lib/python3.7/dist-packages (from tensorboard~=2.5->tensorflow>=2.1.0->sciann) (1.8.0)\n",
      "Requirement already satisfied: requests<3,>=2.21.0 in /usr/local/lib/python3.7/dist-packages (from tensorboard~=2.5->tensorflow>=2.1.0->sciann) (2.23.0)\n",
      "Requirement already satisfied: werkzeug>=0.11.15 in /usr/local/lib/python3.7/dist-packages (from tensorboard~=2.5->tensorflow>=2.1.0->sciann) (1.0.1)\n",
      "Requirement already satisfied: pyasn1-modules>=0.2.1 in /usr/local/lib/python3.7/dist-packages (from google-auth<2,>=1.6.3->tensorboard~=2.5->tensorflow>=2.1.0->sciann) (0.2.8)\n",
      "Requirement already satisfied: rsa<5,>=3.1.4 in /usr/local/lib/python3.7/dist-packages (from google-auth<2,>=1.6.3->tensorboard~=2.5->tensorflow>=2.1.0->sciann) (4.7.2)\n",
      "Requirement already satisfied: cachetools<5.0,>=2.0.0 in /usr/local/lib/python3.7/dist-packages (from google-auth<2,>=1.6.3->tensorboard~=2.5->tensorflow>=2.1.0->sciann) (4.2.2)\n",
      "Requirement already satisfied: requests-oauthlib>=0.7.0 in /usr/local/lib/python3.7/dist-packages (from google-auth-oauthlib<0.5,>=0.4.1->tensorboard~=2.5->tensorflow>=2.1.0->sciann) (1.3.0)\n",
      "Requirement already satisfied: importlib-metadata in /usr/local/lib/python3.7/dist-packages (from markdown>=2.6.8->tensorboard~=2.5->tensorflow>=2.1.0->sciann) (4.6.1)\n",
      "Requirement already satisfied: pyasn1<0.5.0,>=0.4.6 in /usr/local/lib/python3.7/dist-packages (from pyasn1-modules>=0.2.1->google-auth<2,>=1.6.3->tensorboard~=2.5->tensorflow>=2.1.0->sciann) (0.4.8)\n",
      "Requirement already satisfied: certifi>=2017.4.17 in /usr/local/lib/python3.7/dist-packages (from requests<3,>=2.21.0->tensorboard~=2.5->tensorflow>=2.1.0->sciann) (2021.5.30)\n",
      "Requirement already satisfied: idna<3,>=2.5 in /usr/local/lib/python3.7/dist-packages (from requests<3,>=2.21.0->tensorboard~=2.5->tensorflow>=2.1.0->sciann) (2.10)\n",
      "Requirement already satisfied: urllib3!=1.25.0,!=1.25.1,<1.26,>=1.21.1 in /usr/local/lib/python3.7/dist-packages (from requests<3,>=2.21.0->tensorboard~=2.5->tensorflow>=2.1.0->sciann) (1.24.3)\n",
      "Requirement already satisfied: chardet<4,>=3.0.2 in /usr/local/lib/python3.7/dist-packages (from requests<3,>=2.21.0->tensorboard~=2.5->tensorflow>=2.1.0->sciann) (3.0.4)\n",
      "Requirement already satisfied: oauthlib>=3.0.0 in /usr/local/lib/python3.7/dist-packages (from requests-oauthlib>=0.7.0->google-auth-oauthlib<0.5,>=0.4.1->tensorboard~=2.5->tensorflow>=2.1.0->sciann) (3.1.1)\n",
      "Requirement already satisfied: zipp>=0.5 in /usr/local/lib/python3.7/dist-packages (from importlib-metadata->markdown>=2.6.8->tensorboard~=2.5->tensorflow>=2.1.0->sciann) (3.5.0)\n",
      "Requirement already satisfied: latexcodec>=1.0.4 in /usr/local/lib/python3.7/dist-packages (from pybtex->sciann) (2.0.1)\n",
      "Requirement already satisfied: scikit-learn in /usr/local/lib/python3.7/dist-packages (from sklearn->sciann) (0.22.2.post1)\n",
      "Requirement already satisfied: joblib>=0.11 in /usr/local/lib/python3.7/dist-packages (from scikit-learn->sklearn->sciann) (1.0.1)\n"
     ]
    }
   ],
   "source": [
    "!pip install sciann"
   ]
  },
  {
   "cell_type": "markdown",
   "metadata": {
    "id": "yPvfnsTpsEIk"
   },
   "source": [
    "#### Import"
   ]
  },
  {
   "cell_type": "code",
   "execution_count": 3,
   "metadata": {
    "colab": {
     "base_uri": "https://localhost:8080/"
    },
    "executionInfo": {
     "elapsed": 2172,
     "status": "ok",
     "timestamp": 1627477902574,
     "user": {
      "displayName": "Leo Pauly",
      "photoUrl": "",
      "userId": "17762392962337360052"
     },
     "user_tz": -60
    },
    "id": "6AJcsTGv8Apr",
    "outputId": "362f8dec-e634-4e61-fe29-fd6376896901"
   },
   "outputs": [
    {
     "name": "stdout",
     "output_type": "stream",
     "text": [
      "---------------------- SCIANN 0.6.4.2 ---------------------- \n",
      "For details, check out our review paper and the documentation at: \n",
      " +  \"https://www.sciencedirect.com/science/article/pii/S0045782520307374\", \n",
      " +  \"https://arxiv.org/abs/2005.08803\", \n",
      " +  \"https://www.sciann.com\". \n",
      "\n",
      " Need support or would like to contribute, please join sciann`s slack group: \n",
      " +  \"https://join.slack.com/t/sciann/shared_invite/zt-ne1f5jlx-k_dY8RGo3ZreDXwz0f~CeA\" \n",
      " \n",
      "TensorFlow Version: 2.5.0 \n",
      "Python Version: 3.7.11 (default, Jul  3 2021, 18:01:19) \n",
      "[GCC 7.5.0] \n",
      "\n"
     ]
    }
   ],
   "source": [
    "import numpy as np\n",
    "import matplotlib.pyplot as plt \n",
    "import sciann as sn \n",
    "import pandas as pd\n",
    "from numpy import pi\n",
    "from sciann.utils.math import diff, sign, sin\n",
    "import keras\n",
    "from sklearn.model_selection import train_test_split\n",
    "from sklearn.metrics import mean_squared_error\n",
    "np.set_printoptions(suppress=True)\n"
   ]
  },
  {
   "cell_type": "markdown",
   "metadata": {
    "id": "ypbprauBsLHY"
   },
   "source": [
    "Run the following only if using google Colab. It will ennable you to load data from google drive. Ignore if running on you local machine. "
   ]
  },
  {
   "cell_type": "code",
   "execution_count": 4,
   "metadata": {
    "colab": {
     "base_uri": "https://localhost:8080/"
    },
    "executionInfo": {
     "elapsed": 15,
     "status": "ok",
     "timestamp": 1627477902575,
     "user": {
      "displayName": "Leo Pauly",
      "photoUrl": "",
      "userId": "17762392962337360052"
     },
     "user_tz": -60
    },
    "id": "0Cx-WY3d17zD",
    "outputId": "0f2254f5-93e5-4149-f00c-25f23332ac20"
   },
   "outputs": [
    {
     "name": "stdout",
     "output_type": "stream",
     "text": [
      "Drive already mounted at /content/gdrive; to attempt to forcibly remount, call drive.mount(\"/content/gdrive\", force_remount=True).\n"
     ]
    }
   ],
   "source": [
    "from google.colab import drive\n",
    "drive.mount('/content/gdrive')"
   ]
  },
  {
   "cell_type": "markdown",
   "metadata": {
    "id": "akWSm5gp8OqZ"
   },
   "source": [
    "#### Darcy-PINN \n",
    "\n",
    "Details of defining functionls is available here: https://www.sciann.com/getting-started/functional-guide/\n",
    "\n",
    "Details of deifing the model can be found here: https://www.sciann.com/scimodels/#scimodel\n",
    "\n"
   ]
  },
  {
   "cell_type": "code",
   "execution_count": 5,
   "metadata": {
    "collapsed": true,
    "executionInfo": {
     "elapsed": 321,
     "status": "ok",
     "timestamp": 1627477902886,
     "user": {
      "displayName": "Leo Pauly",
      "photoUrl": "",
      "userId": "17762392962337360052"
     },
     "user_tz": -60
    },
    "id": "IphAjNlN8I2s"
   },
   "outputs": [],
   "source": [
    "x = sn.Variable('x',dtype='float64')\n",
    "y = sn.Variable('y',dtype='float64')\n",
    "v = sn.Functional('v', [x,y], 4*[20], 'relu')\n",
    "K = sn.Functional('K', [x,y], 4*[20], 'relu')\n",
    "h = sn.Functional('h', [x,y], 4*[20], 'relu')"
   ]
  },
  {
   "cell_type": "code",
   "execution_count": 6,
   "metadata": {
    "executionInfo": {
     "elapsed": 236,
     "status": "ok",
     "timestamp": 1627477903120,
     "user": {
      "displayName": "Leo Pauly",
      "photoUrl": "",
      "userId": "17762392962337360052"
     },
     "user_tz": -60
    },
    "id": "i2SHomId-9Og"
   },
   "outputs": [],
   "source": [
    "d1 = sn.Data(v)\n",
    "d3 = sn.Data(h)\n",
    "C1 = -v-(K*(diff(h, x)+diff(h, y)))"
   ]
  },
  {
   "cell_type": "code",
   "execution_count": 7,
   "metadata": {
    "collapsed": true,
    "executionInfo": {
     "elapsed": 460,
     "status": "ok",
     "timestamp": 1627477903577,
     "user": {
      "displayName": "Leo Pauly",
      "photoUrl": "",
      "userId": "17762392962337360052"
     },
     "user_tz": -60
    },
    "id": "4bDJqnnN-KWX"
   },
   "outputs": [],
   "source": [
    "l1=1\n",
    "l2=.5\n",
    "h1=1\n",
    "h2=0\n",
    "\n",
    "TOL = 0.001\n",
    "\n",
    "B1 = (1 - sign(x - (-l1+TOL))) * (h-h1)\n",
    "B2 = (1 + sign(x - (l1-TOL))) * (h-h2)\n",
    "\n",
    "B3 = (1 - sign(y - (-l2+TOL))) * (-K*diff(h,y))\n",
    "B4 = (1 + sign(y - (l2-TOL))) * (-K*diff(h,y))"
   ]
  },
  {
   "cell_type": "code",
   "execution_count": 8,
   "metadata": {
    "executionInfo": {
     "elapsed": 1023,
     "status": "ok",
     "timestamp": 1627477904596,
     "user": {
      "displayName": "Leo Pauly",
      "photoUrl": "",
      "userId": "17762392962337360052"
     },
     "user_tz": -60
    },
    "id": "38nC2ILu-47f"
   },
   "outputs": [],
   "source": [
    "#m = sn.SciModel([x,y], [d1,d2,d3,C1],loss_func='mse',plot_to_file='model_with_k.png')\n",
    "m = sn.SciModel([x,y], [d1,d3,C1,B1,B2,B3,B4],loss_func='mse',plot_to_file='model_with_k.png')"
   ]
  },
  {
   "cell_type": "markdown",
   "metadata": {
    "id": "By_guVFaXFLn"
   },
   "source": [
    "#### Dataset\n",
    "\n",
    "Datasets in .xlxs format are loaded using pandas python library: https://pandas.pydata.org/"
   ]
  },
  {
   "cell_type": "code",
   "execution_count": 9,
   "metadata": {
    "collapsed": true,
    "executionInfo": {
     "elapsed": 1284,
     "status": "ok",
     "timestamp": 1627477905878,
     "user": {
      "displayName": "Leo Pauly",
      "photoUrl": "",
      "userId": "17762392962337360052"
     },
     "user_tz": -60
    },
    "id": "SkDVxkCu0mWZ"
   },
   "outputs": [],
   "source": [
    "v_data_df=pd.read_excel('/content/gdrive/My Drive/Colab Notebooks/PINN/Darcy_Flux.xlsx')  \n",
    "h_data_df=pd.read_excel('/content/gdrive/My Drive/Colab Notebooks/PINN/Hydraulic_Head.xlsx')  \n",
    "K_data_df=pd.read_excel('/content/gdrive/My Drive/Colab Notebooks/PINN/hyd_conductivity.xlsx')  "
   ]
  },
  {
   "cell_type": "code",
   "execution_count": 10,
   "metadata": {
    "colab": {
     "base_uri": "https://localhost:8080/"
    },
    "executionInfo": {
     "elapsed": 21,
     "status": "ok",
     "timestamp": 1627477905889,
     "user": {
      "displayName": "Leo Pauly",
      "photoUrl": "",
      "userId": "17762392962337360052"
     },
     "user_tz": -60
    },
    "id": "ePmu4m3B0mWa",
    "outputId": "f30f5732-19dc-4f57-befe-0882ba16cfb2"
   },
   "outputs": [
    {
     "name": "stdout",
     "output_type": "stream",
     "text": [
      "v_data: (910,)\n",
      "K_test: (1728,)\n",
      "h_data: (910,)\n"
     ]
    }
   ],
   "source": [
    "hydraulic_conductivity_multiplier=100000\n",
    "\n",
    "x1_data=np.array(v_data_df['X'].values)\n",
    "x2_data=np.array(v_data_df['Y'].values)\n",
    "x1_data_K=np.array(K_data_df['X'].values)\n",
    "x2_data_K=np.array(K_data_df['Y'].values)\n",
    "\n",
    "v_data=np.array(v_data_df['VINIT'].values)\n",
    "print('v_data:',v_data.shape)\n",
    "\n",
    "K_data=np.array(K_data_df['TRANS'].values)\n",
    "print('K_test:',K_data.shape)\n",
    "\n",
    "h_data=np.array(h_data_df['FINIT'].values)\n",
    "print('h_data:',h_data.shape)"
   ]
  },
  {
   "cell_type": "code",
   "execution_count": 11,
   "metadata": {
    "colab": {
     "base_uri": "https://localhost:8080/"
    },
    "executionInfo": {
     "elapsed": 19,
     "status": "ok",
     "timestamp": 1627477905890,
     "user": {
      "displayName": "Leo Pauly",
      "photoUrl": "",
      "userId": "17762392962337360052"
     },
     "user_tz": -60
    },
    "id": "aqE3V1Rn0mWb",
    "outputId": "20072061-e7c9-41c8-ec03-d19b941de525"
   },
   "outputs": [
    {
     "name": "stdout",
     "output_type": "stream",
     "text": [
      "test:train ratio: 0.3\n",
      "Training sizes(x1,x2,v,h): (637,) (637,) (637,) (637,)\n",
      "Testing sizes(x1,x2,v,h): (273,) (273,) (273,) (273,)\n"
     ]
    }
   ],
   "source": [
    "test_train_ratio=.3\n",
    "x1_train, x1_test,x2_train, x2_test, v_train, v_test, h_train, h_test = train_test_split(x1_data,x2_data, v_data, h_data, test_size=test_train_ratio, random_state=1)\n",
    "print('test:train ratio:',test_train_ratio)\n",
    "print('Training sizes(x1,x2,v,h):',x1_train.shape,x2_train.shape,v_train.shape,h_train.shape)\n",
    "print('Testing sizes(x1,x2,v,h):',x1_test.shape,x2_test.shape,v_test.shape,h_test.shape)\n",
    "C1_train=B1_train=B2_train=B3_train=B4_train = 'zeros'\n",
    "C1_test=B1_test=B2_test=B3_test=B4_test = np.zeros(x1_test.shape)"
   ]
  },
  {
   "cell_type": "code",
   "execution_count": 12,
   "metadata": {
    "colab": {
     "base_uri": "https://localhost:8080/"
    },
    "executionInfo": {
     "elapsed": 337,
     "status": "ok",
     "timestamp": 1627477906213,
     "user": {
      "displayName": "Leo Pauly",
      "photoUrl": "",
      "userId": "17762392962337360052"
     },
     "user_tz": -60
    },
    "id": "16tYQS-E0mWd",
    "outputId": "0b93fb89-25e2-4aa4-b31e-cdd82186f94f"
   },
   "outputs": [
    {
     "name": "stdout",
     "output_type": "stream",
     "text": [
      "MSE for v before training: 0.1547029027\n",
      "MSE for h before training: 0.3902517106\n",
      "MSE for K before training: 0.001686\n"
     ]
    }
   ],
   "source": [
    "v_pred = v.eval(m, [x1_test,x2_test])\n",
    "h_pred = h.eval(m, [x1_test,x2_test])\n",
    "K_pred = K.eval(m, [x1_data_K,x2_data_K])\n",
    "print('MSE for v before training:',round(mean_squared_error(v_test,v_pred),10))\n",
    "print('MSE for h before training:',round(mean_squared_error(h_test,h_pred),10))\n",
    "print('MSE for K before training:','%f'%round(mean_squared_error(K_data,K_pred),10))"
   ]
  },
  {
   "cell_type": "markdown",
   "metadata": {
    "id": "lcYv5Z7w0mWe"
   },
   "source": [
    "#### Training\n",
    "\n",
    "Details of the model.train function can be found here: https://www.sciann.com/scimodels/#train"
   ]
  },
  {
   "cell_type": "code",
   "execution_count": 13,
   "metadata": {
    "colab": {
     "base_uri": "https://localhost:8080/"
    },
    "executionInfo": {
     "elapsed": 374385,
     "status": "ok",
     "timestamp": 1627478280595,
     "user": {
      "displayName": "Leo Pauly",
      "photoUrl": "",
      "userId": "17762392962337360052"
     },
     "user_tz": -60
    },
    "id": "icGZk7l-0mWf",
    "outputId": "a7ceccc3-3e31-429d-c59d-a4702687870d",
    "scrolled": true
   },
   "outputs": [
    {
     "name": "stdout",
     "output_type": "stream",
     "text": [
      "\n",
      "Total samples: 637 \n",
      "Batch size: 100 \n",
      "Total batches: 7 \n",
      "\n",
      "Epoch 1/50\n"
     ]
    },
    {
     "name": "stderr",
     "output_type": "stream",
     "text": [
      "/usr/local/lib/python3.7/dist-packages/tensorflow/python/keras/engine/training.py:2426: UserWarning: `Model.state_updates` will be removed in a future version. This property should not be used in TensorFlow 2.0, as `updates` are applied automatically.\n",
      "  warnings.warn('`Model.state_updates` will be removed in a future version. '\n"
     ]
    },
    {
     "name": "stdout",
     "output_type": "stream",
     "text": [
      "7/7 - 3s - loss: 0.5504 - v_loss: 0.1170 - h_loss: 0.3385 - sub_loss: 0.0254 - mul_3_loss: 0.0836 - mul_4_loss: 2.5904e-04 - mul_7_loss: 6.2097e-05 - mul_10_loss: 2.5806e-06 - val_loss: 0.4557 - val_v_loss: 0.0894 - val_h_loss: 0.2690 - val_sub_loss: 0.0205 - val_mul_3_loss: 0.0761 - val_mul_4_loss: 5.5625e-04 - val_mul_7_loss: 2.4388e-04 - val_mul_10_loss: 1.9742e-05 - lr: 0.0010 - time: 2.5908\n",
      "Epoch 2/50\n",
      "7/7 - 2s - loss: 0.3710 - v_loss: 0.0647 - h_loss: 0.2415 - sub_loss: 0.0255 - mul_3_loss: 0.0516 - mul_4_loss: 0.0012 - mul_7_loss: 1.0235e-04 - mul_10_loss: 4.4789e-05 - val_loss: 0.3347 - val_v_loss: 0.0530 - val_h_loss: 0.1928 - val_sub_loss: 0.0337 - val_mul_3_loss: 0.0514 - val_mul_4_loss: 0.0035 - val_mul_7_loss: 2.4993e-04 - val_mul_10_loss: 1.0399e-04 - lr: 0.0010 - time: 2.4209\n",
      "Epoch 3/50\n",
      "7/7 - 2s - loss: 0.2888 - v_loss: 0.0445 - h_loss: 0.1682 - sub_loss: 0.0363 - mul_3_loss: 0.0293 - mul_4_loss: 0.0030 - mul_7_loss: 7.7417e-05 - mul_10_loss: 1.8065e-04 - val_loss: 0.2764 - val_v_loss: 0.0452 - val_h_loss: 0.1486 - val_sub_loss: 0.0390 - val_mul_3_loss: 0.0369 - val_mul_4_loss: 0.0062 - val_mul_7_loss: 5.3669e-05 - val_mul_10_loss: 3.8667e-04 - lr: 0.0010 - time: 2.4586\n",
      "Epoch 4/50\n",
      "7/7 - 3s - loss: 0.2381 - v_loss: 0.0435 - h_loss: 0.1374 - sub_loss: 0.0367 - mul_3_loss: 0.0247 - mul_4_loss: 0.0043 - mul_7_loss: 3.0563e-05 - mul_10_loss: 5.5048e-04 - val_loss: 0.2219 - val_v_loss: 0.0478 - val_h_loss: 0.1096 - val_sub_loss: 0.0333 - val_mul_3_loss: 0.0241 - val_mul_4_loss: 0.0064 - val_mul_7_loss: 1.3917e-05 - val_mul_10_loss: 8.0476e-04 - lr: 0.0010 - time: 2.6730\n",
      "Epoch 5/50\n",
      "7/7 - 3s - loss: 0.1907 - v_loss: 0.0453 - h_loss: 0.0939 - sub_loss: 0.0315 - mul_3_loss: 0.0138 - mul_4_loss: 0.0050 - mul_7_loss: 1.1805e-05 - mul_10_loss: 7.2887e-04 - val_loss: 0.1700 - val_v_loss: 0.0484 - val_h_loss: 0.0733 - val_sub_loss: 0.0284 - val_mul_3_loss: 0.0132 - val_mul_4_loss: 0.0053 - val_mul_7_loss: 1.9661e-05 - val_mul_10_loss: 0.0014 - lr: 0.0010 - time: 2.9821\n",
      "Epoch 6/50\n",
      "7/7 - 3s - loss: 0.1442 - v_loss: 0.0438 - h_loss: 0.0616 - sub_loss: 0.0276 - mul_3_loss: 0.0089 - mul_4_loss: 0.0034 - mul_7_loss: 1.5651e-04 - mul_10_loss: 0.0014 - val_loss: 0.1265 - val_v_loss: 0.0449 - val_h_loss: 0.0437 - val_sub_loss: 0.0264 - val_mul_3_loss: 0.0051 - val_mul_4_loss: 0.0042 - val_mul_7_loss: 1.8751e-04 - val_mul_10_loss: 0.0021 - lr: 0.0010 - time: 2.9987\n",
      "Epoch 7/50\n",
      "7/7 - 3s - loss: 0.1111 - v_loss: 0.0404 - h_loss: 0.0363 - sub_loss: 0.0251 - mul_3_loss: 0.0027 - mul_4_loss: 0.0029 - mul_7_loss: 7.0097e-04 - mul_10_loss: 0.0020 - val_loss: 0.0982 - val_v_loss: 0.0408 - val_h_loss: 0.0251 - val_sub_loss: 0.0247 - val_mul_3_loss: 0.0011 - val_mul_4_loss: 0.0026 - val_mul_7_loss: 7.2257e-04 - val_mul_10_loss: 0.0031 - lr: 0.0010 - time: 3.3945\n",
      "Epoch 8/50\n",
      "7/7 - 4s - loss: 0.0890 - v_loss: 0.0365 - h_loss: 0.0224 - sub_loss: 0.0239 - mul_3_loss: 5.1163e-04 - mul_4_loss: 0.0013 - mul_7_loss: 0.0018 - mul_10_loss: 0.0028 - val_loss: 0.0848 - val_v_loss: 0.0370 - val_h_loss: 0.0180 - val_sub_loss: 0.0231 - val_mul_3_loss: 8.7793e-04 - val_mul_4_loss: 0.0011 - val_mul_7_loss: 9.5456e-04 - val_mul_10_loss: 0.0039 - lr: 0.0010 - time: 3.5825\n",
      "Epoch 9/50\n",
      "7/7 - 4s - loss: 0.0814 - v_loss: 0.0321 - h_loss: 0.0198 - sub_loss: 0.0214 - mul_3_loss: 8.7402e-04 - mul_4_loss: 5.6022e-04 - mul_7_loss: 0.0032 - mul_10_loss: 0.0027 - val_loss: 0.0795 - val_v_loss: 0.0333 - val_h_loss: 0.0176 - val_sub_loss: 0.0217 - val_mul_3_loss: 0.0019 - val_mul_4_loss: 4.9557e-04 - val_mul_7_loss: 0.0013 - val_mul_10_loss: 0.0031 - lr: 0.0010 - time: 3.6443\n",
      "Epoch 10/50\n",
      "7/7 - 4s - loss: 0.0762 - v_loss: 0.0289 - h_loss: 0.0197 - sub_loss: 0.0207 - mul_3_loss: 0.0016 - mul_4_loss: 2.9247e-04 - mul_7_loss: 0.0027 - mul_10_loss: 0.0019 - val_loss: 0.0748 - val_v_loss: 0.0298 - val_h_loss: 0.0170 - val_sub_loss: 0.0222 - val_mul_3_loss: 0.0014 - val_mul_4_loss: 3.5668e-04 - val_mul_7_loss: 0.0016 - val_mul_10_loss: 0.0023 - lr: 0.0010 - time: 3.9649\n",
      "Epoch 11/50\n",
      "7/7 - 4s - loss: 0.0712 - v_loss: 0.0264 - h_loss: 0.0185 - sub_loss: 0.0203 - mul_3_loss: 0.0012 - mul_4_loss: 2.2704e-04 - mul_7_loss: 0.0023 - mul_10_loss: 0.0013 - val_loss: 0.0704 - val_v_loss: 0.0298 - val_h_loss: 0.0162 - val_sub_loss: 0.0193 - val_mul_3_loss: 7.6069e-04 - val_mul_4_loss: 3.6778e-04 - val_mul_7_loss: 0.0024 - val_mul_10_loss: 0.0016 - lr: 0.0010 - time: 4.1987\n",
      "Epoch 12/50\n",
      "7/7 - 4s - loss: 0.0682 - v_loss: 0.0270 - h_loss: 0.0179 - sub_loss: 0.0175 - mul_3_loss: 7.0418e-04 - mul_4_loss: 2.2441e-04 - mul_7_loss: 0.0032 - mul_10_loss: 0.0013 - val_loss: 0.0688 - val_v_loss: 0.0302 - val_h_loss: 0.0165 - val_sub_loss: 0.0168 - val_mul_3_loss: 3.9193e-04 - val_mul_4_loss: 3.3229e-04 - val_mul_7_loss: 0.0029 - val_mul_10_loss: 0.0016 - lr: 0.0010 - time: 4.2728\n",
      "Epoch 13/50\n",
      "7/7 - 5s - loss: 0.0665 - v_loss: 0.0266 - h_loss: 0.0188 - sub_loss: 0.0167 - mul_3_loss: 4.3894e-04 - mul_4_loss: 1.7596e-04 - mul_7_loss: 0.0030 - mul_10_loss: 0.0010 - val_loss: 0.0679 - val_v_loss: 0.0283 - val_h_loss: 0.0169 - val_sub_loss: 0.0176 - val_mul_3_loss: 2.7385e-04 - val_mul_4_loss: 3.3034e-04 - val_mul_7_loss: 0.0025 - val_mul_10_loss: 0.0021 - lr: 0.0010 - time: 4.6347\n",
      "Epoch 14/50\n",
      "7/7 - 5s - loss: 0.0649 - v_loss: 0.0250 - h_loss: 0.0173 - sub_loss: 0.0169 - mul_3_loss: 4.1079e-04 - mul_4_loss: 2.1492e-04 - mul_7_loss: 0.0030 - mul_10_loss: 0.0012 - val_loss: 0.0663 - val_v_loss: 0.0273 - val_h_loss: 0.0166 - val_sub_loss: 0.0162 - val_mul_3_loss: 3.3078e-04 - val_mul_4_loss: 4.4068e-04 - val_mul_7_loss: 0.0032 - val_mul_10_loss: 0.0023 - lr: 0.0010 - time: 4.8727\n",
      "Epoch 15/50\n",
      "7/7 - 5s - loss: 0.0634 - v_loss: 0.0262 - h_loss: 0.0184 - sub_loss: 0.0165 - mul_3_loss: 5.4667e-04 - mul_4_loss: 2.2059e-04 - mul_7_loss: 0.0033 - mul_10_loss: 0.0016 - val_loss: 0.0652 - val_v_loss: 0.0265 - val_h_loss: 0.0167 - val_sub_loss: 0.0162 - val_mul_3_loss: 4.8990e-04 - val_mul_4_loss: 3.8072e-04 - val_mul_7_loss: 0.0025 - val_mul_10_loss: 0.0025 - lr: 0.0010 - time: 5.1241\n",
      "Epoch 16/50\n",
      "7/7 - 5s - loss: 0.0621 - v_loss: 0.0229 - h_loss: 0.0185 - sub_loss: 0.0154 - mul_3_loss: 8.9220e-04 - mul_4_loss: 2.1607e-04 - mul_7_loss: 0.0023 - mul_10_loss: 0.0016 - val_loss: 0.0640 - val_v_loss: 0.0259 - val_h_loss: 0.0168 - val_sub_loss: 0.0156 - val_mul_3_loss: 5.3899e-04 - val_mul_4_loss: 3.6509e-04 - val_mul_7_loss: 0.0022 - val_mul_10_loss: 0.0026 - lr: 0.0010 - time: 5.3231\n",
      "Epoch 17/50\n",
      "7/7 - 5s - loss: 0.0608 - v_loss: 0.0223 - h_loss: 0.0176 - sub_loss: 0.0153 - mul_3_loss: 7.3866e-04 - mul_4_loss: 2.2064e-04 - mul_7_loss: 0.0024 - mul_10_loss: 0.0013 - val_loss: 0.0627 - val_v_loss: 0.0251 - val_h_loss: 0.0166 - val_sub_loss: 0.0145 - val_mul_3_loss: 5.6230e-04 - val_mul_4_loss: 4.0407e-04 - val_mul_7_loss: 0.0027 - val_mul_10_loss: 0.0028 - lr: 0.0010 - time: 5.4883\n",
      "Epoch 18/50\n",
      "7/7 - 6s - loss: 0.0593 - v_loss: 0.0231 - h_loss: 0.0183 - sub_loss: 0.0150 - mul_3_loss: 6.0385e-04 - mul_4_loss: 2.3016e-04 - mul_7_loss: 0.0025 - mul_10_loss: 0.0014 - val_loss: 0.0625 - val_v_loss: 0.0246 - val_h_loss: 0.0168 - val_sub_loss: 0.0146 - val_mul_3_loss: 4.0426e-04 - val_mul_4_loss: 4.0672e-04 - val_mul_7_loss: 0.0023 - val_mul_10_loss: 0.0035 - lr: 0.0010 - time: 5.6510\n",
      "Epoch 19/50\n",
      "7/7 - 6s - loss: 0.0582 - v_loss: 0.0214 - h_loss: 0.0175 - sub_loss: 0.0145 - mul_3_loss: 5.0348e-04 - mul_4_loss: 2.4318e-04 - mul_7_loss: 0.0019 - mul_10_loss: 0.0013 - val_loss: 0.0621 - val_v_loss: 0.0239 - val_h_loss: 0.0166 - val_sub_loss: 0.0137 - val_mul_3_loss: 3.6778e-04 - val_mul_4_loss: 4.3153e-04 - val_mul_7_loss: 0.0026 - val_mul_10_loss: 0.0044 - lr: 0.0010 - time: 5.8751\n",
      "Epoch 20/50\n",
      "7/7 - 6s - loss: 0.0574 - v_loss: 0.0216 - h_loss: 0.0172 - sub_loss: 0.0139 - mul_3_loss: 4.2359e-04 - mul_4_loss: 2.2617e-04 - mul_7_loss: 0.0028 - mul_10_loss: 0.0015 - val_loss: 0.0628 - val_v_loss: 0.0234 - val_h_loss: 0.0167 - val_sub_loss: 0.0136 - val_mul_3_loss: 4.3532e-04 - val_mul_4_loss: 4.0398e-04 - val_mul_7_loss: 0.0022 - val_mul_10_loss: 0.0061 - lr: 0.0010 - time: 6.0387\n",
      "Epoch 21/50\n",
      "7/7 - 6s - loss: 0.0567 - v_loss: 0.0216 - h_loss: 0.0181 - sub_loss: 0.0129 - mul_3_loss: 4.8477e-04 - mul_4_loss: 2.4253e-04 - mul_7_loss: 0.0020 - mul_10_loss: 0.0017 - val_loss: 0.0618 - val_v_loss: 0.0236 - val_h_loss: 0.0166 - val_sub_loss: 0.0128 - val_mul_3_loss: 4.3420e-04 - val_mul_4_loss: 4.4495e-04 - val_mul_7_loss: 0.0024 - val_mul_10_loss: 0.0056 - lr: 0.0010 - time: 6.2429\n",
      "Epoch 22/50\n",
      "7/7 - 7s - loss: 0.0560 - v_loss: 0.0207 - h_loss: 0.0177 - sub_loss: 0.0130 - mul_3_loss: 3.8971e-04 - mul_4_loss: 2.5993e-04 - mul_7_loss: 0.0022 - mul_10_loss: 0.0023 - val_loss: 0.0612 - val_v_loss: 0.0231 - val_h_loss: 0.0165 - val_sub_loss: 0.0124 - val_mul_3_loss: 4.1536e-04 - val_mul_4_loss: 4.8677e-04 - val_mul_7_loss: 0.0025 - val_mul_10_loss: 0.0058 - lr: 0.0010 - time: 6.5073\n",
      "Epoch 23/50\n",
      "7/7 - 7s - loss: 0.0555 - v_loss: 0.0204 - h_loss: 0.0180 - sub_loss: 0.0125 - mul_3_loss: 4.8824e-04 - mul_4_loss: 2.6089e-04 - mul_7_loss: 0.0025 - mul_10_loss: 0.0015 - val_loss: 0.0611 - val_v_loss: 0.0230 - val_h_loss: 0.0167 - val_sub_loss: 0.0128 - val_mul_3_loss: 3.4762e-04 - val_mul_4_loss: 4.2100e-04 - val_mul_7_loss: 0.0020 - val_mul_10_loss: 0.0059 - lr: 0.0010 - time: 6.7773\n",
      "Epoch 24/50\n",
      "7/7 - 7s - loss: 0.0551 - v_loss: 0.0196 - h_loss: 0.0173 - sub_loss: 0.0126 - mul_3_loss: 3.9933e-04 - mul_4_loss: 2.6000e-04 - mul_7_loss: 0.0022 - mul_10_loss: 0.0015 - val_loss: 0.0605 - val_v_loss: 0.0227 - val_h_loss: 0.0164 - val_sub_loss: 0.0125 - val_mul_3_loss: 5.1170e-04 - val_mul_4_loss: 4.6668e-04 - val_mul_7_loss: 0.0021 - val_mul_10_loss: 0.0059 - lr: 0.0010 - time: 6.9578\n",
      "Epoch 25/50\n",
      "7/7 - 7s - loss: 0.0542 - v_loss: 0.0198 - h_loss: 0.0179 - sub_loss: 0.0122 - mul_3_loss: 4.2606e-04 - mul_4_loss: 2.5564e-04 - mul_7_loss: 0.0023 - mul_10_loss: 0.0015 - val_loss: 0.0625 - val_v_loss: 0.0229 - val_h_loss: 0.0165 - val_sub_loss: 0.0121 - val_mul_3_loss: 4.5805e-04 - val_mul_4_loss: 4.1665e-04 - val_mul_7_loss: 0.0020 - val_mul_10_loss: 0.0081 - lr: 0.0010 - time: 7.2454\n",
      "Epoch 26/50\n",
      "7/7 - 7s - loss: 0.0535 - v_loss: 0.0206 - h_loss: 0.0168 - sub_loss: 0.0120 - mul_3_loss: 3.9782e-04 - mul_4_loss: 2.5764e-04 - mul_7_loss: 0.0019 - mul_10_loss: 0.0021 - val_loss: 0.0600 - val_v_loss: 0.0223 - val_h_loss: 0.0163 - val_sub_loss: 0.0119 - val_mul_3_loss: 4.3935e-04 - val_mul_4_loss: 4.5300e-04 - val_mul_7_loss: 0.0022 - val_mul_10_loss: 0.0063 - lr: 0.0010 - time: 7.3855\n",
      "Epoch 27/50\n",
      "7/7 - 8s - loss: 0.0534 - v_loss: 0.0191 - h_loss: 0.0181 - sub_loss: 0.0121 - mul_3_loss: 4.6202e-04 - mul_4_loss: 3.3659e-04 - mul_7_loss: 0.0021 - mul_10_loss: 0.0014 - val_loss: 0.0594 - val_v_loss: 0.0225 - val_h_loss: 0.0163 - val_sub_loss: 0.0119 - val_mul_3_loss: 3.2461e-04 - val_mul_4_loss: 4.2461e-04 - val_mul_7_loss: 0.0021 - val_mul_10_loss: 0.0058 - lr: 0.0010 - time: 7.6909\n",
      "Epoch 28/50\n",
      "7/7 - 8s - loss: 0.0531 - v_loss: 0.0203 - h_loss: 0.0176 - sub_loss: 0.0115 - mul_3_loss: 3.7358e-04 - mul_4_loss: 2.7263e-04 - mul_7_loss: 0.0019 - mul_10_loss: 0.0014 - val_loss: 0.0609 - val_v_loss: 0.0223 - val_h_loss: 0.0162 - val_sub_loss: 0.0112 - val_mul_3_loss: 4.2717e-04 - val_mul_4_loss: 3.9733e-04 - val_mul_7_loss: 0.0021 - val_mul_10_loss: 0.0082 - lr: 0.0010 - time: 8.1398\n",
      "Epoch 29/50\n",
      "7/7 - 8s - loss: 0.0522 - v_loss: 0.0178 - h_loss: 0.0168 - sub_loss: 0.0109 - mul_3_loss: 5.0405e-04 - mul_4_loss: 2.8533e-04 - mul_7_loss: 0.0018 - mul_10_loss: 0.0017 - val_loss: 0.0599 - val_v_loss: 0.0213 - val_h_loss: 0.0161 - val_sub_loss: 0.0118 - val_mul_3_loss: 3.3941e-04 - val_mul_4_loss: 4.5143e-04 - val_mul_7_loss: 0.0019 - val_mul_10_loss: 0.0080 - lr: 0.0010 - time: 8.2023\n",
      "Epoch 30/50\n",
      "7/7 - 8s - loss: 0.0521 - v_loss: 0.0190 - h_loss: 0.0177 - sub_loss: 0.0113 - mul_3_loss: 3.5257e-04 - mul_4_loss: 2.7568e-04 - mul_7_loss: 0.0023 - mul_10_loss: 0.0013 - val_loss: 0.0583 - val_v_loss: 0.0210 - val_h_loss: 0.0164 - val_sub_loss: 0.0125 - val_mul_3_loss: 3.2504e-04 - val_mul_4_loss: 4.0819e-04 - val_mul_7_loss: 0.0016 - val_mul_10_loss: 0.0061 - lr: 0.0010 - time: 8.4289\n",
      "Epoch 31/50\n",
      "7/7 - 9s - loss: 0.0515 - v_loss: 0.0190 - h_loss: 0.0176 - sub_loss: 0.0112 - mul_3_loss: 3.8837e-04 - mul_4_loss: 2.5166e-04 - mul_7_loss: 0.0017 - mul_10_loss: 0.0017 - val_loss: 0.0586 - val_v_loss: 0.0213 - val_h_loss: 0.0163 - val_sub_loss: 0.0116 - val_mul_3_loss: 3.0716e-04 - val_mul_4_loss: 4.2866e-04 - val_mul_7_loss: 0.0013 - val_mul_10_loss: 0.0075 - lr: 0.0010 - time: 8.6363\n",
      "Epoch 32/50\n",
      "7/7 - 9s - loss: 0.0508 - v_loss: 0.0181 - h_loss: 0.0173 - sub_loss: 0.0102 - mul_3_loss: 3.7868e-04 - mul_4_loss: 2.9910e-04 - mul_7_loss: 0.0018 - mul_10_loss: 0.0014 - val_loss: 0.0569 - val_v_loss: 0.0209 - val_h_loss: 0.0161 - val_sub_loss: 0.0109 - val_mul_3_loss: 3.3055e-04 - val_mul_4_loss: 4.6781e-04 - val_mul_7_loss: 0.0014 - val_mul_10_loss: 0.0068 - lr: 0.0010 - time: 9.1406\n",
      "Epoch 33/50\n",
      "7/7 - 9s - loss: 0.0501 - v_loss: 0.0189 - h_loss: 0.0180 - sub_loss: 0.0104 - mul_3_loss: 3.2028e-04 - mul_4_loss: 2.9913e-04 - mul_7_loss: 0.0017 - mul_10_loss: 0.0016 - val_loss: 0.0574 - val_v_loss: 0.0203 - val_h_loss: 0.0161 - val_sub_loss: 0.0107 - val_mul_3_loss: 2.7712e-04 - val_mul_4_loss: 4.5784e-04 - val_mul_7_loss: 0.0015 - val_mul_10_loss: 0.0080 - lr: 0.0010 - time: 9.1245\n",
      "Epoch 34/50\n",
      "7/7 - 9s - loss: 0.0492 - v_loss: 0.0175 - h_loss: 0.0169 - sub_loss: 0.0104 - mul_3_loss: 3.8321e-04 - mul_4_loss: 2.7907e-04 - mul_7_loss: 0.0021 - mul_10_loss: 0.0015 - val_loss: 0.0566 - val_v_loss: 0.0196 - val_h_loss: 0.0158 - val_sub_loss: 0.0112 - val_mul_3_loss: 2.7543e-04 - val_mul_4_loss: 4.8248e-04 - val_mul_7_loss: 0.0018 - val_mul_10_loss: 0.0074 - lr: 0.0010 - time: 9.2887\n",
      "Epoch 35/50\n",
      "7/7 - 9s - loss: 0.0491 - v_loss: 0.0174 - h_loss: 0.0170 - sub_loss: 0.0095 - mul_3_loss: 3.1196e-04 - mul_4_loss: 2.7625e-04 - mul_7_loss: 0.0024 - mul_10_loss: 0.0016 - val_loss: 0.0577 - val_v_loss: 0.0197 - val_h_loss: 0.0160 - val_sub_loss: 0.0104 - val_mul_3_loss: 3.1970e-04 - val_mul_4_loss: 5.0214e-04 - val_mul_7_loss: 0.0014 - val_mul_10_loss: 0.0094 - lr: 0.0010 - time: 9.4114\n",
      "Epoch 36/50\n",
      "7/7 - 10s - loss: 0.0486 - v_loss: 0.0175 - h_loss: 0.0177 - sub_loss: 0.0102 - mul_3_loss: 3.3620e-04 - mul_4_loss: 3.2728e-04 - mul_7_loss: 0.0014 - mul_10_loss: 0.0016 - val_loss: 0.0568 - val_v_loss: 0.0189 - val_h_loss: 0.0158 - val_sub_loss: 0.0111 - val_mul_3_loss: 4.1688e-04 - val_mul_4_loss: 5.2238e-04 - val_mul_7_loss: 0.0015 - val_mul_10_loss: 0.0086 - lr: 0.0010 - time: 9.9889\n",
      "Epoch 37/50\n",
      "7/7 - 10s - loss: 0.0485 - v_loss: 0.0161 - h_loss: 0.0168 - sub_loss: 0.0102 - mul_3_loss: 5.1718e-04 - mul_4_loss: 2.7782e-04 - mul_7_loss: 0.0017 - mul_10_loss: 0.0016 - val_loss: 0.0595 - val_v_loss: 0.0195 - val_h_loss: 0.0161 - val_sub_loss: 0.0104 - val_mul_3_loss: 2.8557e-04 - val_mul_4_loss: 4.5120e-04 - val_mul_7_loss: 0.0012 - val_mul_10_loss: 0.0115 - lr: 0.0010 - time: 10.0520\n",
      "Epoch 38/50\n",
      "7/7 - 10s - loss: 0.0479 - v_loss: 0.0173 - h_loss: 0.0168 - sub_loss: 0.0100 - mul_3_loss: 2.9711e-04 - mul_4_loss: 2.3448e-04 - mul_7_loss: 0.0014 - mul_10_loss: 0.0018 - val_loss: 0.0589 - val_v_loss: 0.0190 - val_h_loss: 0.0156 - val_sub_loss: 0.0111 - val_mul_3_loss: 2.7866e-04 - val_mul_4_loss: 4.6226e-04 - val_mul_7_loss: 0.0015 - val_mul_10_loss: 0.0109 - lr: 0.0010 - time: 10.1749\n",
      "Epoch 39/50\n",
      "7/7 - 11s - loss: 0.0477 - v_loss: 0.0169 - h_loss: 0.0174 - sub_loss: 0.0100 - mul_3_loss: 2.3015e-04 - mul_4_loss: 3.1352e-04 - mul_7_loss: 0.0018 - mul_10_loss: 0.0015 - val_loss: 0.0587 - val_v_loss: 0.0187 - val_h_loss: 0.0154 - val_sub_loss: 0.0116 - val_mul_3_loss: 2.1952e-04 - val_mul_4_loss: 4.6998e-04 - val_mul_7_loss: 0.0015 - val_mul_10_loss: 0.0108 - lr: 0.0010 - time: 10.5283\n",
      "Epoch 40/50\n",
      "7/7 - 11s - loss: 0.0475 - v_loss: 0.0161 - h_loss: 0.0171 - sub_loss: 0.0107 - mul_3_loss: 2.3349e-04 - mul_4_loss: 3.4475e-04 - mul_7_loss: 0.0014 - mul_10_loss: 0.0013 - val_loss: 0.0578 - val_v_loss: 0.0185 - val_h_loss: 0.0159 - val_sub_loss: 0.0110 - val_mul_3_loss: 3.3971e-04 - val_mul_4_loss: 4.3129e-04 - val_mul_7_loss: 0.0012 - val_mul_10_loss: 0.0105 - lr: 0.0010 - time: 10.8329\n",
      "Epoch 41/50\n",
      "7/7 - 11s - loss: 0.0479 - v_loss: 0.0170 - h_loss: 0.0178 - sub_loss: 0.0108 - mul_3_loss: 3.2112e-04 - mul_4_loss: 1.9455e-04 - mul_7_loss: 0.0014 - mul_10_loss: 0.0022 - val_loss: 0.0550 - val_v_loss: 0.0182 - val_h_loss: 0.0154 - val_sub_loss: 0.0116 - val_mul_3_loss: 3.8579e-04 - val_mul_4_loss: 4.1376e-04 - val_mul_7_loss: 0.0012 - val_mul_10_loss: 0.0078 - lr: 0.0010 - time: 11.0111\n",
      "Epoch 42/50\n",
      "7/7 - 11s - loss: 0.0466 - v_loss: 0.0172 - h_loss: 0.0168 - sub_loss: 0.0109 - mul_3_loss: 2.8958e-04 - mul_4_loss: 1.9408e-04 - mul_7_loss: 0.0018 - mul_10_loss: 0.0013 - val_loss: 0.0528 - val_v_loss: 0.0184 - val_h_loss: 0.0154 - val_sub_loss: 0.0108 - val_mul_3_loss: 3.2425e-04 - val_mul_4_loss: 3.7052e-04 - val_mul_7_loss: 0.0011 - val_mul_10_loss: 0.0064 - lr: 0.0010 - time: 11.0410\n",
      "Epoch 43/50\n",
      "7/7 - 12s - loss: 0.0464 - v_loss: 0.0164 - h_loss: 0.0164 - sub_loss: 0.0104 - mul_3_loss: 2.4519e-04 - mul_4_loss: 1.5989e-04 - mul_7_loss: 0.0014 - mul_10_loss: 0.0013 - val_loss: 0.0515 - val_v_loss: 0.0180 - val_h_loss: 0.0153 - val_sub_loss: 0.0110 - val_mul_3_loss: 2.6231e-04 - val_mul_4_loss: 3.4499e-04 - val_mul_7_loss: 0.0013 - val_mul_10_loss: 0.0053 - lr: 0.0010 - time: 11.6429\n",
      "Epoch 44/50\n",
      "7/7 - 12s - loss: 0.0459 - v_loss: 0.0151 - h_loss: 0.0162 - sub_loss: 0.0107 - mul_3_loss: 2.2863e-04 - mul_4_loss: 1.4372e-04 - mul_7_loss: 0.0014 - mul_10_loss: 0.0013 - val_loss: 0.0507 - val_v_loss: 0.0181 - val_h_loss: 0.0151 - val_sub_loss: 0.0107 - val_mul_3_loss: 3.1156e-04 - val_mul_4_loss: 3.3591e-04 - val_mul_7_loss: 0.0011 - val_mul_10_loss: 0.0050 - lr: 0.0010 - time: 11.6192\n",
      "Epoch 45/50\n",
      "7/7 - 12s - loss: 0.0453 - v_loss: 0.0153 - h_loss: 0.0164 - sub_loss: 0.0100 - mul_3_loss: 2.6358e-04 - mul_4_loss: 2.9190e-04 - mul_7_loss: 0.0011 - mul_10_loss: 0.0011 - val_loss: 0.0495 - val_v_loss: 0.0185 - val_h_loss: 0.0150 - val_sub_loss: 0.0104 - val_mul_3_loss: 3.2509e-04 - val_mul_4_loss: 3.2341e-04 - val_mul_7_loss: 0.0013 - val_mul_10_loss: 0.0037 - lr: 0.0010 - time: 11.8194\n",
      "Epoch 46/50\n",
      "7/7 - 12s - loss: 0.0457 - v_loss: 0.0158 - h_loss: 0.0168 - sub_loss: 0.0107 - mul_3_loss: 2.3795e-04 - mul_4_loss: 1.2999e-04 - mul_7_loss: 0.0012 - mul_10_loss: 0.0016 - val_loss: 0.0510 - val_v_loss: 0.0179 - val_h_loss: 0.0149 - val_sub_loss: 0.0102 - val_mul_3_loss: 2.6444e-04 - val_mul_4_loss: 3.0523e-04 - val_mul_7_loss: 0.0012 - val_mul_10_loss: 0.0062 - lr: 0.0010 - time: 12.2126\n",
      "Epoch 47/50\n",
      "7/7 - 12s - loss: 0.0450 - v_loss: 0.0157 - h_loss: 0.0157 - sub_loss: 0.0103 - mul_3_loss: 2.5226e-04 - mul_4_loss: 1.3246e-04 - mul_7_loss: 0.0014 - mul_10_loss: 0.0014 - val_loss: 0.0484 - val_v_loss: 0.0174 - val_h_loss: 0.0147 - val_sub_loss: 0.0113 - val_mul_3_loss: 2.9614e-04 - val_mul_4_loss: 3.2132e-04 - val_mul_7_loss: 0.0012 - val_mul_10_loss: 0.0032 - lr: 0.0010 - time: 12.2704\n",
      "Epoch 48/50\n",
      "7/7 - 13s - loss: 0.0446 - v_loss: 0.0147 - h_loss: 0.0161 - sub_loss: 0.0110 - mul_3_loss: 2.6338e-04 - mul_4_loss: 1.3371e-04 - mul_7_loss: 0.0015 - mul_10_loss: 9.9203e-04 - val_loss: 0.0480 - val_v_loss: 0.0175 - val_h_loss: 0.0149 - val_sub_loss: 0.0114 - val_mul_3_loss: 2.0182e-04 - val_mul_4_loss: 3.2015e-04 - val_mul_7_loss: 0.0013 - val_mul_10_loss: 0.0024 - lr: 0.0010 - time: 12.9553\n",
      "Epoch 49/50\n",
      "7/7 - 13s - loss: 0.0441 - v_loss: 0.0144 - h_loss: 0.0161 - sub_loss: 0.0099 - mul_3_loss: 2.1881e-04 - mul_4_loss: 1.3486e-04 - mul_7_loss: 0.0015 - mul_10_loss: 9.8210e-04 - val_loss: 0.0486 - val_v_loss: 0.0173 - val_h_loss: 0.0147 - val_sub_loss: 0.0108 - val_mul_3_loss: 3.2638e-04 - val_mul_4_loss: 3.1734e-04 - val_mul_7_loss: 0.0013 - val_mul_10_loss: 0.0038 - lr: 0.0010 - time: 12.8793\n",
      "Epoch 50/50\n",
      "7/7 - 13s - loss: 0.0435 - v_loss: 0.0144 - h_loss: 0.0160 - sub_loss: 0.0098 - mul_3_loss: 2.4277e-04 - mul_4_loss: 1.2244e-04 - mul_7_loss: 0.0014 - mul_10_loss: 0.0013 - val_loss: 0.0479 - val_v_loss: 0.0170 - val_h_loss: 0.0147 - val_sub_loss: 0.0117 - val_mul_3_loss: 2.5202e-04 - val_mul_4_loss: 2.9838e-04 - val_mul_7_loss: 0.0012 - val_mul_10_loss: 0.0028 - lr: 0.0010 - time: 12.8969\n"
     ]
    }
   ],
   "source": [
    "learning_rate=0.001\n",
    "epochs=50\n",
    "history = m.train([x1_train,x2_train], [v_train,h_train,C1_train,B1_train,B2_train,B3_train,B4_train], learning_rate=learning_rate, epochs=epochs, verbose=2,batch_size=100,validation_data=([x1_test,x2_test],[v_test,h_test,C1_test,B1_test,B2_test,B3_test,B4_test]))\n",
    "#history = m.train([x1_train,x2_train], [v_train,h_train,C1_train], learning_rate=learning_rate, epochs=epochs, verbose=1,batch_size=100,validation_data=([x1_test,x2_test],[v_test,h_test,np.zeros(x1_test.shape)]))"
   ]
  },
  {
   "cell_type": "code",
   "execution_count": 14,
   "metadata": {
    "colab": {
     "base_uri": "https://localhost:8080/"
    },
    "executionInfo": {
     "elapsed": 28,
     "status": "ok",
     "timestamp": 1627478280596,
     "user": {
      "displayName": "Leo Pauly",
      "photoUrl": "",
      "userId": "17762392962337360052"
     },
     "user_tz": -60
    },
    "id": "bYCdhqtAauvt",
    "outputId": "cc33446a-0d96-423d-bc69-4fff5b58a6e9"
   },
   "outputs": [
    {
     "name": "stdout",
     "output_type": "stream",
     "text": [
      "dict_keys(['loss', 'v_loss', 'h_loss', 'sub_loss', 'mul_3_loss', 'mul_4_loss', 'mul_7_loss', 'mul_10_loss', 'val_loss', 'val_v_loss', 'val_h_loss', 'val_sub_loss', 'val_mul_3_loss', 'val_mul_4_loss', 'val_mul_7_loss', 'val_mul_10_loss', 'lr', 'time'])\n"
     ]
    }
   ],
   "source": [
    "print(history.history.keys())"
   ]
  },
  {
   "cell_type": "markdown",
   "metadata": {
    "id": "GZY1RYc0N2Zg"
   },
   "source": [
    "Plotting mse loss function for 'v' during training "
   ]
  },
  {
   "cell_type": "code",
   "execution_count": 15,
   "metadata": {
    "colab": {
     "base_uri": "https://localhost:8080/",
     "height": 318
    },
    "executionInfo": {
     "elapsed": 533,
     "status": "ok",
     "timestamp": 1627478281123,
     "user": {
      "displayName": "Leo Pauly",
      "photoUrl": "",
      "userId": "17762392962337360052"
     },
     "user_tz": -60
    },
    "id": "cbqSDZhfIIoB",
    "outputId": "eca90faf-be87-4025-b45f-ffe4130dd5d8"
   },
   "outputs": [
    {
     "name": "stdout",
     "output_type": "stream",
     "text": [
      "v_loss: [0.1169839767225224, 0.06472181444687118, 0.0444614810245277, 0.04345336423727879, 0.0452538402757872, 0.043768410606863574, 0.04040698306205031, 0.0365179355035831, 0.03206565505848575, 0.028900928344089197, 0.02638750790094485, 0.027046755685064157, 0.026582155720548954, 0.02502492454282108, 0.026168556686994575, 0.02290271577994477, 0.022278879470881197, 0.023101002550113575, 0.021449983119862476, 0.021567202731113504, 0.021577184984691865, 0.020680053363785072, 0.0203800823420806, 0.019602172860985905, 0.019842397441369338, 0.02058094557353352, 0.019057114954064352, 0.020316747785712123, 0.01782807821525284, 0.019049375865983213, 0.018970202863064216, 0.018063270860103526, 0.01892187205753063, 0.017479912534134532, 0.01736545569289497, 0.01754888987658635, 0.01612317979866542, 0.017341368868675995, 0.01685289734267711, 0.016148646523040672, 0.016998344129860142, 0.017171657779401515, 0.016414303486361144, 0.015070329982591937, 0.015332162420301018, 0.015847904562426653, 0.015731154783768447, 0.014736428857272912, 0.01444016124651941, 0.014352299714892972]\n"
     ]
    },
    {
     "data": {
      "image/png": "[encoded data removed]",
      "text/plain": [
       "<Figure size 432x288 with 1 Axes>"
      ]
     },
     "metadata": {
      "needs_background": "light",
      "tags": []
     },
     "output_type": "display_data"
    }
   ],
   "source": [
    "print('v_loss:',history.history['v_loss'])\n",
    "plt.plot(range(0,epochs),history.history['v_loss'],color='red',label='train')\n",
    "plt.plot(range(0,epochs),history.history['val_v_loss'],label='test')\n",
    "plt.title('v_loss vs epoch')\n",
    "plt.legend()\n",
    "plt.show()"
   ]
  },
  {
   "cell_type": "markdown",
   "metadata": {
    "id": "P0kQ8igHOpyX"
   },
   "source": [
    "Plotting mse loss function for 'h' during training "
   ]
  },
  {
   "cell_type": "code",
   "execution_count": 16,
   "metadata": {
    "colab": {
     "base_uri": "https://localhost:8080/",
     "height": 318
    },
    "executionInfo": {
     "elapsed": 22,
     "status": "ok",
     "timestamp": 1627478281124,
     "user": {
      "displayName": "Leo Pauly",
      "photoUrl": "",
      "userId": "17762392962337360052"
     },
     "user_tz": -60
    },
    "id": "dr75Gh0mJm1K",
    "outputId": "72c01215-7457-41be-bd91-a7fe806e4a69"
   },
   "outputs": [
    {
     "name": "stdout",
     "output_type": "stream",
     "text": [
      "h_loss: [0.3384852810875187, 0.24152672048131127, 0.16817749169067517, 0.1373638742590187, 0.09391867977983355, 0.06161303596086075, 0.036271333507391826, 0.022374143659177902, 0.019825920711640372, 0.019663634329292825, 0.018504951824867076, 0.017907959678326913, 0.018817934680073523, 0.017308157435156114, 0.018364403023028584, 0.018511036362190324, 0.017639416136430736, 0.018312790758857552, 0.017499365386468548, 0.017210385736289958, 0.018125256377662376, 0.01770866638556779, 0.018022953821179778, 0.017320182739854258, 0.017926477164084416, 0.01679072016230037, 0.01813518908750451, 0.01763095484478318, 0.016809477253197903, 0.01770125608144741, 0.017550606779671022, 0.017287262898895567, 0.01798417669930299, 0.016945872407149978, 0.01700529719402985, 0.017679006431976417, 0.01682149935925783, 0.01683272547304094, 0.017350049194286087, 0.017138883675379277, 0.01781780835134044, 0.016761070961135948, 0.016386293211920182, 0.01616083659304988, 0.01637954758652164, 0.016833659688314496, 0.01572408535897366, 0.016066947766931423, 0.016060804052862497, 0.0159739650433914]\n"
     ]
    },
    {
     "data": {
      "image/png": "[encoded data removed]",
      "text/plain": [
       "<Figure size 432x288 with 1 Axes>"
      ]
     },
     "metadata": {
      "needs_background": "light",
      "tags": []
     },
     "output_type": "display_data"
    }
   ],
   "source": [
    "print('h_loss:',history.history['h_loss'])\n",
    "plt.plot(range(0,epochs),history.history['h_loss'],color='red',label='train')\n",
    "plt.plot(range(0,epochs),history.history['val_h_loss'],label='test')\n",
    "plt.title('h_loss vs epoch')\n",
    "plt.legend()\n",
    "plt.show()"
   ]
  },
  {
   "cell_type": "markdown",
   "metadata": {
    "id": "7oRtF0ufOtB1"
   },
   "source": [
    "Plotting mse loss function for PDE during training "
   ]
  },
  {
   "cell_type": "code",
   "execution_count": 17,
   "metadata": {
    "colab": {
     "base_uri": "https://localhost:8080/",
     "height": 318
    },
    "executionInfo": {
     "elapsed": 483,
     "status": "ok",
     "timestamp": 1627478281590,
     "user": {
      "displayName": "Leo Pauly",
      "photoUrl": "",
      "userId": "17762392962337360052"
     },
     "user_tz": -60
    },
    "id": "RfdfilJoJty5",
    "outputId": "34ee9e02-f7c7-438f-d2a2-970758d80435"
   },
   "outputs": [
    {
     "name": "stdout",
     "output_type": "stream",
     "text": [
      "sub_loss: [0.02536001777715869, 0.025527579198681365, 0.036289090098449994, 0.036710434548617936, 0.03149500081328222, 0.027590710879528253, 0.02513934806396566, 0.023871671759977963, 0.021408013687581367, 0.020709603499709624, 0.020347322240586267, 0.01747180174020925, 0.016662691617512795, 0.016891974787576158, 0.016537092818133394, 0.015390292949419718, 0.015334703129386193, 0.015000451525575453, 0.014514618882678422, 0.013897443255731034, 0.012876842262551869, 0.012968435081763366, 0.012502950774442597, 0.01261044700811408, 0.01215065065881224, 0.011960631206636731, 0.01210856406991608, 0.01149375852307351, 0.010942894548802347, 0.011296437913479212, 0.01120374917174775, 0.010172912040778581, 0.010400256668725185, 0.010359463701603447, 0.009463265254502804, 0.010161216611874762, 0.010235751179313283, 0.009996246604671591, 0.010008721618482696, 0.010710915585705147, 0.010820582059705026, 0.010871071737972027, 0.010363030099156538, 0.01071728250332681, 0.00997288942864144, 0.010733666287151115, 0.010287841688833371, 0.010976630161783015, 0.009865044132300726, 0.009807896903468286]\n"
     ]
    },
    {
     "data": {
      "image/png": "[encoded data removed]",
      "text/plain": [
       "<Figure size 432x288 with 1 Axes>"
      ]
     },
     "metadata": {
      "needs_background": "light",
      "tags": []
     },
     "output_type": "display_data"
    }
   ],
   "source": [
    "print('sub_loss:',history.history['sub_loss'])\n",
    "plt.plot(range(0,epochs),history.history['sub_loss'],color='red',label='train')\n",
    "plt.plot(range(0,epochs),history.history['val_sub_loss'],label='test')\n",
    "plt.title('PDE loss vs epoch')\n",
    "plt.legend()\n",
    "plt.show()"
   ]
  },
  {
   "cell_type": "markdown",
   "metadata": {
    "id": "IjRPgl6tPPvZ"
   },
   "source": [
    "Plotting total loss function during training "
   ]
  },
  {
   "cell_type": "code",
   "execution_count": 18,
   "metadata": {
    "colab": {
     "base_uri": "https://localhost:8080/",
     "height": 318
    },
    "executionInfo": {
     "elapsed": 16,
     "status": "ok",
     "timestamp": 1627478281591,
     "user": {
      "displayName": "Leo Pauly",
      "photoUrl": "",
      "userId": "17762392962337360052"
     },
     "user_tz": -60
    },
    "id": "6EijqaPOKU0s",
    "outputId": "75f68939-f190-487e-ca22-5f60c90f2bcf"
   },
   "outputs": [
    {
     "name": "stdout",
     "output_type": "stream",
     "text": [
      "loss: [0.5503723604145588, 0.37096685575978045, 0.28877816622249236, 0.23811623331820597, 0.19072136772169454, 0.14416318646662601, 0.11112893720252177, 0.08895750429013916, 0.08135765950194891, 0.07615583985646356, 0.07117728630368383, 0.06822988655712024, 0.0665265903133614, 0.06485758950333313, 0.06337746309861791, 0.062112813083642054, 0.06082333299518307, 0.05933610564828559, 0.05816382000105562, 0.057444776248242214, 0.05674230557832922, 0.05598801982295465, 0.055503891772986, 0.05506043907339672, 0.0541793954486785, 0.0535083105272798, 0.05341595267141614, 0.053096133742211025, 0.05219067463695978, 0.052122191485818835, 0.05148773216369659, 0.05083762956432816, 0.050141578733601755, 0.04920136879264682, 0.049063019286871595, 0.048599508996807116, 0.04849513268161686, 0.04791806427541246, 0.04767305793599844, 0.04748515394772096, 0.04793500655135079, 0.046599928895288426, 0.04642712601411347, 0.04593127569592126, 0.04534149899327947, 0.045703582557165945, 0.04501661242849554, 0.044606043345128285, 0.044123465052088716, 0.04345342152182009]\n"
     ]
    },
    {
     "data": {
      "image/png": "[encoded data removed]",
      "text/plain": [
       "<Figure size 432x288 with 1 Axes>"
      ]
     },
     "metadata": {
      "needs_background": "light",
      "tags": []
     },
     "output_type": "display_data"
    }
   ],
   "source": [
    "print('loss:',history.history['loss'])\n",
    "plt.plot(range(0,epochs),history.history['loss'],color='red')\n",
    "plt.plot(range(0,epochs),history.history['val_loss'],label='test')\n",
    "plt.title('training loss vs epoch')\n",
    "plt.show()"
   ]
  },
  {
   "cell_type": "markdown",
   "metadata": {
    "id": "GfwwgJdS0mWf"
   },
   "source": [
    "#### Testing "
   ]
  },
  {
   "cell_type": "code",
   "execution_count": 19,
   "metadata": {
    "colab": {
     "base_uri": "https://localhost:8080/"
    },
    "executionInfo": {
     "elapsed": 10281,
     "status": "ok",
     "timestamp": 1627478291860,
     "user": {
      "displayName": "Leo Pauly",
      "photoUrl": "",
      "userId": "17762392962337360052"
     },
     "user_tz": -60
    },
    "id": "xWlXzmX4_kU7",
    "outputId": "7fca688d-6ddb-4527-fbd0-35f33a5e9cc5"
   },
   "outputs": [
    {
     "name": "stdout",
     "output_type": "stream",
     "text": [
      "MSE for v after training: 0.017108579\n",
      "MSE for h after training: 0.0139667712\n",
      "MSE for K after training: 0.2480867949\n"
     ]
    }
   ],
   "source": [
    "v_pred = v.eval(m, [x1_test,x2_test])\n",
    "h_pred = h.eval(m, [x1_test,x2_test])\n",
    "K_pred = K.eval(m, [x1_data_K,x2_data_K])\n",
    "print('MSE for v after training:',round(mean_squared_error(v_test,v_pred),10))\n",
    "print('MSE for h after training:',round(mean_squared_error(h_test,h_pred),10))\n",
    "print('MSE for K after training:',round(mean_squared_error(K_data,K_pred),10))"
   ]
  },
  {
   "cell_type": "code",
   "execution_count": 19,
   "metadata": {
    "collapsed": true,
    "executionInfo": {
     "elapsed": 24,
     "status": "ok",
     "timestamp": 1627478291861,
     "user": {
      "displayName": "Leo Pauly",
      "photoUrl": "",
      "userId": "17762392962337360052"
     },
     "user_tz": -60
    },
    "id": "Z3Iyxjmr_4yx"
   },
   "outputs": [],
   "source": [
    ""
   ]
  }
 ],
 "metadata": {
  "accelerator": "TPU",
  "colab": {
   "collapsed_sections": [],
   "name": "Flow-PINN_without_K.ipynb",
   "provenance": [],
   "toc_visible": true
  },
  "kernelspec": {
   "display_name": "Python 3",
   "language": "python",
   "name": "python3"
  },
  "language_info": {
   "codemirror_mode": {
    "name": "ipython",
    "version": 3
   },
   "file_extension": ".py",
   "mimetype": "text/x-python",
   "name": "python",
   "nbconvert_exporter": "python",
   "pygments_lexer": "ipython3",
   "version": "3.6.1"
  }
 },
 "nbformat": 4,
 "nbformat_minor": 0
}
