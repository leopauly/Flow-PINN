{
 "cells": [
  {
   "cell_type": "markdown",
   "metadata": {
    "colab_type": "text",
    "id": "_GjAWEr3TthX"
   },
   "source": [
    "#### Description "
   ]
  },
  {
   "cell_type": "code",
   "execution_count": 6,
   "metadata": {},
   "outputs": [
    {
     "name": "stdout",
     "output_type": "stream",
     "text": [
      "Name:Leo pauly\n",
      "Description: Program for implementing PINN using Darcys eq\n"
     ]
    }
   ],
   "source": [
    "print('Name:Leo pauly')\n",
    "print('Description: Program for implementing PINN using Darcys eq')"
   ]
  },
  {
   "cell_type": "markdown",
   "metadata": {},
   "source": [
    "#### Imports"
   ]
  },
  {
   "cell_type": "code",
   "execution_count": 7,
   "metadata": {
    "colab": {
     "base_uri": "https://localhost:8080/",
     "height": 187
    },
    "colab_type": "code",
    "id": "6AJcsTGv8Apr",
    "outputId": "b781e9e5-108c-4e74-c2c1-06c22c4c38d9"
   },
   "outputs": [],
   "source": [
    "import numpy as np\n",
    "import matplotlib.pyplot as plt \n",
    "import sciann as sn \n",
    "import pandas as pd\n",
    "from numpy import pi\n",
    "from sciann.utils.math import diff, sign, sin\n",
    "import keras\n",
    "from sklearn.model_selection import train_test_split\n",
    "from sklearn.metrics import mean_squared_error"
   ]
  },
  {
   "cell_type": "markdown",
   "metadata": {
    "colab_type": "text",
    "id": "akWSm5gp8OqZ"
   },
   "source": [
    "#### Darcy-PINN \n"
   ]
  },
  {
   "cell_type": "code",
   "execution_count": 8,
   "metadata": {
    "colab": {},
    "colab_type": "code",
    "collapsed": true,
    "id": "IphAjNlN8I2s"
   },
   "outputs": [],
   "source": [
    "x = sn.Variable('x',dtype='float64')\n",
    "y = sn.Variable('y',dtype='float64')\n",
    "v = sn.Functional('v', [x,y], 8*[20], 'relu')\n",
    "K = sn.Functional('K', [x,y], 8*[20], 'relu')\n",
    "h = sn.Functional('h', [x,y], 8*[20], 'relu')"
   ]
  },
  {
   "cell_type": "code",
   "execution_count": 10,
   "metadata": {
    "colab": {},
    "colab_type": "code",
    "id": "i2SHomId-9Og"
   },
   "outputs": [],
   "source": [
    "d1 = sn.Data(v)\n",
    "d3 = sn.Data(h)\n",
    "C1 = -v-K*(diff(h, x)+diff(h, y))"
   ]
  },
  {
   "cell_type": "raw",
   "metadata": {
    "colab": {},
    "colab_type": "code",
    "collapsed": true,
    "id": "4bDJqnnN-KWX"
   },
   "source": [
    "TOL = 0.001\n",
    "C1 = (1-sign(t - TOL)) * (u + sin(pi*x))\n",
    "C2 = (1-sign(x - (-1+TOL))) * (u)\n",
    "C3 = (1+sign(x - ( 1-TOL))) * (u)"
   ]
  },
  {
   "cell_type": "code",
   "execution_count": 12,
   "metadata": {
    "colab": {},
    "colab_type": "code",
    "id": "38nC2ILu-47f"
   },
   "outputs": [],
   "source": [
    "m = sn.SciModel([x,y], [d1,d3,C1])"
   ]
  },
  {
   "cell_type": "markdown",
   "metadata": {
    "colab_type": "text",
    "id": "By_guVFaXFLn"
   },
   "source": [
    "#### Dataset"
   ]
  },
  {
   "cell_type": "code",
   "execution_count": 16,
   "metadata": {
    "collapsed": true
   },
   "outputs": [],
   "source": [
    "v_data_df=pd.read_excel('Darcy_Flux.xlsx')  \n",
    "h_data_df=pd.read_excel('Hydraulic_Head.xlsx')  \n",
    "K_data_df=pd.read_excel('hyd_conductivity.xlsx')  "
   ]
  },
  {
   "cell_type": "code",
   "execution_count": 17,
   "metadata": {},
   "outputs": [
    {
     "name": "stdout",
     "output_type": "stream",
     "text": [
      "v_data: (910,)\n",
      "K_test: (1728,)\n",
      "h_data: (910,)\n"
     ]
    }
   ],
   "source": [
    "x1_data=np.array(v_data_df['X'].values)\n",
    "x2_data=np.array(v_data_df['Y'].values)\n",
    "x1_data_K=np.array(K_data_df['X'].values)\n",
    "x2_data_K=np.array(K_data_df['Y'].values)\n",
    "\n",
    "v_data=np.array(v_data_df['VINIT'].values)\n",
    "print('v_data:',v_data.shape)\n",
    "\n",
    "K_test=np.array(K_data_df['TRANS'].values)\n",
    "print('K_test:',K_test.shape)\n",
    "\n",
    "h_data=np.array(h_data_df['FINIT'].values)\n",
    "print('h_data:',h_data.shape)"
   ]
  },
  {
   "cell_type": "code",
   "execution_count": 18,
   "metadata": {},
   "outputs": [
    {
     "name": "stdout",
     "output_type": "stream",
     "text": [
      "x_data shape: (910, 1)\n",
      "x_k data shape: (1728, 1)\n"
     ]
    }
   ],
   "source": [
    "x_data=[]\n",
    "for i in range(len(x1_data)):\n",
    "    x_data.append([x1_data[i]*x2_data[i]])\n",
    "    \n",
    "x_data=np.array(x_data)   \n",
    "print('x_data shape:',x_data.shape)\n",
    "\n",
    "x_test_K=[]\n",
    "for i in range(len(x1_data_K)):\n",
    "    x_test_K.append([x1_data_K[i]*x2_data_K[i]])\n",
    "    \n",
    "x_test_K=np.array(x_test_K)   \n",
    "print('x_k data shape:',x_test_K.shape)"
   ]
  },
  {
   "cell_type": "code",
   "execution_count": 23,
   "metadata": {},
   "outputs": [
    {
     "name": "stdout",
     "output_type": "stream",
     "text": [
      "Training size (x1,x2,v,h): (637,) (637,) (637,) (637,)\n"
     ]
    }
   ],
   "source": [
    "x1_train, x1_test,x2_train, x2_test, v_train, v_test, h_train, h_test = train_test_split(x1_data,x2_data, v_data, h_data, test_size=.3, random_state=1)\n",
    "print('Training size (x1,x2,v,h):',x1_train.shape,x2_train.shape,v_train.shape,h_train.shape)\n",
    "C1_train = 'zeros'"
   ]
  },
  {
   "cell_type": "code",
   "execution_count": 26,
   "metadata": {},
   "outputs": [
    {
     "name": "stdout",
     "output_type": "stream",
     "text": [
      "MSE for v before training: 0.1354483698\n",
      "MSE for h before training: 0.3516024985\n",
      "MSE for K before training: 9.42581e-05\n"
     ]
    }
   ],
   "source": [
    "v_pred = v.eval(m, [x1_test,x2_test])\n",
    "h_pred = h.eval(m, [x1_test,x2_test])\n",
    "K_pred = K.eval(m, [x1_data_K,x2_data_K])\n",
    "print('MSE for v before training:',round(mean_squared_error(v_test,v_pred),10))\n",
    "print('MSE for h before training:',round(mean_squared_error(h_test,h_pred),10))\n",
    "print('MSE for K before training:',round(mean_squared_error(K_test,K_pred),10))"
   ]
  },
  {
   "cell_type": "markdown",
   "metadata": {},
   "source": [
    "#### Training"
   ]
  },
  {
   "cell_type": "code",
   "execution_count": 27,
   "metadata": {
    "scrolled": true
   },
   "outputs": [
    {
     "ename": "NameError",
     "evalue": "name 'x_train' is not defined",
     "output_type": "error",
     "traceback": [
      "\u001b[0;31m---------------------------------------------------------------------------\u001b[0m",
      "\u001b[0;31mNameError\u001b[0m                                 Traceback (most recent call last)",
      "\u001b[0;32m<ipython-input-27-af18a37ae36c>\u001b[0m in \u001b[0;36m<module>\u001b[0;34m()\u001b[0m\n\u001b[1;32m      1\u001b[0m \u001b[0mlearning_rate\u001b[0m\u001b[0;34m=\u001b[0m\u001b[0;36m0.001\u001b[0m\u001b[0;34m\u001b[0m\u001b[0m\n\u001b[1;32m      2\u001b[0m \u001b[0mepochs\u001b[0m\u001b[0;34m=\u001b[0m\u001b[0;36m10\u001b[0m\u001b[0;34m\u001b[0m\u001b[0m\n\u001b[0;32m----> 3\u001b[0;31m \u001b[0mhistory\u001b[0m \u001b[0;34m=\u001b[0m \u001b[0mm\u001b[0m\u001b[0;34m.\u001b[0m\u001b[0mtrain\u001b[0m\u001b[0;34m(\u001b[0m\u001b[0;34m[\u001b[0m\u001b[0mx_train\u001b[0m\u001b[0;34m]\u001b[0m\u001b[0;34m,\u001b[0m \u001b[0;34m[\u001b[0m\u001b[0mv_train\u001b[0m\u001b[0;34m,\u001b[0m\u001b[0mh_train\u001b[0m\u001b[0;34m,\u001b[0m\u001b[0mC1_train\u001b[0m\u001b[0;34m]\u001b[0m\u001b[0;34m,\u001b[0m \u001b[0mlearning_rate\u001b[0m\u001b[0;34m=\u001b[0m\u001b[0mlearning_rate\u001b[0m\u001b[0;34m,\u001b[0m \u001b[0mepochs\u001b[0m\u001b[0;34m=\u001b[0m\u001b[0mepochs\u001b[0m\u001b[0;34m,\u001b[0m \u001b[0mverbose\u001b[0m\u001b[0;34m=\u001b[0m\u001b[0;36m1\u001b[0m\u001b[0;34m,\u001b[0m\u001b[0mbatch_size\u001b[0m\u001b[0;34m=\u001b[0m\u001b[0;36m10\u001b[0m\u001b[0;34m)\u001b[0m\u001b[0;34m\u001b[0m\u001b[0m\n\u001b[0m",
      "\u001b[0;31mNameError\u001b[0m: name 'x_train' is not defined"
     ]
    }
   ],
   "source": [
    "learning_rate=0.001\n",
    "epochs=10\n",
    "history = m.train([x1_train,x2_train], [v_train,h_train,C1_train], learning_rate=learning_rate, epochs=epochs, verbose=1,batch_size=10)"
   ]
  },
  {
   "cell_type": "markdown",
   "metadata": {},
   "source": [
    "#### Testing "
   ]
  },
  {
   "cell_type": "code",
   "execution_count": 12,
   "metadata": {
    "colab": {},
    "colab_type": "code",
    "id": "xWlXzmX4_kU7"
   },
   "outputs": [
    {
     "name": "stdout",
     "output_type": "stream",
     "text": [
      "MSE for v after training: 0.0245432757\n",
      "MSE for h after training: 0.120292859\n",
      "MSE for K after training: 2.5864848101\n"
     ]
    }
   ],
   "source": [
    "v_pred = v.eval(m, [x_test])\n",
    "h_pred = h.eval(m, [x_test])\n",
    "K_pred = K.eval(m, [x_test_K])\n",
    "print('MSE for v after training:',round(mean_squared_error(v_test,v_pred),10))\n",
    "print('MSE for h after training:',round(mean_squared_error(h_test,h_pred),10))\n",
    "print('MSE for K after training:',round(mean_squared_error(K_test,K_pred),10))"
   ]
  },
  {
   "cell_type": "code",
   "execution_count": null,
   "metadata": {
    "colab": {},
    "colab_type": "code",
    "collapsed": true,
    "id": "Z3Iyxjmr_4yx"
   },
   "outputs": [],
   "source": []
  }
 ],
 "metadata": {
  "accelerator": "TPU",
  "colab": {
   "collapsed_sections": [],
   "name": "burgers.ipynb",
   "provenance": []
  },
  "kernelspec": {
   "display_name": "Python 3",
   "language": "python",
   "name": "python3"
  },
  "language_info": {
   "codemirror_mode": {
    "name": "ipython",
    "version": 3
   },
   "file_extension": ".py",
   "mimetype": "text/x-python",
   "name": "python",
   "nbconvert_exporter": "python",
   "pygments_lexer": "ipython3",
   "version": "3.6.1"
  }
 },
 "nbformat": 4,
 "nbformat_minor": 1
}
