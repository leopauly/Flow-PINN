{
 "cells": [
  {
   "cell_type": "markdown",
   "metadata": {
    "colab_type": "text",
    "id": "_GjAWEr3TthX"
   },
   "source": [
    "#### Description "
   ]
  },
  {
   "cell_type": "code",
   "execution_count": 6,
   "metadata": {},
   "outputs": [
    {
     "name": "stdout",
     "output_type": "stream",
     "text": [
      "Name:Leo pauly\n",
      "Description: Program for implementing PINN using Darcys eq\n"
     ]
    }
   ],
   "source": [
    "print('Name:Leo pauly')\n",
    "print('Description: Program for implementing PINN using Darcys eq')"
   ]
  },
  {
   "cell_type": "markdown",
   "metadata": {},
   "source": [
    "#### Imports"
   ]
  },
  {
   "cell_type": "code",
   "execution_count": 7,
   "metadata": {
    "colab": {
     "base_uri": "https://localhost:8080/",
     "height": 187
    },
    "colab_type": "code",
    "id": "6AJcsTGv8Apr",
    "outputId": "b781e9e5-108c-4e74-c2c1-06c22c4c38d9"
   },
   "outputs": [],
   "source": [
    "import numpy as np\n",
    "import matplotlib.pyplot as plt \n",
    "import sciann as sn \n",
    "import pandas as pd\n",
    "from numpy import pi\n",
    "from sciann.utils.math import diff, sign, sin\n",
    "import keras\n",
    "from sklearn.model_selection import train_test_split\n",
    "from sklearn.metrics import mean_squared_error"
   ]
  },
  {
   "cell_type": "markdown",
   "metadata": {
    "colab_type": "text",
    "id": "akWSm5gp8OqZ"
   },
   "source": [
    "#### Darcy-PINN \n"
   ]
  },
  {
   "cell_type": "code",
   "execution_count": 8,
   "metadata": {
    "colab": {},
    "colab_type": "code",
    "collapsed": true,
    "id": "IphAjNlN8I2s"
   },
   "outputs": [],
   "source": [
    "x = sn.Variable('x',dtype='float64')\n",
    "y = sn.Variable('y',dtype='float64')\n",
    "v = sn.Functional('v', [x,y], 8*[20], 'relu')\n",
    "K = sn.Functional('K', [x,y], 8*[20], 'relu')\n",
    "h = sn.Functional('h', [x,y], 8*[20], 'relu')"
   ]
  },
  {
   "cell_type": "code",
   "execution_count": 10,
   "metadata": {
    "colab": {},
    "colab_type": "code",
    "id": "i2SHomId-9Og"
   },
   "outputs": [],
   "source": [
    "d1 = sn.Data(v)\n",
    "d3 = sn.Data(h)\n",
    "C1 = -v-K*(diff(h, x)+diff(h, y))"
   ]
  },
  {
   "cell_type": "raw",
   "metadata": {
    "colab": {},
    "colab_type": "code",
    "collapsed": true,
    "id": "4bDJqnnN-KWX"
   },
   "source": [
    "TOL = 0.001\n",
    "C1 = (1-sign(t - TOL)) * (u + sin(pi*x))\n",
    "C2 = (1-sign(x - (-1+TOL))) * (u)\n",
    "C3 = (1+sign(x - ( 1-TOL))) * (u)"
   ]
  },
  {
   "cell_type": "code",
   "execution_count": 12,
   "metadata": {
    "colab": {},
    "colab_type": "code",
    "id": "38nC2ILu-47f"
   },
   "outputs": [],
   "source": [
    "m = sn.SciModel([x,y], [d1,d3,C1])"
   ]
  },
  {
   "cell_type": "markdown",
   "metadata": {
    "colab_type": "text",
    "id": "By_guVFaXFLn"
   },
   "source": [
    "#### Dataset"
   ]
  },
  {
   "cell_type": "code",
   "execution_count": 16,
   "metadata": {
    "collapsed": true
   },
   "outputs": [],
   "source": [
    "v_data_df=pd.read_excel('Darcy_Flux.xlsx')  \n",
    "h_data_df=pd.read_excel('Hydraulic_Head.xlsx')  \n",
    "K_data_df=pd.read_excel('hyd_conductivity.xlsx')  "
   ]
  },
  {
   "cell_type": "code",
   "execution_count": 17,
   "metadata": {},
   "outputs": [
    {
     "name": "stdout",
     "output_type": "stream",
     "text": [
      "v_data: (910,)\n",
      "K_test: (1728,)\n",
      "h_data: (910,)\n"
     ]
    }
   ],
   "source": [
    "x1_data=np.array(v_data_df['X'].values)\n",
    "x2_data=np.array(v_data_df['Y'].values)\n",
    "x1_data_K=np.array(K_data_df['X'].values)\n",
    "x2_data_K=np.array(K_data_df['Y'].values)\n",
    "\n",
    "v_data=np.array(v_data_df['VINIT'].values)\n",
    "print('v_data:',v_data.shape)\n",
    "\n",
    "K_test=np.array(K_data_df['TRANS'].values)\n",
    "print('K_test:',K_test.shape)\n",
    "\n",
    "h_data=np.array(h_data_df['FINIT'].values)\n",
    "print('h_data:',h_data.shape)"
   ]
  },
  {
   "cell_type": "code",
   "execution_count": 18,
   "metadata": {},
   "outputs": [
    {
     "name": "stdout",
     "output_type": "stream",
     "text": [
      "x_data shape: (910, 1)\n",
      "x_k data shape: (1728, 1)\n"
     ]
    }
   ],
   "source": [
    "x_data=[]\n",
    "for i in range(len(x1_data)):\n",
    "    x_data.append([x1_data[i]*x2_data[i]])\n",
    "    \n",
    "x_data=np.array(x_data)   \n",
    "print('x_data shape:',x_data.shape)\n",
    "\n",
    "x_test_K=[]\n",
    "for i in range(len(x1_data_K)):\n",
    "    x_test_K.append([x1_data_K[i]*x2_data_K[i]])\n",
    "    \n",
    "x_test_K=np.array(x_test_K)   \n",
    "print('x_k data shape:',x_test_K.shape)"
   ]
  },
  {
   "cell_type": "code",
   "execution_count": 23,
   "metadata": {},
   "outputs": [
    {
     "name": "stdout",
     "output_type": "stream",
     "text": [
      "Training size (x1,x2,v,h): (637,) (637,) (637,) (637,)\n"
     ]
    }
   ],
   "source": [
    "x1_train, x1_test,x2_train, x2_test, v_train, v_test, h_train, h_test = train_test_split(x1_data,x2_data, v_data, h_data, test_size=.3, random_state=1)\n",
    "print('Training size (x1,x2,v,h):',x1_train.shape,x2_train.shape,v_train.shape,h_train.shape)\n",
    "C1_train = 'zeros'"
   ]
  },
  {
   "cell_type": "code",
   "execution_count": 26,
   "metadata": {},
   "outputs": [
    {
     "name": "stdout",
     "output_type": "stream",
     "text": [
      "MSE for v before training: 0.1354483698\n",
      "MSE for h before training: 0.3516024985\n",
      "MSE for K before training: 9.42581e-05\n"
     ]
    }
   ],
   "source": [
    "v_pred = v.eval(m, [x1_test,x2_test])\n",
    "h_pred = h.eval(m, [x1_test,x2_test])\n",
    "K_pred = K.eval(m, [x1_data_K,x2_data_K])\n",
    "print('MSE for v before training:',round(mean_squared_error(v_test,v_pred),10))\n",
    "print('MSE for h before training:',round(mean_squared_error(h_test,h_pred),10))\n",
    "print('MSE for K before training:',round(mean_squared_error(K_test,K_pred),10))"
   ]
  },
  {
   "cell_type": "markdown",
   "metadata": {},
   "source": [
    "#### Training"
   ]
  },
  {
   "cell_type": "code",
   "execution_count": 30,
   "metadata": {
    "scrolled": true
   },
   "outputs": [
    {
     "name": "stdout",
     "output_type": "stream",
     "text": [
      "\n",
      "Total samples: 637 \n",
      "Batch size: 10 \n",
      "Total batches: 64 \n",
      "\n",
      "Epoch 1/200\n",
      "64/64 [==============================] - 0s 5ms/step - batch: 31.5000 - size: 9.9531 - loss: 0.0317 - v_loss: 0.0091 - h_loss: 0.0139 - sub_2_loss: 0.0088 - lr: 0.0010 - time: 0.3571\n",
      "Epoch 2/200\n",
      "64/64 [==============================] - 0s 6ms/step - batch: 31.5000 - size: 9.9531 - loss: 0.0310 - v_loss: 0.0084 - h_loss: 0.0133 - sub_2_loss: 0.0093 - lr: 0.0010 - time: 0.4035\n",
      "Epoch 3/200\n",
      "64/64 [==============================] - 0s 6ms/step - batch: 31.5000 - size: 9.9531 - loss: 0.0276 - v_loss: 0.0072 - h_loss: 0.0130 - sub_2_loss: 0.0073 - lr: 0.0010 - time: 0.4050\n",
      "Epoch 4/200\n",
      "64/64 [==============================] - 0s 5ms/step - batch: 31.5000 - size: 9.9531 - loss: 0.0275 - v_loss: 0.0068 - h_loss: 0.0133 - sub_2_loss: 0.0074 - lr: 0.0010 - time: 0.3927\n",
      "Epoch 5/200\n",
      "64/64 [==============================] - 0s 5ms/step - batch: 31.5000 - size: 9.9531 - loss: 0.0268 - v_loss: 0.0065 - h_loss: 0.0134 - sub_2_loss: 0.0069 - lr: 0.0010 - time: 0.3990\n",
      "Epoch 6/200\n",
      "64/64 [==============================] - 0s 5ms/step - batch: 31.5000 - size: 9.9531 - loss: 0.0253 - v_loss: 0.0059 - h_loss: 0.0130 - sub_2_loss: 0.0063 - lr: 0.0010 - time: 0.3970\n",
      "Epoch 7/200\n",
      "64/64 [==============================] - 0s 6ms/step - batch: 31.5000 - size: 9.9531 - loss: 0.0250 - v_loss: 0.0055 - h_loss: 0.0134 - sub_2_loss: 0.0061 - lr: 0.0010 - time: 0.4040\n",
      "Epoch 8/200\n",
      "64/64 [==============================] - 0s 6ms/step - batch: 31.5000 - size: 9.9531 - loss: 0.0237 - v_loss: 0.0052 - h_loss: 0.0132 - sub_2_loss: 0.0053 - lr: 0.0010 - time: 0.4045ize: 10.0000 - loss: 0.0255 - v_loss: 0.0064 - h_loss: 0.0150 - sub_2_loss: 0.\n",
      "Epoch 9/200\n",
      "64/64 [==============================] - 0s 5ms/step - batch: 31.5000 - size: 9.9531 - loss: 0.0242 - v_loss: 0.0050 - h_loss: 0.0132 - sub_2_loss: 0.0060 - lr: 0.0010 - time: 0.3953\n",
      "Epoch 10/200\n",
      "64/64 [==============================] - 0s 5ms/step - batch: 31.5000 - size: 9.9531 - loss: 0.0242 - v_loss: 0.0048 - h_loss: 0.0132 - sub_2_loss: 0.0063 - lr: 0.0010 - time: 0.3965\n",
      "Epoch 11/200\n",
      "64/64 [==============================] - 0s 6ms/step - batch: 31.5000 - size: 9.9531 - loss: 0.0253 - v_loss: 0.0054 - h_loss: 0.0137 - sub_2_loss: 0.0062 - lr: 0.0010 - time: 0.4026\n",
      "Epoch 12/200\n",
      "64/64 [==============================] - 0s 6ms/step - batch: 31.5000 - size: 9.9531 - loss: 0.0239 - v_loss: 0.0045 - h_loss: 0.0133 - sub_2_loss: 0.0060 - lr: 0.0010 - time: 0.4066\n",
      "Epoch 13/200\n",
      "64/64 [==============================] - 0s 5ms/step - batch: 31.5000 - size: 9.9531 - loss: 0.0217 - v_loss: 0.0037 - h_loss: 0.0128 - sub_2_loss: 0.0052 - lr: 0.0010 - time: 0.3947\n",
      "Epoch 14/200\n",
      "64/64 [==============================] - 0s 5ms/step - batch: 31.5000 - size: 9.9531 - loss: 0.0221 - v_loss: 0.0042 - h_loss: 0.0122 - sub_2_loss: 0.0057 - lr: 0.0010 - time: 0.3970\n",
      "Epoch 15/200\n",
      "64/64 [==============================] - 0s 6ms/step - batch: 31.5000 - size: 9.9531 - loss: 0.0217 - v_loss: 0.0035 - h_loss: 0.0124 - sub_2_loss: 0.0059 - lr: 0.0010 - time: 0.4021\n",
      "Epoch 16/200\n",
      "64/64 [==============================] - 0s 6ms/step - batch: 31.5000 - size: 9.9531 - loss: 0.0234 - v_loss: 0.0037 - h_loss: 0.0123 - sub_2_loss: 0.0073 - lr: 0.0010 - time: 0.4084\n",
      "Epoch 17/200\n",
      "64/64 [==============================] - 0s 6ms/step - batch: 31.5000 - size: 9.9531 - loss: 0.0237 - v_loss: 0.0039 - h_loss: 0.0125 - sub_2_loss: 0.0073 - lr: 0.0010 - time: 0.3995\n",
      "Epoch 18/200\n",
      "64/64 [==============================] - 0s 6ms/step - batch: 31.5000 - size: 9.9531 - loss: 0.0234 - v_loss: 0.0042 - h_loss: 0.0125 - sub_2_loss: 0.0067 - lr: 0.0010 - time: 0.4022\n",
      "Epoch 19/200\n",
      "64/64 [==============================] - 0s 6ms/step - batch: 31.5000 - size: 9.9531 - loss: 0.0249 - v_loss: 0.0040 - h_loss: 0.0127 - sub_2_loss: 0.0082 - lr: 0.0010 - time: 0.4016\n",
      "Epoch 20/200\n",
      "64/64 [==============================] - 0s 5ms/step - batch: 31.5000 - size: 9.9531 - loss: 0.0238 - v_loss: 0.0039 - h_loss: 0.0131 - sub_2_loss: 0.0067 - lr: 0.0010 - time: 0.3952\n",
      "Epoch 21/200\n",
      "64/64 [==============================] - 0s 6ms/step - batch: 31.5000 - size: 9.9531 - loss: 0.0219 - v_loss: 0.0037 - h_loss: 0.0122 - sub_2_loss: 0.0061 - lr: 0.0010 - time: 0.4021\n",
      "Epoch 22/200\n",
      "64/64 [==============================] - 0s 6ms/step - batch: 31.5000 - size: 9.9531 - loss: 0.0211 - v_loss: 0.0036 - h_loss: 0.0118 - sub_2_loss: 0.0058 - lr: 0.0010 - time: 0.4017\n",
      "Epoch 23/200\n",
      "64/64 [==============================] - 0s 5ms/step - batch: 31.5000 - size: 9.9531 - loss: 0.0202 - v_loss: 0.0035 - h_loss: 0.0117 - sub_2_loss: 0.0051 - lr: 0.0010 - time: 0.3992 - size: 10.0000 - loss: 0.0167 - v_loss: 0.0018 - h_loss: 0.0093 - sub_2_loss\n",
      "Epoch 24/200\n",
      "64/64 [==============================] - 0s 6ms/step - batch: 31.5000 - size: 9.9531 - loss: 0.0220 - v_loss: 0.0033 - h_loss: 0.0123 - sub_2_loss: 0.0063 - lr: 0.0010 - time: 0.4021\n",
      "Epoch 25/200\n",
      "64/64 [==============================] - 0s 6ms/step - batch: 31.5000 - size: 9.9531 - loss: 0.0229 - v_loss: 0.0037 - h_loss: 0.0118 - sub_2_loss: 0.0075 - lr: 0.0010 - time: 0.4053\n",
      "Epoch 26/200\n",
      "64/64 [==============================] - 0s 5ms/step - batch: 31.5000 - size: 9.9531 - loss: 0.0263 - v_loss: 0.0053 - h_loss: 0.0122 - sub_2_loss: 0.0088 - lr: 0.0010 - time: 0.3949\n",
      "Epoch 27/200\n",
      "64/64 [==============================] - 0s 6ms/step - batch: 31.5000 - size: 9.9531 - loss: 0.0237 - v_loss: 0.0047 - h_loss: 0.0120 - sub_2_loss: 0.0069 - lr: 0.0010 - time: 0.4031\n",
      "Epoch 28/200\n",
      "64/64 [==============================] - 0s 5ms/step - batch: 31.5000 - size: 9.9531 - loss: 0.0216 - v_loss: 0.0033 - h_loss: 0.0122 - sub_2_loss: 0.0061 - lr: 0.0010 - time: 0.3951\n",
      "Epoch 29/200\n",
      "64/64 [==============================] - 0s 6ms/step - batch: 31.5000 - size: 9.9531 - loss: 0.0215 - v_loss: 0.0031 - h_loss: 0.0125 - sub_2_loss: 0.0060 - lr: 0.0010 - time: 0.4035\n",
      "Epoch 30/200\n",
      "64/64 [==============================] - 0s 6ms/step - batch: 31.5000 - size: 9.9531 - loss: 0.0197 - v_loss: 0.0030 - h_loss: 0.0115 - sub_2_loss: 0.0052 - lr: 0.0010 - time: 0.4023\n",
      "Epoch 31/200\n",
      "64/64 [==============================] - 0s 6ms/step - batch: 31.5000 - size: 9.9531 - loss: 0.0198 - v_loss: 0.0028 - h_loss: 0.0116 - sub_2_loss: 0.0054 - lr: 0.0010 - time: 0.4044\n",
      "Epoch 32/200\n",
      "64/64 [==============================] - 0s 5ms/step - batch: 31.5000 - size: 9.9531 - loss: 0.0198 - v_loss: 0.0030 - h_loss: 0.0117 - sub_2_loss: 0.0051 - lr: 0.0010 - time: 0.3954\n",
      "Epoch 33/200\n",
      "64/64 [==============================] - 0s 5ms/step - batch: 31.5000 - size: 9.9531 - loss: 0.0186 - v_loss: 0.0026 - h_loss: 0.0115 - sub_2_loss: 0.0045 - lr: 0.0010 - time: 0.3983\n",
      "Epoch 34/200\n",
      "64/64 [==============================] - 0s 6ms/step - batch: 31.5000 - size: 9.9531 - loss: 0.0191 - v_loss: 0.0028 - h_loss: 0.0115 - sub_2_loss: 0.0049 - lr: 0.0010 - time: 0.4016\n",
      "Epoch 35/200\n",
      "64/64 [==============================] - 0s 5ms/step - batch: 31.5000 - size: 9.9531 - loss: 0.0189 - v_loss: 0.0026 - h_loss: 0.0112 - sub_2_loss: 0.0051 - lr: 0.0010 - time: 0.3976\n",
      "Epoch 36/200\n",
      "64/64 [==============================] - 0s 6ms/step - batch: 31.5000 - size: 9.9531 - loss: 0.0204 - v_loss: 0.0032 - h_loss: 0.0113 - sub_2_loss: 0.0059 - lr: 0.0010 - time: 0.4035\n",
      "Epoch 37/200\n",
      "64/64 [==============================] - 0s 5ms/step - batch: 31.5000 - size: 9.9531 - loss: 0.0188 - v_loss: 0.0033 - h_loss: 0.0108 - sub_2_loss: 0.0047 - lr: 0.0010 - time: 0.3949\n",
      "Epoch 38/200\n",
      "64/64 [==============================] - 0s 5ms/step - batch: 31.5000 - size: 9.9531 - loss: 0.0195 - v_loss: 0.0031 - h_loss: 0.0110 - sub_2_loss: 0.0054 - lr: 0.0010 - time: 0.3977\n",
      "Epoch 39/200\n",
      "64/64 [==============================] - 0s 5ms/step - batch: 31.5000 - size: 9.9531 - loss: 0.0202 - v_loss: 0.0033 - h_loss: 0.0113 - sub_2_loss: 0.0056 - lr: 0.0010 - time: 0.3988\n",
      "Epoch 40/200\n",
      "64/64 [==============================] - 0s 6ms/step - batch: 31.5000 - size: 9.9531 - loss: 0.0207 - v_loss: 0.0036 - h_loss: 0.0112 - sub_2_loss: 0.0059 - lr: 0.0010 - time: 0.4035\n",
      "Epoch 41/200\n"
     ]
    },
    {
     "name": "stdout",
     "output_type": "stream",
     "text": [
      "64/64 [==============================] - 0s 5ms/step - batch: 31.5000 - size: 9.9531 - loss: 0.0183 - v_loss: 0.0028 - h_loss: 0.0109 - sub_2_loss: 0.0046 - lr: 0.0010 - time: 0.3990\n",
      "Epoch 42/200\n",
      "64/64 [==============================] - 0s 6ms/step - batch: 31.5000 - size: 9.9531 - loss: 0.0200 - v_loss: 0.0029 - h_loss: 0.0112 - sub_2_loss: 0.0059 - lr: 0.0010 - time: 0.4035\n",
      "Epoch 43/200\n",
      "64/64 [==============================] - 0s 6ms/step - batch: 31.5000 - size: 9.9531 - loss: 0.0196 - v_loss: 0.0030 - h_loss: 0.0109 - sub_2_loss: 0.0057 - lr: 0.0010 - time: 0.4026\n",
      "Epoch 44/200\n",
      "64/64 [==============================] - 0s 6ms/step - batch: 31.5000 - size: 9.9531 - loss: 0.0188 - v_loss: 0.0027 - h_loss: 0.0111 - sub_2_loss: 0.0051 - lr: 0.0010 - time: 0.4013\n",
      "Epoch 45/200\n",
      "64/64 [==============================] - 0s 6ms/step - batch: 31.5000 - size: 9.9531 - loss: 0.0190 - v_loss: 0.0027 - h_loss: 0.0109 - sub_2_loss: 0.0054 - lr: 0.0010 - time: 0.4090\n",
      "Epoch 46/200\n",
      "64/64 [==============================] - 0s 5ms/step - batch: 31.5000 - size: 9.9531 - loss: 0.0193 - v_loss: 0.0029 - h_loss: 0.0108 - sub_2_loss: 0.0056 - lr: 0.0010 - time: 0.3879\n",
      "Epoch 47/200\n",
      "64/64 [==============================] - 0s 6ms/step - batch: 31.5000 - size: 9.9531 - loss: 0.0189 - v_loss: 0.0029 - h_loss: 0.0108 - sub_2_loss: 0.0053 - lr: 0.0010 - time: 0.4079\n",
      "Epoch 48/200\n",
      "64/64 [==============================] - 0s 5ms/step - batch: 31.5000 - size: 9.9531 - loss: 0.0220 - v_loss: 0.0037 - h_loss: 0.0107 - sub_2_loss: 0.0076 - lr: 0.0010 - time: 0.3896\n",
      "Epoch 49/200\n",
      "64/64 [==============================] - 0s 5ms/step - batch: 31.5000 - size: 9.9531 - loss: 0.0180 - v_loss: 0.0025 - h_loss: 0.0107 - sub_2_loss: 0.0048 - lr: 0.0010 - time: 0.3990\n",
      "Epoch 50/200\n",
      "64/64 [==============================] - 0s 5ms/step - batch: 31.5000 - size: 9.9531 - loss: 0.0173 - v_loss: 0.0023 - h_loss: 0.0104 - sub_2_loss: 0.0046 - lr: 0.0010 - time: 0.3982\n",
      "Epoch 51/200\n",
      "64/64 [==============================] - 0s 6ms/step - batch: 31.5000 - size: 9.9531 - loss: 0.0178 - v_loss: 0.0026 - h_loss: 0.0104 - sub_2_loss: 0.0049 - lr: 0.0010 - time: 0.4027\n",
      "Epoch 52/200\n",
      "64/64 [==============================] - 0s 6ms/step - batch: 31.5000 - size: 9.9531 - loss: 0.0174 - v_loss: 0.0022 - h_loss: 0.0106 - sub_2_loss: 0.0047 - lr: 0.0010 - time: 0.3994\n",
      "Epoch 53/200\n",
      "64/64 [==============================] - 0s 5ms/step - batch: 31.5000 - size: 9.9531 - loss: 0.0168 - v_loss: 0.0020 - h_loss: 0.0102 - sub_2_loss: 0.0047 - lr: 0.0010 - time: 0.3674\n",
      "Epoch 54/200\n",
      "64/64 [==============================] - 0s 6ms/step - batch: 31.5000 - size: 9.9531 - loss: 0.0180 - v_loss: 0.0021 - h_loss: 0.0106 - sub_2_loss: 0.0053 - lr: 0.0010 - time: 0.4103\n",
      "Epoch 55/200\n",
      "64/64 [==============================] - 0s 5ms/step - batch: 31.5000 - size: 9.9531 - loss: 0.0178 - v_loss: 0.0025 - h_loss: 0.0102 - sub_2_loss: 0.0052 - lr: 0.0010 - time: 0.3989\n",
      "Epoch 56/200\n",
      "64/64 [==============================] - 0s 6ms/step - batch: 31.5000 - size: 9.9531 - loss: 0.0169 - v_loss: 0.0022 - h_loss: 0.0103 - sub_2_loss: 0.0045 - lr: 0.0010 - time: 0.4031\n",
      "Epoch 57/200\n",
      "64/64 [==============================] - 0s 6ms/step - batch: 31.5000 - size: 9.9531 - loss: 0.0169 - v_loss: 0.0019 - h_loss: 0.0105 - sub_2_loss: 0.0044 - lr: 0.0010 - time: 0.4019\n",
      "Epoch 58/200\n",
      "64/64 [==============================] - 0s 5ms/step - batch: 31.5000 - size: 9.9531 - loss: 0.0178 - v_loss: 0.0020 - h_loss: 0.0106 - sub_2_loss: 0.0053 - lr: 0.0010 - time: 0.3962\n",
      "Epoch 59/200\n",
      "64/64 [==============================] - 0s 6ms/step - batch: 31.5000 - size: 9.9531 - loss: 0.0175 - v_loss: 0.0022 - h_loss: 0.0106 - sub_2_loss: 0.0048 - lr: 0.0010 - time: 0.4043\n",
      "Epoch 60/200\n",
      "64/64 [==============================] - 0s 5ms/step - batch: 31.5000 - size: 9.9531 - loss: 0.0178 - v_loss: 0.0025 - h_loss: 0.0100 - sub_2_loss: 0.0053 - lr: 0.0010 - time: 0.3944\n",
      "Epoch 61/200\n",
      "64/64 [==============================] - 0s 5ms/step - batch: 31.5000 - size: 9.9531 - loss: 0.0157 - v_loss: 0.0019 - h_loss: 0.0101 - sub_2_loss: 0.0037 - lr: 0.0010 - time: 0.3987\n",
      "Epoch 62/200\n",
      "64/64 [==============================] - 0s 6ms/step - batch: 31.5000 - size: 9.9531 - loss: 0.0163 - v_loss: 0.0021 - h_loss: 0.0100 - sub_2_loss: 0.0043 - lr: 0.0010 - time: 0.4046\n",
      "Epoch 63/200\n",
      "64/64 [==============================] - 0s 5ms/step - batch: 31.5000 - size: 9.9531 - loss: 0.0168 - v_loss: 0.0018 - h_loss: 0.0100 - sub_2_loss: 0.0049 - lr: 0.0010 - time: 0.3953\n",
      "Epoch 64/200\n",
      "64/64 [==============================] - 0s 6ms/step - batch: 31.5000 - size: 9.9531 - loss: 0.0164 - v_loss: 0.0020 - h_loss: 0.0098 - sub_2_loss: 0.0046 - lr: 0.0010 - time: 0.3998\n",
      "Epoch 65/200\n",
      "64/64 [==============================] - 0s 5ms/step - batch: 31.5000 - size: 9.9531 - loss: 0.0176 - v_loss: 0.0021 - h_loss: 0.0101 - sub_2_loss: 0.0054 - lr: 0.0010 - time: 0.3993 - size: 10.0000 - loss: 0.0154 - v_loss: 0.0014 - h_loss: 0.0090 - sub_2_loss: 0.005\n",
      "Epoch 66/200\n",
      "64/64 [==============================] - 0s 6ms/step - batch: 31.5000 - size: 9.9531 - loss: 0.0166 - v_loss: 0.0023 - h_loss: 0.0100 - sub_2_loss: 0.0042 - lr: 0.0010 - time: 0.4024\n",
      "Epoch 67/200\n",
      "64/64 [==============================] - 0s 5ms/step - batch: 31.5000 - size: 9.9531 - loss: 0.0162 - v_loss: 0.0018 - h_loss: 0.0098 - sub_2_loss: 0.0045 - lr: 0.0010 - time: 0.3972\n",
      "Epoch 68/200\n",
      "64/64 [==============================] - 0s 5ms/step - batch: 31.5000 - size: 9.9531 - loss: 0.0180 - v_loss: 0.0023 - h_loss: 0.0102 - sub_2_loss: 0.0055 - lr: 0.0010 - time: 0.3979\n",
      "Epoch 69/200\n",
      "64/64 [==============================] - 0s 6ms/step - batch: 31.5000 - size: 9.9531 - loss: 0.0159 - v_loss: 0.0020 - h_loss: 0.0099 - sub_2_loss: 0.0040 - lr: 0.0010 - time: 0.4024\n",
      "Epoch 70/200\n",
      "64/64 [==============================] - 0s 5ms/step - batch: 31.5000 - size: 9.9531 - loss: 0.0175 - v_loss: 0.0021 - h_loss: 0.0102 - sub_2_loss: 0.0052 - lr: 0.0010 - time: 0.3973\n",
      "Epoch 71/200\n",
      "64/64 [==============================] - 0s 6ms/step - batch: 31.5000 - size: 9.9531 - loss: 0.0167 - v_loss: 0.0019 - h_loss: 0.0097 - sub_2_loss: 0.0050 - lr: 0.0010 - time: 0.4096\n",
      "Epoch 72/200\n",
      "64/64 [==============================] - 0s 5ms/step - batch: 31.5000 - size: 9.9531 - loss: 0.0156 - v_loss: 0.0018 - h_loss: 0.0102 - sub_2_loss: 0.0036 - lr: 0.0010 - time: 0.3939\n",
      "Epoch 73/200\n",
      "64/64 [==============================] - 0s 6ms/step - batch: 31.5000 - size: 9.9531 - loss: 0.0150 - v_loss: 0.0016 - h_loss: 0.0101 - sub_2_loss: 0.0032 - lr: 0.0010 - time: 0.4037\n",
      "Epoch 74/200\n",
      "64/64 [==============================] - 0s 6ms/step - batch: 31.5000 - size: 9.9531 - loss: 0.0155 - v_loss: 0.0017 - h_loss: 0.0097 - sub_2_loss: 0.0041 - lr: 0.0010 - time: 0.4004\n",
      "Epoch 75/200\n",
      "64/64 [==============================] - 0s 6ms/step - batch: 31.5000 - size: 9.9531 - loss: 0.0155 - v_loss: 0.0016 - h_loss: 0.0101 - sub_2_loss: 0.0038 - lr: 0.0010 - time: 0.4006\n",
      "Epoch 76/200\n",
      "64/64 [==============================] - 0s 5ms/step - batch: 31.5000 - size: 9.9531 - loss: 0.0160 - v_loss: 0.0016 - h_loss: 0.0101 - sub_2_loss: 0.0043 - lr: 0.0010 - time: 0.3929\n",
      "Epoch 77/200\n",
      "64/64 [==============================] - 0s 5ms/step - batch: 31.5000 - size: 9.9531 - loss: 0.0167 - v_loss: 0.0018 - h_loss: 0.0101 - sub_2_loss: 0.0047 - lr: 0.0010 - time: 0.3991\n",
      "Epoch 78/200\n",
      "64/64 [==============================] - 0s 6ms/step - batch: 31.5000 - size: 9.9531 - loss: 0.0170 - v_loss: 0.0021 - h_loss: 0.0102 - sub_2_loss: 0.0047 - lr: 0.0010 - time: 0.4075\n",
      "Epoch 79/200\n",
      "64/64 [==============================] - 0s 5ms/step - batch: 31.5000 - size: 9.9531 - loss: 0.0168 - v_loss: 0.0020 - h_loss: 0.0103 - sub_2_loss: 0.0045 - lr: 0.0010 - time: 0.3945\n",
      "Epoch 80/200\n",
      "64/64 [==============================] - 0s 6ms/step - batch: 31.5000 - size: 9.9531 - loss: 0.0159 - v_loss: 0.0019 - h_loss: 0.0096 - sub_2_loss: 0.0044 - lr: 0.0010 - time: 0.4034\n",
      "Epoch 81/200\n",
      "64/64 [==============================] - 0s 5ms/step - batch: 31.5000 - size: 9.9531 - loss: 0.0163 - v_loss: 0.0020 - h_loss: 0.0101 - sub_2_loss: 0.0043 - lr: 0.0010 - time: 0.3958\n",
      "Epoch 82/200\n"
     ]
    },
    {
     "name": "stdout",
     "output_type": "stream",
     "text": [
      "64/64 [==============================] - 0s 5ms/step - batch: 31.5000 - size: 9.9531 - loss: 0.0154 - v_loss: 0.0017 - h_loss: 0.0097 - sub_2_loss: 0.0040 - lr: 0.0010 - time: 0.3990\n",
      "Epoch 83/200\n",
      "64/64 [==============================] - 0s 5ms/step - batch: 31.5000 - size: 9.9531 - loss: 0.0159 - v_loss: 0.0020 - h_loss: 0.0097 - sub_2_loss: 0.0042 - lr: 0.0010 - time: 0.3979\n",
      "Epoch 84/200\n",
      "64/64 [==============================] - 0s 6ms/step - batch: 31.5000 - size: 9.9531 - loss: 0.0142 - v_loss: 0.0016 - h_loss: 0.0094 - sub_2_loss: 0.0031 - lr: 0.0010 - time: 0.4025\n",
      "Epoch 85/200\n",
      "64/64 [==============================] - 0s 6ms/step - batch: 31.5000 - size: 9.9531 - loss: 0.0147 - v_loss: 0.0013 - h_loss: 0.0098 - sub_2_loss: 0.0035 - lr: 0.0010 - time: 0.4015\n",
      "Epoch 86/200\n",
      "64/64 [==============================] - 0s 6ms/step - batch: 31.5000 - size: 9.9531 - loss: 0.0171 - v_loss: 0.0025 - h_loss: 0.0099 - sub_2_loss: 0.0047 - lr: 0.0010 - time: 0.4011\n",
      "Epoch 87/200\n",
      "64/64 [==============================] - 0s 5ms/step - batch: 31.5000 - size: 9.9531 - loss: 0.0155 - v_loss: 0.0020 - h_loss: 0.0093 - sub_2_loss: 0.0042 - lr: 0.0010 - time: 0.3970\n",
      "Epoch 88/200\n",
      "64/64 [==============================] - 0s 5ms/step - batch: 31.5000 - size: 9.9531 - loss: 0.0152 - v_loss: 0.0016 - h_loss: 0.0093 - sub_2_loss: 0.0043 - lr: 0.0010 - time: 0.3985\n",
      "Epoch 89/200\n",
      "64/64 [==============================] - 0s 6ms/step - batch: 31.5000 - size: 9.9531 - loss: 0.0164 - v_loss: 0.0022 - h_loss: 0.0096 - sub_2_loss: 0.0046 - lr: 0.0010 - time: 0.4030\n",
      "Epoch 90/200\n",
      "64/64 [==============================] - 0s 6ms/step - batch: 31.5000 - size: 9.9531 - loss: 0.0193 - v_loss: 0.0028 - h_loss: 0.0092 - sub_2_loss: 0.0073 - lr: 0.0010 - time: 0.4070\n",
      "Epoch 91/200\n",
      "64/64 [==============================] - 0s 5ms/step - batch: 31.5000 - size: 9.9531 - loss: 0.0169 - v_loss: 0.0025 - h_loss: 0.0098 - sub_2_loss: 0.0047 - lr: 0.0010 - time: 0.3888\n",
      "Epoch 92/200\n",
      "64/64 [==============================] - 0s 5ms/step - batch: 31.5000 - size: 9.9531 - loss: 0.0151 - v_loss: 0.0018 - h_loss: 0.0095 - sub_2_loss: 0.0038 - lr: 0.0010 - time: 0.3984\n",
      "Epoch 93/200\n",
      "64/64 [==============================] - 0s 6ms/step - batch: 31.5000 - size: 9.9531 - loss: 0.0146 - v_loss: 0.0016 - h_loss: 0.0094 - sub_2_loss: 0.0036 - lr: 0.0010 - time: 0.4067\n",
      "Epoch 94/200\n",
      "64/64 [==============================] - 0s 5ms/step - batch: 31.5000 - size: 9.9531 - loss: 0.0155 - v_loss: 0.0016 - h_loss: 0.0096 - sub_2_loss: 0.0044 - lr: 0.0010 - time: 0.3943\n",
      "Epoch 95/200\n",
      "64/64 [==============================] - 0s 5ms/step - batch: 31.5000 - size: 9.9531 - loss: 0.0151 - v_loss: 0.0015 - h_loss: 0.0096 - sub_2_loss: 0.0040 - lr: 0.0010 - time: 0.3946\n",
      "Epoch 96/200\n",
      "64/64 [==============================] - 0s 5ms/step - batch: 31.5000 - size: 9.9531 - loss: 0.0143 - v_loss: 0.0014 - h_loss: 0.0091 - sub_2_loss: 0.0037 - lr: 0.0010 - time: 0.3991\n",
      "Epoch 97/200\n",
      "64/64 [==============================] - 0s 5ms/step - batch: 31.5000 - size: 9.9531 - loss: 0.0137 - v_loss: 0.0014 - h_loss: 0.0090 - sub_2_loss: 0.0033 - lr: 0.0010 - time: 0.3980\n",
      "Epoch 98/200\n",
      "64/64 [==============================] - 0s 6ms/step - batch: 31.5000 - size: 9.9531 - loss: 0.0140 - v_loss: 0.0013 - h_loss: 0.0092 - sub_2_loss: 0.0035 - lr: 0.0010 - time: 0.4006\n",
      "Epoch 99/200\n",
      "64/64 [==============================] - 0s 5ms/step - batch: 31.5000 - size: 9.9531 - loss: 0.0182 - v_loss: 0.0023 - h_loss: 0.0098 - sub_2_loss: 0.0061 - lr: 0.0010 - time: 0.3974\n",
      "Epoch 100/200\n",
      "64/64 [==============================] - 0s 5ms/step - batch: 31.5000 - size: 9.9531 - loss: 0.0156 - v_loss: 0.0019 - h_loss: 0.0094 - sub_2_loss: 0.0043 - lr: 0.0010 - time: 0.3705\n",
      "Epoch 101/200\n",
      "64/64 [==============================] - 0s 6ms/step - batch: 31.5000 - size: 9.9531 - loss: 0.0148 - v_loss: 0.0017 - h_loss: 0.0097 - sub_2_loss: 0.0035 - lr: 0.0010 - time: 0.4021\n",
      "Epoch 102/200\n",
      "64/64 [==============================] - 0s 5ms/step - batch: 31.5000 - size: 9.9531 - loss: 0.0153 - v_loss: 0.0017 - h_loss: 0.0097 - sub_2_loss: 0.0038 - lr: 0.0010 - time: 0.3994\n",
      "Epoch 103/200\n",
      "64/64 [==============================] - 0s 6ms/step - batch: 31.5000 - size: 9.9531 - loss: 0.0129 - v_loss: 0.0012 - h_loss: 0.0092 - sub_2_loss: 0.0025 - lr: 0.0010 - time: 0.4033\n",
      "Epoch 104/200\n",
      "64/64 [==============================] - 0s 5ms/step - batch: 31.5000 - size: 9.9531 - loss: 0.0171 - v_loss: 0.0022 - h_loss: 0.0097 - sub_2_loss: 0.0052 - lr: 0.0010 - time: 0.3963\n",
      "Epoch 105/200\n",
      "64/64 [==============================] - 0s 6ms/step - batch: 31.5000 - size: 9.9531 - loss: 0.0141 - v_loss: 0.0016 - h_loss: 0.0093 - sub_2_loss: 0.0032 - lr: 0.0010 - time: 0.4092\n",
      "Epoch 106/200\n",
      "64/64 [==============================] - 0s 5ms/step - batch: 31.5000 - size: 9.9531 - loss: 0.0176 - v_loss: 0.0030 - h_loss: 0.0097 - sub_2_loss: 0.0049 - lr: 0.0010 - time: 0.3969\n",
      "Epoch 107/200\n",
      "64/64 [==============================] - 0s 5ms/step - batch: 31.5000 - size: 9.9531 - loss: 0.0146 - v_loss: 0.0020 - h_loss: 0.0093 - sub_2_loss: 0.0034 - lr: 0.0010 - time: 0.3973\n",
      "Epoch 108/200\n",
      "64/64 [==============================] - 0s 6ms/step - batch: 31.5000 - size: 9.9531 - loss: 0.0137 - v_loss: 0.0014 - h_loss: 0.0092 - sub_2_loss: 0.0031 - lr: 0.0010 - time: 0.4072\n",
      "Epoch 109/200\n",
      "64/64 [==============================] - 0s 5ms/step - batch: 31.5000 - size: 9.9531 - loss: 0.0130 - v_loss: 0.0012 - h_loss: 0.0091 - sub_2_loss: 0.0027 - lr: 0.0010 - time: 0.3959\n",
      "Epoch 110/200\n",
      "64/64 [==============================] - 0s 5ms/step - batch: 31.5000 - size: 9.9531 - loss: 0.0131 - v_loss: 0.0013 - h_loss: 0.0089 - sub_2_loss: 0.0029 - lr: 0.0010 - time: 0.3968\n",
      "Epoch 111/200\n",
      "64/64 [==============================] - 0s 6ms/step - batch: 31.5000 - size: 9.9531 - loss: 0.0133 - v_loss: 0.0013 - h_loss: 0.0090 - sub_2_loss: 0.0030 - lr: 0.0010 - time: 0.4080\n",
      "Epoch 112/200\n",
      "64/64 [==============================] - 0s 5ms/step - batch: 31.5000 - size: 9.9531 - loss: 0.0166 - v_loss: 0.0020 - h_loss: 0.0091 - sub_2_loss: 0.0056 - lr: 0.0010 - time: 0.3929\n",
      "Epoch 113/200\n",
      "64/64 [==============================] - 0s 6ms/step - batch: 31.5000 - size: 9.9531 - loss: 0.0158 - v_loss: 0.0017 - h_loss: 0.0092 - sub_2_loss: 0.0049 - lr: 0.0010 - time: 0.4029\n",
      "Epoch 114/200\n",
      "64/64 [==============================] - 0s 6ms/step - batch: 31.5000 - size: 9.9531 - loss: 0.0144 - v_loss: 0.0016 - h_loss: 0.0091 - sub_2_loss: 0.0037 - lr: 0.0010 - time: 0.4018\n",
      "Epoch 115/200\n",
      "64/64 [==============================] - 0s 6ms/step - batch: 31.5000 - size: 9.9531 - loss: 0.0131 - v_loss: 0.0013 - h_loss: 0.0086 - sub_2_loss: 0.0031 - lr: 0.0010 - time: 0.4008\n",
      "Epoch 116/200\n",
      "64/64 [==============================] - 0s 6ms/step - batch: 31.5000 - size: 9.9531 - loss: 0.0149 - v_loss: 0.0017 - h_loss: 0.0086 - sub_2_loss: 0.0046 - lr: 0.0010 - time: 0.4034\n",
      "Epoch 117/200\n",
      "64/64 [==============================] - 0s 5ms/step - batch: 31.5000 - size: 9.9531 - loss: 0.0161 - v_loss: 0.0025 - h_loss: 0.0089 - sub_2_loss: 0.0048 - lr: 0.0010 - time: 0.3963\n",
      "Epoch 118/200\n",
      "64/64 [==============================] - 0s 6ms/step - batch: 31.5000 - size: 9.9531 - loss: 0.0173 - v_loss: 0.0021 - h_loss: 0.0096 - sub_2_loss: 0.0055 - lr: 0.0010 - time: 0.4098\n",
      "Epoch 119/200\n",
      "64/64 [==============================] - 0s 5ms/step - batch: 31.5000 - size: 9.9531 - loss: 0.0162 - v_loss: 0.0024 - h_loss: 0.0093 - sub_2_loss: 0.0044 - lr: 0.0010 - time: 0.3920\n",
      "Epoch 120/200\n",
      "64/64 [==============================] - 0s 5ms/step - batch: 31.5000 - size: 9.9531 - loss: 0.0145 - v_loss: 0.0013 - h_loss: 0.0087 - sub_2_loss: 0.0045 - lr: 0.0010 - time: 0.3982\n",
      "Epoch 121/200\n",
      "64/64 [==============================] - 0s 6ms/step - batch: 31.5000 - size: 9.9531 - loss: 0.0158 - v_loss: 0.0016 - h_loss: 0.0093 - sub_2_loss: 0.0049 - lr: 0.0010 - time: 0.4031\n",
      "Epoch 122/200\n",
      "64/64 [==============================] - 0s 5ms/step - batch: 31.5000 - size: 9.9531 - loss: 0.0139 - v_loss: 0.0013 - h_loss: 0.0092 - sub_2_loss: 0.0035 - lr: 0.0010 - time: 0.3950\n",
      "Epoch 123/200\n"
     ]
    },
    {
     "name": "stdout",
     "output_type": "stream",
     "text": [
      "57/64 [=========================>....] - ETA: 0s - batch: 28.0000 - size: 9.9474 - loss: 0.0128 - v_loss: 0.0011 - h_loss: 0.0085 - sub_2_loss: 0.0033\n",
      "Epoch 00123: ReduceLROnPlateau reducing learning rate to 0.0005000000237487257.\n",
      "64/64 [==============================] - 0s 5ms/step - batch: 31.5000 - size: 9.9531 - loss: 0.0130 - v_loss: 0.0011 - h_loss: 0.0087 - sub_2_loss: 0.0031 - lr: 0.0010 - time: 0.3975\n",
      "Epoch 124/200\n",
      "64/64 [==============================] - 0s 6ms/step - batch: 31.5000 - size: 9.9531 - loss: 0.0137 - v_loss: 0.0012 - h_loss: 0.0086 - sub_2_loss: 0.0039 - lr: 5.0000e-04 - time: 0.4015\n",
      "Epoch 125/200\n",
      "64/64 [==============================] - 0s 5ms/step - batch: 31.5000 - size: 9.9531 - loss: 0.0127 - v_loss: 0.0011 - h_loss: 0.0085 - sub_2_loss: 0.0031 - lr: 5.0000e-04 - time: 0.3952\n",
      "Epoch 126/200\n",
      "64/64 [==============================] - 0s 6ms/step - batch: 31.5000 - size: 9.9531 - loss: 0.0114 - v_loss: 8.4589e-04 - h_loss: 0.0082 - sub_2_loss: 0.0023 - lr: 5.0000e-04 - time: 0.4019\n",
      "Epoch 127/200\n",
      "64/64 [==============================] - 0s 5ms/step - batch: 31.5000 - size: 9.9531 - loss: 0.0119 - v_loss: 8.8632e-04 - h_loss: 0.0084 - sub_2_loss: 0.0026 - lr: 5.0000e-04 - time: 0.3965\n",
      "Epoch 128/200\n",
      "64/64 [==============================] - 0s 6ms/step - batch: 31.5000 - size: 9.9531 - loss: 0.0116 - v_loss: 8.0392e-04 - h_loss: 0.0084 - sub_2_loss: 0.0024 - lr: 5.0000e-04 - time: 0.4027\n",
      "Epoch 129/200\n",
      "64/64 [==============================] - 0s 5ms/step - batch: 31.5000 - size: 9.9531 - loss: 0.0116 - v_loss: 8.3340e-04 - h_loss: 0.0083 - sub_2_loss: 0.0025 - lr: 5.0000e-04 - time: 0.3960\n",
      "Epoch 130/200\n",
      "64/64 [==============================] - 0s 5ms/step - batch: 31.5000 - size: 9.9531 - loss: 0.0122 - v_loss: 8.4036e-04 - h_loss: 0.0084 - sub_2_loss: 0.0029 - lr: 5.0000e-04 - time: 0.3985\n",
      "Epoch 131/200\n",
      "64/64 [==============================] - 0s 6ms/step - batch: 31.5000 - size: 9.9531 - loss: 0.0124 - v_loss: 8.8692e-04 - h_loss: 0.0080 - sub_2_loss: 0.0035 - lr: 5.0000e-04 - time: 0.4011\n",
      "Epoch 132/200\n",
      "64/64 [==============================] - 0s 5ms/step - batch: 31.5000 - size: 9.9531 - loss: 0.0120 - v_loss: 8.0975e-04 - h_loss: 0.0085 - sub_2_loss: 0.0027 - lr: 5.0000e-04 - time: 0.3987\n",
      "Epoch 133/200\n",
      "64/64 [==============================] - 0s 6ms/step - batch: 31.5000 - size: 9.9531 - loss: 0.0113 - v_loss: 7.4706e-04 - h_loss: 0.0081 - sub_2_loss: 0.0025 - lr: 5.0000e-04 - time: 0.4106\n",
      "Epoch 134/200\n",
      "64/64 [==============================] - 0s 5ms/step - batch: 31.5000 - size: 9.9531 - loss: 0.0117 - v_loss: 8.2882e-04 - h_loss: 0.0082 - sub_2_loss: 0.0026 - lr: 5.0000e-04 - time: 0.3908\n",
      "Epoch 135/200\n",
      "64/64 [==============================] - 0s 5ms/step - batch: 31.5000 - size: 9.9531 - loss: 0.0114 - v_loss: 6.8405e-04 - h_loss: 0.0081 - sub_2_loss: 0.0026 - lr: 5.0000e-04 - time: 0.3980\n",
      "Epoch 136/200\n",
      "64/64 [==============================] - 0s 6ms/step - batch: 31.5000 - size: 9.9531 - loss: 0.0113 - v_loss: 6.9691e-04 - h_loss: 0.0081 - sub_2_loss: 0.0025 - lr: 5.0000e-04 - time: 0.4034\n",
      "Epoch 137/200\n",
      "64/64 [==============================] - 0s 5ms/step - batch: 31.5000 - size: 9.9531 - loss: 0.0115 - v_loss: 8.8040e-04 - h_loss: 0.0080 - sub_2_loss: 0.0026 - lr: 5.0000e-04 - time: 0.3942\n",
      "Epoch 138/200\n",
      "64/64 [==============================] - 0s 6ms/step - batch: 31.5000 - size: 9.9531 - loss: 0.0110 - v_loss: 7.3524e-04 - h_loss: 0.0080 - sub_2_loss: 0.0023 - lr: 5.0000e-04 - time: 0.4061\n",
      "Epoch 139/200\n",
      "64/64 [==============================] - 0s 5ms/step - batch: 31.5000 - size: 9.9531 - loss: 0.0109 - v_loss: 7.6690e-04 - h_loss: 0.0079 - sub_2_loss: 0.0023 - lr: 5.0000e-04 - time: 0.3945\n",
      "Epoch 140/200\n",
      "64/64 [==============================] - 0s 6ms/step - batch: 31.5000 - size: 9.9531 - loss: 0.0106 - v_loss: 7.0148e-04 - h_loss: 0.0079 - sub_2_loss: 0.0020 - lr: 5.0000e-04 - time: 0.4016\n",
      "Epoch 141/200\n",
      "64/64 [==============================] - 0s 5ms/step - batch: 31.5000 - size: 9.9531 - loss: 0.0107 - v_loss: 7.0519e-04 - h_loss: 0.0077 - sub_2_loss: 0.0023 - lr: 5.0000e-04 - time: 0.3961\n",
      "Epoch 142/200\n",
      "64/64 [==============================] - 0s 5ms/step - batch: 31.5000 - size: 9.9531 - loss: 0.0112 - v_loss: 7.8424e-04 - h_loss: 0.0078 - sub_2_loss: 0.0026 - lr: 5.0000e-04 - time: 0.3891\n",
      "Epoch 143/200\n",
      "64/64 [==============================] - 0s 6ms/step - batch: 31.5000 - size: 9.9531 - loss: 0.0154 - v_loss: 0.0018 - h_loss: 0.0080 - sub_2_loss: 0.0056 - lr: 5.0000e-04 - time: 0.4022\n",
      "Epoch 144/200\n",
      "64/64 [==============================] - 0s 6ms/step - batch: 31.5000 - size: 9.9531 - loss: 0.0117 - v_loss: 8.1029e-04 - h_loss: 0.0077 - sub_2_loss: 0.0032 - lr: 5.0000e-04 - time: 0.4046\n",
      "Epoch 145/200\n",
      "64/64 [==============================] - 0s 6ms/step - batch: 31.5000 - size: 9.9531 - loss: 0.0118 - v_loss: 9.0163e-04 - h_loss: 0.0077 - sub_2_loss: 0.0032 - lr: 5.0000e-04 - time: 0.4011\n",
      "Epoch 146/200\n",
      "64/64 [==============================] - 0s 6ms/step - batch: 31.5000 - size: 9.9531 - loss: 0.0118 - v_loss: 0.0011 - h_loss: 0.0077 - sub_2_loss: 0.0030 - lr: 5.0000e-04 - time: 0.4015\n",
      "Epoch 147/200\n",
      "64/64 [==============================] - 0s 6ms/step - batch: 31.5000 - size: 9.9531 - loss: 0.0114 - v_loss: 9.3923e-04 - h_loss: 0.0077 - sub_2_loss: 0.0028 - lr: 5.0000e-04 - time: 0.4092\n",
      "Epoch 148/200\n",
      "64/64 [==============================] - 0s 5ms/step - batch: 31.5000 - size: 9.9531 - loss: 0.0114 - v_loss: 8.7678e-04 - h_loss: 0.0077 - sub_2_loss: 0.0028 - lr: 5.0000e-04 - time: 0.3910\n",
      "Epoch 149/200\n",
      "64/64 [==============================] - 0s 6ms/step - batch: 31.5000 - size: 9.9531 - loss: 0.0105 - v_loss: 7.6909e-04 - h_loss: 0.0076 - sub_2_loss: 0.0022 - lr: 5.0000e-04 - time: 0.4030\n",
      "Epoch 150/200\n",
      "64/64 [==============================] - 0s 5ms/step - batch: 31.5000 - size: 9.9531 - loss: 0.0115 - v_loss: 9.0046e-04 - h_loss: 0.0078 - sub_2_loss: 0.0028 - lr: 5.0000e-04 - time: 0.3938\n",
      "Epoch 151/200\n",
      "64/64 [==============================] - 0s 6ms/step - batch: 31.5000 - size: 9.9531 - loss: 0.0112 - v_loss: 7.4404e-04 - h_loss: 0.0075 - sub_2_loss: 0.0030 - lr: 5.0000e-04 - time: 0.4002\n",
      "Epoch 152/200\n",
      "64/64 [==============================] - 0s 6ms/step - batch: 31.5000 - size: 9.9531 - loss: 0.0110 - v_loss: 8.4575e-04 - h_loss: 0.0076 - sub_2_loss: 0.0026 - lr: 5.0000e-04 - time: 0.4017\n",
      "Epoch 153/200\n",
      "64/64 [==============================] - 0s 6ms/step - batch: 31.5000 - size: 9.9531 - loss: 0.0102 - v_loss: 7.3839e-04 - h_loss: 0.0074 - sub_2_loss: 0.0020 - lr: 5.0000e-04 - time: 0.4016\n",
      "Epoch 154/200\n",
      "64/64 [==============================] - 0s 6ms/step - batch: 31.5000 - size: 9.9531 - loss: 0.0109 - v_loss: 6.5054e-04 - h_loss: 0.0074 - sub_2_loss: 0.0029 - lr: 5.0000e-04 - time: 0.4028\n",
      "Epoch 155/200\n",
      "64/64 [==============================] - 0s 5ms/step - batch: 31.5000 - size: 9.9531 - loss: 0.0107 - v_loss: 8.2908e-04 - h_loss: 0.0074 - sub_2_loss: 0.0025 - lr: 5.0000e-04 - time: 0.3952\n",
      "Epoch 156/200\n",
      "64/64 [==============================] - 0s 5ms/step - batch: 31.5000 - size: 9.9531 - loss: 0.0109 - v_loss: 7.6810e-04 - h_loss: 0.0073 - sub_2_loss: 0.0028 - lr: 5.0000e-04 - time: 0.3964\n",
      "Epoch 157/200\n",
      "64/64 [==============================] - 0s 6ms/step - batch: 31.5000 - size: 9.9531 - loss: 0.0107 - v_loss: 7.2989e-04 - h_loss: 0.0074 - sub_2_loss: 0.0025 - lr: 5.0000e-04 - time: 0.4035\n",
      "Epoch 158/200\n",
      "64/64 [==============================] - 0s 6ms/step - batch: 31.5000 - size: 9.9531 - loss: 0.0105 - v_loss: 7.1883e-04 - h_loss: 0.0073 - sub_2_loss: 0.0025 - lr: 5.0000e-04 - time: 0.3998\n",
      "Epoch 159/200\n",
      "64/64 [==============================] - 0s 5ms/step - batch: 31.5000 - size: 9.9531 - loss: 0.0117 - v_loss: 8.2211e-04 - h_loss: 0.0077 - sub_2_loss: 0.0032 - lr: 5.0000e-04 - time: 0.3987\n",
      "Epoch 160/200\n",
      "64/64 [==============================] - 0s 6ms/step - batch: 31.5000 - size: 9.9531 - loss: 0.0115 - v_loss: 9.5939e-04 - h_loss: 0.0073 - sub_2_loss: 0.0033 - lr: 5.0000e-04 - time: 0.4024\n",
      "Epoch 161/200\n",
      "64/64 [==============================] - 0s 6ms/step - batch: 31.5000 - size: 9.9531 - loss: 0.0127 - v_loss: 9.9564e-04 - h_loss: 0.0075 - sub_2_loss: 0.0042 - lr: 5.0000e-04 - time: 0.4029\n",
      "Epoch 162/200\n"
     ]
    },
    {
     "name": "stdout",
     "output_type": "stream",
     "text": [
      "64/64 [==============================] - 0s 5ms/step - batch: 31.5000 - size: 9.9531 - loss: 0.0107 - v_loss: 8.0358e-04 - h_loss: 0.0073 - sub_2_loss: 0.0026 - lr: 5.0000e-04 - time: 0.3956\n",
      "Epoch 163/200\n",
      "64/64 [==============================] - 0s 6ms/step - batch: 31.5000 - size: 9.9531 - loss: 0.0108 - v_loss: 8.1894e-04 - h_loss: 0.0073 - sub_2_loss: 0.0027 - lr: 5.0000e-04 - time: 0.4037\n",
      "Epoch 164/200\n",
      "64/64 [==============================] - 0s 6ms/step - batch: 31.5000 - size: 9.9531 - loss: 0.0129 - v_loss: 7.8169e-04 - h_loss: 0.0076 - sub_2_loss: 0.0045 - lr: 5.0000e-04 - time: 0.4022\n",
      "Epoch 165/200\n",
      "64/64 [==============================] - 0s 5ms/step - batch: 31.5000 - size: 9.9531 - loss: 0.0123 - v_loss: 0.0014 - h_loss: 0.0073 - sub_2_loss: 0.0035 - lr: 5.0000e-04 - time: 0.3971\n",
      "Epoch 166/200\n",
      "64/64 [==============================] - 0s 5ms/step - batch: 31.5000 - size: 9.9531 - loss: 0.0127 - v_loss: 8.5234e-04 - h_loss: 0.0075 - sub_2_loss: 0.0043 - lr: 5.0000e-04 - time: 0.3971\n",
      "Epoch 167/200\n",
      "64/64 [==============================] - 0s 6ms/step - batch: 31.5000 - size: 9.9531 - loss: 0.0135 - v_loss: 0.0016 - h_loss: 0.0074 - sub_2_loss: 0.0045 - lr: 5.0000e-04 - time: 0.4025\n",
      "Epoch 168/200\n",
      "64/64 [==============================] - 0s 6ms/step - batch: 31.5000 - size: 9.9531 - loss: 0.0121 - v_loss: 0.0011 - h_loss: 0.0074 - sub_2_loss: 0.0036 - lr: 5.0000e-04 - time: 0.4005\n",
      "Epoch 169/200\n",
      "64/64 [==============================] - 0s 6ms/step - batch: 31.5000 - size: 9.9531 - loss: 0.0106 - v_loss: 9.2519e-04 - h_loss: 0.0072 - sub_2_loss: 0.0024 - lr: 5.0000e-04 - time: 0.4036\n",
      "Epoch 170/200\n",
      "64/64 [==============================] - 0s 5ms/step - batch: 31.5000 - size: 9.9531 - loss: 0.0103 - v_loss: 8.7772e-04 - h_loss: 0.0074 - sub_2_loss: 0.0020 - lr: 5.0000e-04 - time: 0.3949\n",
      "Epoch 171/200\n",
      "64/64 [==============================] - 0s 6ms/step - batch: 31.5000 - size: 9.9531 - loss: 0.0113 - v_loss: 8.1596e-04 - h_loss: 0.0074 - sub_2_loss: 0.0031 - lr: 5.0000e-04 - time: 0.4034\n",
      "Epoch 172/200\n",
      "64/64 [==============================] - 0s 6ms/step - batch: 31.5000 - size: 9.9531 - loss: 0.0102 - v_loss: 7.3455e-04 - h_loss: 0.0072 - sub_2_loss: 0.0022 - lr: 5.0000e-04 - time: 0.3999\n",
      "Epoch 173/200\n",
      "57/64 [=========================>....] - ETA: 0s - batch: 28.0000 - size: 9.9474 - loss: 0.0114 - v_loss: 8.3521e-04 - h_loss: 0.0073 - sub_2_loss: 0.0033\n",
      "Epoch 00173: ReduceLROnPlateau reducing learning rate to 0.0002500000118743628.\n",
      "64/64 [==============================] - 0s 6ms/step - batch: 31.5000 - size: 9.9531 - loss: 0.0115 - v_loss: 8.3494e-04 - h_loss: 0.0072 - sub_2_loss: 0.0034 - lr: 5.0000e-04 - time: 0.3997\n",
      "Epoch 174/200\n",
      "64/64 [==============================] - 0s 6ms/step - batch: 31.5000 - size: 9.9531 - loss: 0.0105 - v_loss: 7.9248e-04 - h_loss: 0.0072 - sub_2_loss: 0.0025 - lr: 2.5000e-04 - time: 0.4026\n",
      "Epoch 175/200\n",
      "64/64 [==============================] - 0s 6ms/step - batch: 31.5000 - size: 9.9531 - loss: 0.0095 - v_loss: 6.0683e-04 - h_loss: 0.0070 - sub_2_loss: 0.0018 - lr: 2.5000e-04 - time: 0.4006\n",
      "Epoch 176/200\n",
      "64/64 [==============================] - 0s 6ms/step - batch: 31.5000 - size: 9.9531 - loss: 0.0093 - v_loss: 6.2435e-04 - h_loss: 0.0070 - sub_2_loss: 0.0017 - lr: 2.5000e-04 - time: 0.4027\n",
      "Epoch 177/200\n",
      "64/64 [==============================] - 0s 5ms/step - batch: 31.5000 - size: 9.9531 - loss: 0.0095 - v_loss: 6.2180e-04 - h_loss: 0.0070 - sub_2_loss: 0.0019 - lr: 2.5000e-04 - time: 0.3948\n",
      "Epoch 178/200\n",
      "64/64 [==============================] - 0s 5ms/step - batch: 31.5000 - size: 9.9531 - loss: 0.0092 - v_loss: 5.9753e-04 - h_loss: 0.0069 - sub_2_loss: 0.0017 - lr: 2.5000e-04 - time: 0.3975\n",
      "Epoch 179/200\n",
      "64/64 [==============================] - 0s 6ms/step - batch: 31.5000 - size: 9.9531 - loss: 0.0094 - v_loss: 6.0259e-04 - h_loss: 0.0070 - sub_2_loss: 0.0018 - lr: 2.5000e-04 - time: 0.4036\n",
      "Epoch 180/200\n",
      "64/64 [==============================] - 0s 5ms/step - batch: 31.5000 - size: 9.9531 - loss: 0.0096 - v_loss: 6.2806e-04 - h_loss: 0.0069 - sub_2_loss: 0.0021 - lr: 2.5000e-04 - time: 0.3955\n",
      "Epoch 181/200\n",
      "64/64 [==============================] - 0s 6ms/step - batch: 31.5000 - size: 9.9531 - loss: 0.0095 - v_loss: 6.4332e-04 - h_loss: 0.0069 - sub_2_loss: 0.0020 - lr: 2.5000e-04 - time: 0.4006\n",
      "Epoch 182/200\n",
      "64/64 [==============================] - 0s 6ms/step - batch: 31.5000 - size: 9.9531 - loss: 0.0092 - v_loss: 5.4035e-04 - h_loss: 0.0068 - sub_2_loss: 0.0019 - lr: 2.5000e-04 - time: 0.4071\n",
      "Epoch 183/200\n",
      "64/64 [==============================] - 0s 5ms/step - batch: 31.5000 - size: 9.9531 - loss: 0.0091 - v_loss: 5.6065e-04 - h_loss: 0.0068 - sub_2_loss: 0.0018 - lr: 2.5000e-04 - time: 0.3944\n",
      "Epoch 184/200\n",
      "64/64 [==============================] - 0s 5ms/step - batch: 31.5000 - size: 9.9531 - loss: 0.0094 - v_loss: 5.7811e-04 - h_loss: 0.0068 - sub_2_loss: 0.0020 - lr: 2.5000e-04 - time: 0.3710\n",
      "Epoch 185/200\n",
      "64/64 [==============================] - 0s 6ms/step - batch: 31.5000 - size: 9.9531 - loss: 0.0091 - v_loss: 5.1982e-04 - h_loss: 0.0067 - sub_2_loss: 0.0018 - lr: 2.5000e-04 - time: 0.4029\n",
      "Epoch 186/200\n",
      "64/64 [==============================] - 0s 5ms/step - batch: 31.5000 - size: 9.9531 - loss: 0.0091 - v_loss: 5.7243e-04 - h_loss: 0.0067 - sub_2_loss: 0.0019 - lr: 2.5000e-04 - time: 0.3961\n",
      "Epoch 187/200\n",
      "64/64 [==============================] - 0s 5ms/step - batch: 31.5000 - size: 9.9531 - loss: 0.0090 - v_loss: 5.0273e-04 - h_loss: 0.0067 - sub_2_loss: 0.0018 - lr: 2.5000e-04 - time: 0.3930\n",
      "Epoch 188/200\n",
      "64/64 [==============================] - 0s 5ms/step - batch: 31.5000 - size: 9.9531 - loss: 0.0090 - v_loss: 5.4454e-04 - h_loss: 0.0068 - sub_2_loss: 0.0017 - lr: 2.5000e-04 - time: 0.3980\n",
      "Epoch 189/200\n",
      "64/64 [==============================] - 0s 5ms/step - batch: 31.5000 - size: 9.9531 - loss: 0.0090 - v_loss: 5.5134e-04 - h_loss: 0.0067 - sub_2_loss: 0.0017 - lr: 2.5000e-04 - time: 0.3961\n",
      "Epoch 190/200\n",
      "64/64 [==============================] - 0s 5ms/step - batch: 31.5000 - size: 9.9531 - loss: 0.0091 - v_loss: 5.5390e-04 - h_loss: 0.0067 - sub_2_loss: 0.0019 - lr: 2.5000e-04 - time: 0.3985\n",
      "Epoch 191/200\n",
      "64/64 [==============================] - 0s 6ms/step - batch: 31.5000 - size: 9.9531 - loss: 0.0092 - v_loss: 5.7823e-04 - h_loss: 0.0067 - sub_2_loss: 0.0019 - lr: 2.5000e-04 - time: 0.4031\n",
      "Epoch 192/200\n",
      "64/64 [==============================] - 0s 5ms/step - batch: 31.5000 - size: 9.9531 - loss: 0.0094 - v_loss: 6.5467e-04 - h_loss: 0.0067 - sub_2_loss: 0.0020 - lr: 2.5000e-04 - time: 0.3944\n",
      "Epoch 193/200\n",
      "64/64 [==============================] - 0s 6ms/step - batch: 31.5000 - size: 9.9531 - loss: 0.0093 - v_loss: 5.5202e-04 - h_loss: 0.0066 - sub_2_loss: 0.0021 - lr: 2.5000e-04 - time: 0.4025\n",
      "Epoch 194/200\n",
      "64/64 [==============================] - 0s 6ms/step - batch: 31.5000 - size: 9.9531 - loss: 0.0090 - v_loss: 6.0140e-04 - h_loss: 0.0066 - sub_2_loss: 0.0017 - lr: 2.5000e-04 - time: 0.4056\n",
      "Epoch 195/200\n",
      "64/64 [==============================] - 0s 5ms/step - batch: 31.5000 - size: 9.9531 - loss: 0.0091 - v_loss: 5.7042e-04 - h_loss: 0.0067 - sub_2_loss: 0.0018 - lr: 2.5000e-04 - time: 0.3944\n",
      "Epoch 196/200\n",
      "64/64 [==============================] - 0s 5ms/step - batch: 31.5000 - size: 9.9531 - loss: 0.0092 - v_loss: 5.8448e-04 - h_loss: 0.0066 - sub_2_loss: 0.0020 - lr: 2.5000e-04 - time: 0.3987\n",
      "Epoch 197/200\n",
      "64/64 [==============================] - 0s 6ms/step - batch: 31.5000 - size: 9.9531 - loss: 0.0091 - v_loss: 5.9118e-04 - h_loss: 0.0066 - sub_2_loss: 0.0020 - lr: 2.5000e-04 - time: 0.4025\n",
      "Epoch 198/200\n",
      "64/64 [==============================] - 0s 5ms/step - batch: 31.5000 - size: 9.9531 - loss: 0.0097 - v_loss: 5.8177e-04 - h_loss: 0.0066 - sub_2_loss: 0.0025 - lr: 2.5000e-04 - time: 0.3942\n",
      "Epoch 199/200\n",
      "64/64 [==============================] - 0s 5ms/step - batch: 31.5000 - size: 9.9531 - loss: 0.0093 - v_loss: 6.2067e-04 - h_loss: 0.0066 - sub_2_loss: 0.0021 - lr: 2.5000e-04 - time: 0.3930\n",
      "Epoch 200/200\n",
      "64/64 [==============================] - 0s 6ms/step - batch: 31.5000 - size: 9.9531 - loss: 0.0091 - v_loss: 5.7230e-04 - h_loss: 0.0066 - sub_2_loss: 0.0020 - lr: 2.5000e-04 - time: 0.4036\n"
     ]
    }
   ],
   "source": [
    "learning_rate=0.001\n",
    "epochs=200\n",
    "history = m.train([x1_train,x2_train], [v_train,h_train,C1_train], learning_rate=learning_rate, epochs=epochs, verbose=1,batch_size=10)"
   ]
  },
  {
   "cell_type": "markdown",
   "metadata": {},
   "source": [
    "#### Testing "
   ]
  },
  {
   "cell_type": "code",
   "execution_count": 29,
   "metadata": {
    "colab": {},
    "colab_type": "code",
    "id": "xWlXzmX4_kU7"
   },
   "outputs": [
    {
     "ename": "NameError",
     "evalue": "name 'x_test' is not defined",
     "output_type": "error",
     "traceback": [
      "\u001b[0;31m---------------------------------------------------------------------------\u001b[0m",
      "\u001b[0;31mNameError\u001b[0m                                 Traceback (most recent call last)",
      "\u001b[0;32m<ipython-input-29-fb2dc38c2b85>\u001b[0m in \u001b[0;36m<module>\u001b[0;34m()\u001b[0m\n\u001b[0;32m----> 1\u001b[0;31m \u001b[0mv_pred\u001b[0m \u001b[0;34m=\u001b[0m \u001b[0mv\u001b[0m\u001b[0;34m.\u001b[0m\u001b[0meval\u001b[0m\u001b[0;34m(\u001b[0m\u001b[0mm\u001b[0m\u001b[0;34m,\u001b[0m \u001b[0;34m[\u001b[0m\u001b[0mx_test\u001b[0m\u001b[0;34m]\u001b[0m\u001b[0;34m)\u001b[0m\u001b[0;34m\u001b[0m\u001b[0m\n\u001b[0m\u001b[1;32m      2\u001b[0m \u001b[0mh_pred\u001b[0m \u001b[0;34m=\u001b[0m \u001b[0mh\u001b[0m\u001b[0;34m.\u001b[0m\u001b[0meval\u001b[0m\u001b[0;34m(\u001b[0m\u001b[0mm\u001b[0m\u001b[0;34m,\u001b[0m \u001b[0;34m[\u001b[0m\u001b[0mx_test\u001b[0m\u001b[0;34m]\u001b[0m\u001b[0;34m)\u001b[0m\u001b[0;34m\u001b[0m\u001b[0m\n\u001b[1;32m      3\u001b[0m \u001b[0mK_pred\u001b[0m \u001b[0;34m=\u001b[0m \u001b[0mK\u001b[0m\u001b[0;34m.\u001b[0m\u001b[0meval\u001b[0m\u001b[0;34m(\u001b[0m\u001b[0mm\u001b[0m\u001b[0;34m,\u001b[0m \u001b[0;34m[\u001b[0m\u001b[0mx_test_K\u001b[0m\u001b[0;34m]\u001b[0m\u001b[0;34m)\u001b[0m\u001b[0;34m\u001b[0m\u001b[0m\n\u001b[1;32m      4\u001b[0m \u001b[0mprint\u001b[0m\u001b[0;34m(\u001b[0m\u001b[0;34m'MSE for v after training:'\u001b[0m\u001b[0;34m,\u001b[0m\u001b[0mround\u001b[0m\u001b[0;34m(\u001b[0m\u001b[0mmean_squared_error\u001b[0m\u001b[0;34m(\u001b[0m\u001b[0mv_test\u001b[0m\u001b[0;34m,\u001b[0m\u001b[0mv_pred\u001b[0m\u001b[0;34m)\u001b[0m\u001b[0;34m,\u001b[0m\u001b[0;36m10\u001b[0m\u001b[0;34m)\u001b[0m\u001b[0;34m)\u001b[0m\u001b[0;34m\u001b[0m\u001b[0m\n\u001b[1;32m      5\u001b[0m \u001b[0mprint\u001b[0m\u001b[0;34m(\u001b[0m\u001b[0;34m'MSE for h after training:'\u001b[0m\u001b[0;34m,\u001b[0m\u001b[0mround\u001b[0m\u001b[0;34m(\u001b[0m\u001b[0mmean_squared_error\u001b[0m\u001b[0;34m(\u001b[0m\u001b[0mh_test\u001b[0m\u001b[0;34m,\u001b[0m\u001b[0mh_pred\u001b[0m\u001b[0;34m)\u001b[0m\u001b[0;34m,\u001b[0m\u001b[0;36m10\u001b[0m\u001b[0;34m)\u001b[0m\u001b[0;34m)\u001b[0m\u001b[0;34m\u001b[0m\u001b[0m\n",
      "\u001b[0;31mNameError\u001b[0m: name 'x_test' is not defined"
     ]
    }
   ],
   "source": [
    "v_pred = v.eval(m, [x_test])\n",
    "h_pred = h.eval(m, [x_test])\n",
    "K_pred = K.eval(m, [x_test_K])\n",
    "print('MSE for v after training:',round(mean_squared_error(v_test,v_pred),10))\n",
    "print('MSE for h after training:',round(mean_squared_error(h_test,h_pred),10))\n",
    "print('MSE for K after training:',round(mean_squared_error(K_test,K_pred),10))"
   ]
  },
  {
   "cell_type": "code",
   "execution_count": null,
   "metadata": {
    "colab": {},
    "colab_type": "code",
    "collapsed": true,
    "id": "Z3Iyxjmr_4yx"
   },
   "outputs": [],
   "source": []
  }
 ],
 "metadata": {
  "accelerator": "TPU",
  "colab": {
   "collapsed_sections": [],
   "name": "burgers.ipynb",
   "provenance": []
  },
  "kernelspec": {
   "display_name": "Python 3",
   "language": "python",
   "name": "python3"
  },
  "language_info": {
   "codemirror_mode": {
    "name": "ipython",
    "version": 3
   },
   "file_extension": ".py",
   "mimetype": "text/x-python",
   "name": "python",
   "nbconvert_exporter": "python",
   "pygments_lexer": "ipython3",
   "version": "3.6.1"
  }
 },
 "nbformat": 4,
 "nbformat_minor": 1
}
