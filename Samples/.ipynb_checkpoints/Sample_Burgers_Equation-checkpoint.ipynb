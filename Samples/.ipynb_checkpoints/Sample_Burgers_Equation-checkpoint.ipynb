{
 "cells": [
  {
   "cell_type": "markdown",
   "metadata": {},
   "source": [
    "#### Description"
   ]
  },
  {
   "cell_type": "code",
   "execution_count": null,
   "metadata": {},
   "outputs": [],
   "source": [
    "print('Author: Leo Pauly')\n",
    "print('Description: Sample PINN program')"
   ]
  },
  {
   "cell_type": "markdown",
   "metadata": {},
   "source": [
    "#### Import & Installation"
   ]
  },
  {
   "cell_type": "code",
   "execution_count": 5,
   "metadata": {},
   "outputs": [],
   "source": [
    "#!module load python # Loading latest python version\n",
    "#!curl https://bootstrap.pypa.io/get-pip.py -o get-pip.py # get pip pip\n",
    "#!python get-pip.py # Install pip\n",
    "#!pip install sciann #Installing sciann\n",
    "import sciann"
   ]
  },
  {
   "cell_type": "code",
   "execution_count": 9,
   "metadata": {
    "collapsed": true
   },
   "outputs": [],
   "source": [
    "import numpy as np\n",
    "import matplotlib.pyplot as plt \n",
    "import sciann as sn\n",
    "from numpy import pi\n",
    "from sciann.utils.math import diff, sign, sin"
   ]
  },
  {
   "cell_type": "markdown",
   "metadata": {},
   "source": [
    "#### PINN"
   ]
  },
  {
   "cell_type": "code",
   "execution_count": 10,
   "metadata": {
    "collapsed": true
   },
   "outputs": [],
   "source": [
    "x = sn.Variable('x')\n",
    "t = sn.Variable('t')\n",
    "u = sn.Functional('u', [t,x], 8*[20], 'tanh')"
   ]
  },
  {
   "cell_type": "code",
   "execution_count": 11,
   "metadata": {},
   "outputs": [],
   "source": [
    "L1 = diff(u, t) + u*diff(u,x) - (0.01/pi)*diff(u, x, order=2)"
   ]
  },
  {
   "cell_type": "code",
   "execution_count": 12,
   "metadata": {
    "collapsed": true
   },
   "outputs": [],
   "source": [
    "TOL = 0.001\n",
    "C1 = (1-sign(t - TOL)) * (u + sin(pi*x))\n",
    "C2 = (1-sign(x - (-1+TOL))) * (u)\n",
    "C3 = (1+sign(x - ( 1-TOL))) * (u)"
   ]
  },
  {
   "cell_type": "code",
   "execution_count": 13,
   "metadata": {
    "collapsed": true
   },
   "outputs": [],
   "source": [
    "m = sn.SciModel([x, t], [L1, C1, C2, C3])"
   ]
  },
  {
   "cell_type": "code",
   "execution_count": 14,
   "metadata": {
    "collapsed": true
   },
   "outputs": [],
   "source": [
    "x_data, t_data = np.meshgrid(np.linspace(-1, 1, 100), np.linspace(0, 1, 100))"
   ]
  },
  {
   "cell_type": "code",
   "execution_count": 16,
   "metadata": {},
   "outputs": [
    {
     "name": "stdout",
     "output_type": "stream",
     "text": [
      "\n",
      "Total samples: 10000 \n",
      "Batch size: 64 \n",
      "Total batches: 157 \n",
      "\n"
     ]
    }
   ],
   "source": [
    "h = m.train([x_data, t_data], 4*['zero'], learning_rate=0.002, epochs=5, verbose=0)"
   ]
  },
  {
   "cell_type": "code",
   "execution_count": 17,
   "metadata": {
    "collapsed": true
   },
   "outputs": [],
   "source": [
    "x_test, t_test = np.meshgrid(np.linspace(-1, 1, 200), np.linspace(0, 1, 200))\n",
    "u_pred = u.eval(m, [x_test, t_test])"
   ]
  },
  {
   "cell_type": "code",
   "execution_count": null,
   "metadata": {},
   "outputs": [],
   "source": [
    "fig = plt.figure(figsize=(3, 4))\n",
    "plt.pcolor(x_test, t_test, u_pred, cmap='seismic')\n",
    "plt.xlabel('x')\n",
    "plt.ylabel('t')\n",
    "plt.colorbar()\n",
    "plt.show()"
   ]
  },
  {
   "cell_type": "code",
   "execution_count": null,
   "metadata": {
    "collapsed": true
   },
   "outputs": [],
   "source": []
  }
 ],
 "metadata": {
  "kernelspec": {
   "display_name": "Python 3",
   "language": "python",
   "name": "python3"
  },
  "language_info": {
   "codemirror_mode": {
    "name": "ipython",
    "version": 3
   },
   "file_extension": ".py",
   "mimetype": "text/x-python",
   "name": "python",
   "nbconvert_exporter": "python",
   "pygments_lexer": "ipython3",
   "version": "3.6.1"
  }
 },
 "nbformat": 4,
 "nbformat_minor": 2
}
