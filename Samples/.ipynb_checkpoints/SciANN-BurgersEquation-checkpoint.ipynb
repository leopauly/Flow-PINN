{
 "cells": [
  {
   "cell_type": "markdown",
   "metadata": {
    "colab_type": "text",
    "id": "_GjAWEr3TthX"
   },
   "source": [
    "SciANN-Burgers.ipynb\n",
    "\n",
    "An illustrain to use SciANN to solve Burgers problem introduced in: https://arxiv.org/pdf/1711.10561.pdf\n",
    "\n",
    "For additional details, please check our paper at: https://arxiv.org/abs/2005.08803\n",
    "\n",
    "Created by Ehsan Haghighat on 5/01/20.\n"
   ]
  },
  {
   "cell_type": "code",
   "execution_count": 1,
   "metadata": {
    "colab": {
     "base_uri": "https://localhost:8080/",
     "height": 853
    },
    "colab_type": "code",
    "id": "XX3szgj379Ef",
    "outputId": "5a072656-2473-4c21-d8cf-55e612e16368"
   },
   "outputs": [],
   "source": [
    "# You need to have tensorflow, keras, and sciann installed in your system. \n",
    "# On google cloud, uncomment next line to install sciann. \n",
    "\n",
    "# !pip install sciann "
   ]
  },
  {
   "cell_type": "code",
   "execution_count": 2,
   "metadata": {
    "colab": {
     "base_uri": "https://localhost:8080/",
     "height": 187
    },
    "colab_type": "code",
    "id": "6AJcsTGv8Apr",
    "outputId": "b781e9e5-108c-4e74-c2c1-06c22c4c38d9"
   },
   "outputs": [
    {
     "name": "stderr",
     "output_type": "stream",
     "text": [
      "Using TensorFlow backend.\n"
     ]
    },
    {
     "name": "stdout",
     "output_type": "stream",
     "text": [
      "--------------------- SCIANN 0.4.5.2 --------------------- \n",
      "Please review the documentation at \"https://www.sciann.com\". \n",
      "@misc{haghighat2019sciann, \n",
      "    title={SciANN: A Keras wrapper for scientific computations and physics-informed deep learning using artificial neural networks}, \n",
      "    author={Haghighat, Ehsan and Juanes, Ruben}, \n",
      "    url={https://github.com/sciann/sciann.git}, \n",
      "    year={2019} \n",
      "} \n",
      "----------------------------------------------------------\n"
     ]
    }
   ],
   "source": [
    "import numpy as np\n",
    "import matplotlib.pyplot as plt \n",
    "import sciann as sn "
   ]
  },
  {
   "cell_type": "markdown",
   "metadata": {
    "colab_type": "text",
    "id": "akWSm5gp8OqZ"
   },
   "source": [
    "# Burgers problem\n",
    "\n",
    "The governing equation is: \n",
    "$$\n",
    "  u_{,t} + u u_{,x} - (0.01 / \\pi) u_{,xx} = 0, \\quad t \\in [0, 1], \\quad x \\in [-1,1]\n",
    "$$\n",
    "subjected to \n",
    "$$\n",
    "u(t=0, x) = -\\sin(\\pi x), \\quad u(t, x=\\pm 1) = 0\n",
    "$$\n",
    "\n",
    "The objective is to solve this equation with PINN. "
   ]
  },
  {
   "cell_type": "markdown",
   "metadata": {
    "colab_type": "text",
    "id": "F0UC4jB3Um-y"
   },
   "source": [
    "## Step 1: Setting up the neural network\n",
    "\n",
    "The first step is to construct the approximation space. \n",
    "\n",
    "The independent variables are: $(t, x)$\n",
    "The field variable is: $u(t, x)\n",
    "\n",
    "The neural network approximation is defined as:\n",
    "$$\n",
    "\\hat{u}: (t, x) \\mapsto \\mathcal{N}_u(t,x; \\mathbf{W}, \\mathcal{b})\n",
    "$$\n",
    "\n",
    "Here, we use 8 hidden layers with 20 neural units and hyperbolic-tangent activation function. "
   ]
  },
  {
   "cell_type": "code",
   "execution_count": 3,
   "metadata": {
    "colab": {},
    "colab_type": "code",
    "id": "IphAjNlN8I2s"
   },
   "outputs": [],
   "source": [
    "x = sn.Variable('x')\n",
    "t = sn.Variable('t')\n",
    "u = sn.Functional('u', [t,x], 8*[20], 'tanh')"
   ]
  },
  {
   "cell_type": "markdown",
   "metadata": {
    "colab_type": "text",
    "id": "ltCB-vse9rJQ"
   },
   "source": [
    "## Step 2: Setting up the optimzation problem\n",
    "\n",
    "The second step is to set up the optimization model using SciModel interface. Input variables are $(t, x)$ and targets are:\n",
    "\n",
    "*   $L_1 : ~~ u_{,t} + u u_{,x} - (0.01 / \\pi) u_{,xx}$"
   ]
  },
  {
   "cell_type": "code",
   "execution_count": 4,
   "metadata": {
    "colab": {},
    "colab_type": "code",
    "id": "i2SHomId-9Og"
   },
   "outputs": [],
   "source": [
    "from numpy import pi\n",
    "from sciann.utils.math import diff, sign, sin"
   ]
  },
  {
   "cell_type": "code",
   "execution_count": 5,
   "metadata": {
    "colab": {},
    "colab_type": "code",
    "id": "xh8wH6Hx9ox0"
   },
   "outputs": [],
   "source": [
    "L1 = diff(u, t) + u*diff(u,x) - (0.01/pi)*diff(u, x, order=2)"
   ]
  },
  {
   "cell_type": "markdown",
   "metadata": {
    "colab_type": "text",
    "id": "U0gqvRzFWty3"
   },
   "source": [
    "Boundary conditions are: \n",
    "*   $C_1: ~~ (1+sign(0 - t))~(u + \\sin(\\pi x)$\n",
    "*   $C_2: ~~ (1+sign(-1 - x))~u$\n",
    "*   $C_3: ~~ (1+sign(x - 1))~u$\n"
   ]
  },
  {
   "cell_type": "code",
   "execution_count": 6,
   "metadata": {
    "colab": {},
    "colab_type": "code",
    "id": "4bDJqnnN-KWX"
   },
   "outputs": [],
   "source": [
    "TOL = 0.001\n",
    "C1 = (1-sign(t - TOL)) * (u + sin(pi*x))\n",
    "C2 = (1-sign(x - (-1+TOL))) * (u)\n",
    "C3 = (1+sign(x - ( 1-TOL))) * (u)"
   ]
  },
  {
   "cell_type": "markdown",
   "metadata": {
    "colab_type": "text",
    "id": "qvZ2Lr6oW9Qh"
   },
   "source": [
    "The \"SciModel\" with multiple objects is now defined as:"
   ]
  },
  {
   "cell_type": "code",
   "execution_count": 7,
   "metadata": {
    "colab": {},
    "colab_type": "code",
    "id": "38nC2ILu-47f"
   },
   "outputs": [],
   "source": [
    "m = sn.SciModel([x, t], [L1, C1, C2, C3])"
   ]
  },
  {
   "cell_type": "markdown",
   "metadata": {
    "colab_type": "text",
    "id": "By_guVFaXFLn"
   },
   "source": [
    "## Sampling (collocation) grid "
   ]
  },
  {
   "cell_type": "markdown",
   "metadata": {
    "colab_type": "text",
    "id": "fStfM5kp_Loz"
   },
   "source": [
    "To train the network, we need to define a sampling (collocation) grid."
   ]
  },
  {
   "cell_type": "code",
   "execution_count": 8,
   "metadata": {
    "colab": {
     "base_uri": "https://localhost:8080/",
     "height": 1000
    },
    "colab_type": "code",
    "id": "j5xeu5I1_I7k",
    "outputId": "71bbb521-fcfb-4e6e-c60f-7cb59694ccb1"
   },
   "outputs": [],
   "source": [
    "x_data, t_data = np.meshgrid(\n",
    "    np.linspace(-1, 1, 100), \n",
    "    np.linspace(0, 1, 100)\n",
    ")"
   ]
  },
  {
   "cell_type": "markdown",
   "metadata": {},
   "source": [
    "## Training\n",
    "\n",
    "We can then proform the training: "
   ]
  },
  {
   "cell_type": "code",
   "execution_count": 9,
   "metadata": {},
   "outputs": [
    {
     "name": "stdout",
     "output_type": "stream",
     "text": [
      "\n",
      "Epoch 00656: ReduceLROnPlateau reducing learning rate to 0.0010000000474974513.\n",
      "\n",
      "Epoch 01655: ReduceLROnPlateau reducing learning rate to 0.0005000000237487257.\n",
      "\n",
      "Epoch 02654: ReduceLROnPlateau reducing learning rate to 0.0002500000118743628.\n",
      "\n",
      "Epoch 03844: ReduceLROnPlateau reducing learning rate to 0.0001250000059371814.\n",
      "Epoch 03983: early stopping\n"
     ]
    }
   ],
   "source": [
    "h = m.train([x_data, t_data], 4*['zero'], learning_rate=0.002, epochs=5000, verbose=0)"
   ]
  },
  {
   "cell_type": "markdown",
   "metadata": {},
   "source": [
    "## Testing \n",
    "\n",
    "There are two ways to evaluate the functionals. \n",
    "\n",
    "1- eval without passing the model:\n",
    "* Not suggested - the data should be provided in the same order as it was defined in the functional: \"u = sn.Functional('u', [t,x], 8*[20], 'tanh')\"\n",
    "* u.eval([t_data, x_data])\n",
    "\n",
    "2- eval with model (suggested): \n",
    "* the data should be provided in the same order as it was defined in the SciModel: \"m = sn.SciModel([x, t], [L1, C1, C2, C3])\"\n",
    "* u.eval(m, [x_data, t_data]) "
   ]
  },
  {
   "cell_type": "code",
   "execution_count": 10,
   "metadata": {
    "colab": {},
    "colab_type": "code",
    "id": "xWlXzmX4_kU7"
   },
   "outputs": [],
   "source": [
    "x_test, t_test = np.meshgrid(\n",
    "    np.linspace(-1, 1, 200), \n",
    "    np.linspace(0, 1, 200)\n",
    ")\n",
    "u_pred = u.eval(m, [x_test, t_test])"
   ]
  },
  {
   "cell_type": "code",
   "execution_count": 11,
   "metadata": {
    "colab": {
     "base_uri": "https://localhost:8080/",
     "height": 286
    },
    "colab_type": "code",
    "id": "IvCO3phf_zvc",
    "outputId": "f583a05a-ed24-41d9-9f0f-2eaec063c7c4"
   },
   "outputs": [
    {
     "data": {
      "text/plain": [
       "<matplotlib.colorbar.Colorbar at 0x2f45f6579c8>"
      ]
     },
     "execution_count": 11,
     "metadata": {},
     "output_type": "execute_result"
    },
    {
     "data": {
      "image/png": "[encoded data removed]",
      "text/plain": [
       "<Figure size 216x288 with 2 Axes>"
      ]
     },
     "metadata": {
      "needs_background": "light"
     },
     "output_type": "display_data"
    }
   ],
   "source": [
    "fig = plt.figure(figsize=(3, 4))\n",
    "plt.pcolor(x_test, t_test, u_pred, cmap='seismic')\n",
    "plt.xlabel('x')\n",
    "plt.ylabel('t')\n",
    "plt.colorbar()"
   ]
  },
  {
   "cell_type": "code",
   "execution_count": null,
   "metadata": {
    "colab": {},
    "colab_type": "code",
    "id": "Z3Iyxjmr_4yx"
   },
   "outputs": [],
   "source": []
  }
 ],
 "metadata": {
  "accelerator": "TPU",
  "colab": {
   "collapsed_sections": [],
   "name": "burgers.ipynb",
   "provenance": []
  },
  "kernelspec": {
   "display_name": "Python 3",
   "language": "python",
   "name": "python3"
  },
  "language_info": {
   "codemirror_mode": {
    "name": "ipython",
    "version": 3
   },
   "file_extension": ".py",
   "mimetype": "text/x-python",
   "name": "python",
   "nbconvert_exporter": "python",
   "pygments_lexer": "ipython3",
   "version": "3.7.7"
  }
 },
 "nbformat": 4,
 "nbformat_minor": 1
}
