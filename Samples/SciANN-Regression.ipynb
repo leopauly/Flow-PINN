{
 "cells": [
  {
   "cell_type": "markdown",
   "metadata": {
    "colab": {
     "base_uri": "https://localhost:8080/",
     "height": 853
    },
    "colab_type": "code",
    "id": "hlWZIGHrCNcS",
    "outputId": "a87ee008-4f62-49c2-e893-6d1acc423499"
   },
   "source": [
    "# SciANN-Regression.py\n",
    "\n",
    "An illustrain to use SciANN simple linear and quadratic curve-fitting.\n",
    "\n",
    "For additional details, please check our paper at: https://arxiv.org/abs/2005.08803 \n",
    "    \n",
    "Created by Ehsan Haghighat on 5/01/20."
   ]
  },
  {
   "cell_type": "code",
   "execution_count": 1,
   "metadata": {
    "collapsed": true
   },
   "outputs": [],
   "source": [
    "# You need to have tensorflow, keras, and sciann installed in your system. \n",
    "# On google cloud, uncomment next line to install sciann. \n",
    "\n",
    "# !pip install sciann "
   ]
  },
  {
   "cell_type": "code",
   "execution_count": 2,
   "metadata": {
    "colab": {
     "base_uri": "https://localhost:8080/",
     "height": 334
    },
    "colab_type": "code",
    "id": "CM0Qrmd5C8t9",
    "outputId": "3393ef51-7980-4a54-9154-61c4330fc042"
   },
   "outputs": [
    {
     "name": "stdout",
     "output_type": "stream",
     "text": [
      "---------------------- SCIANN 0.6.3.1 ---------------------- \n",
      "For details, check out our review paper and the documentation at: \n",
      " +  \"https://www.sciencedirect.com/science/article/pii/S0045782520307374\", \n",
      " +  \"https://arxiv.org/abs/2005.08803\", \n",
      " +  \"https://www.sciann.com\". \n",
      "\n",
      " Need support or would like to contribute, please join sciann`s slack group: \n",
      " +  \"https://join.slack.com/t/sciann/shared_invite/zt-ne1f5jlx-k_dY8RGo3ZreDXwz0f~CeA\" \n",
      " \n"
     ]
    }
   ],
   "source": [
    "import numpy as np \n",
    "import matplotlib.pyplot as plt \n",
    "import sciann as sn "
   ]
  },
  {
   "cell_type": "markdown",
   "metadata": {
    "colab_type": "text",
    "id": "aNdSan4UCYVL"
   },
   "source": [
    "# SciANN for Linear Regression  "
   ]
  },
  {
   "cell_type": "markdown",
   "metadata": {
    "colab_type": "text",
    "id": "IPzsUX-wCgKS"
   },
   "source": [
    "The objective is to fit NN on data generated from \n",
    "$$\n",
    "y = 2x+1+\\epsilon, \\quad \\epsilon \\sim N(0,\\sigma^2) = \\sigma N(0,1)\n",
    "$$"
   ]
  },
  {
   "cell_type": "code",
   "execution_count": 3,
   "metadata": {
    "colab": {
     "base_uri": "https://localhost:8080/",
     "height": 198
    },
    "colab_type": "code",
    "id": "LAmiys7JCqbZ",
    "outputId": "0847c0b4-5e39-4193-efcd-94de9e4fbb75"
   },
   "outputs": [
    {
     "data": {
      "image/png": "[encoded data removed]",
      "text/plain": [
       "<matplotlib.figure.Figure at 0x2b88d9630390>"
      ]
     },
     "metadata": {},
     "output_type": "display_data"
    }
   ],
   "source": [
    "x_data = np.linspace(-1, 1, 1000)\n",
    "y_data = 2*x_data + 1\n",
    "y_data += 0.2*np.std(y_data)*np.random.randn(1000)\n",
    "\n",
    "plt.scatter(x_data, y_data)\n",
    "plt.show()"
   ]
  },
  {
   "cell_type": "markdown",
   "metadata": {
    "colab_type": "text",
    "id": "v4mzOxSM_15W"
   },
   "source": [
    "## Step 1\n",
    "The first step is to define the approxmation using neural networks. The simplest neural network is a linear regression model, i.e., a network \n",
    "without any hidden layers:  "
   ]
  },
  {
   "cell_type": "code",
   "execution_count": 4,
   "metadata": {
    "colab": {},
    "colab_type": "code",
    "collapsed": true,
    "id": "65gVhIa6E2Z1"
   },
   "outputs": [],
   "source": [
    "x = sn.Variable('x')\n",
    "o = sn.Field('y')\n",
    "y = sn.Functional(o, x)"
   ]
  },
  {
   "cell_type": "markdown",
   "metadata": {
    "colab_type": "text",
    "id": "bo1jx_bCAPKC"
   },
   "source": [
    "You can check initial values of network weights and biasses as:"
   ]
  },
  {
   "cell_type": "code",
   "execution_count": 5,
   "metadata": {
    "colab": {
     "base_uri": "https://localhost:8080/",
     "height": 34
    },
    "colab_type": "code",
    "id": "YgCxFkRkGTox",
    "outputId": "afa45961-ef71-4701-de92-6edb0a3cbcc7"
   },
   "outputs": [
    {
     "data": {
      "text/plain": [
       "[[array([[-0.02533445]], dtype=float32), array([0.652505], dtype=float32)]]"
      ]
     },
     "execution_count": 5,
     "metadata": {},
     "output_type": "execute_result"
    }
   ],
   "source": [
    "y.get_weights()"
   ]
  },
  {
   "cell_type": "markdown",
   "metadata": {
    "colab_type": "text",
    "id": "j5fjEXsmARO7"
   },
   "source": [
    "You can eval a functional using the `eval' function:"
   ]
  },
  {
   "cell_type": "code",
   "execution_count": 6,
   "metadata": {
    "colab": {
     "base_uri": "https://localhost:8080/",
     "height": 282
    },
    "colab_type": "code",
    "id": "XctCHB8uGdQM",
    "outputId": "87fd0891-a981-4016-ae0e-f115fbd71a2f"
   },
   "outputs": [
    {
     "data": {
      "image/png": "[encoded data removed]",
      "text/plain": [
       "<matplotlib.figure.Figure at 0x2b88723ad940>"
      ]
     },
     "metadata": {},
     "output_type": "display_data"
    }
   ],
   "source": [
    "y_pred = y.eval(x_data)\n",
    "\n",
    "plt.scatter(x_data, y_data)\n",
    "plt.plot(x_data, y_pred, 'r')\n",
    "plt.show()"
   ]
  },
  {
   "cell_type": "markdown",
   "metadata": {
    "colab_type": "text",
    "id": "h3b9w73JAcSe"
   },
   "source": [
    "## Step 2\n",
    "The second step is the define the optimization model, i.e., main inputs of the network and targets (objtives). This is done using SciModel interface:"
   ]
  },
  {
   "cell_type": "code",
   "execution_count": 7,
   "metadata": {
    "colab": {},
    "colab_type": "code",
    "collapsed": true,
    "id": "Ywjbe2q8Gz18"
   },
   "outputs": [],
   "source": [
    "d1 = sn.Data(y)\n",
    "m = sn.SciModel(x, d1)"
   ]
  },
  {
   "cell_type": "markdown",
   "metadata": {
    "colab_type": "text",
    "id": "OziRwhkvA3bT"
   },
   "source": [
    "Once the model is defined, we can use the `train' function to identify the parameters of the network: "
   ]
  },
  {
   "cell_type": "code",
   "execution_count": 8,
   "metadata": {
    "colab": {
     "base_uri": "https://localhost:8080/",
     "height": 1000
    },
    "colab_type": "code",
    "id": "rjOmPUZpHZe6",
    "outputId": "5c9b72d2-5fc8-4104-ddc0-2b30c7caa1b9"
   },
   "outputs": [
    {
     "name": "stdout",
     "output_type": "stream",
     "text": [
      "\n",
      "Total samples: 1000 \n",
      "Batch size: 64 \n",
      "Total batches: 16 \n",
      "\n",
      "Epoch 1/100\n",
      "16/16 [==============================] - 0s 1ms/step - batch: 7.5000 - size: 62.5000 - loss: 1.4023 - lr: 0.0100 - time: 0.1772\n",
      "Epoch 2/100\n",
      "16/16 [==============================] - 0s 2ms/step - batch: 7.5000 - size: 62.5000 - loss: 1.1467 - lr: 0.0100 - time: 0.1219\n",
      "Epoch 3/100\n",
      "16/16 [==============================] - 0s 2ms/step - batch: 7.5000 - size: 62.5000 - loss: 0.9478 - lr: 0.0100 - time: 0.1123\n",
      "Epoch 4/100\n",
      "16/16 [==============================] - 0s 2ms/step - batch: 7.5000 - size: 62.5000 - loss: 0.7908 - lr: 0.0100 - time: 0.1120\n",
      "Epoch 5/100\n",
      "16/16 [==============================] - 0s 2ms/step - batch: 7.5000 - size: 62.5000 - loss: 0.6557 - lr: 0.0100 - time: 0.1133\n",
      "Epoch 6/100\n",
      "16/16 [==============================] - 0s 2ms/step - batch: 7.5000 - size: 62.5000 - loss: 0.5490 - lr: 0.0100 - time: 0.1136\n",
      "Epoch 7/100\n",
      "16/16 [==============================] - 0s 2ms/step - batch: 7.5000 - size: 62.5000 - loss: 0.4522 - lr: 0.0100 - time: 0.1175\n",
      "Epoch 8/100\n",
      "16/16 [==============================] - 0s 2ms/step - batch: 7.5000 - size: 62.5000 - loss: 0.3702 - lr: 0.0100 - time: 0.1155\n",
      "Epoch 9/100\n",
      "16/16 [==============================] - 0s 2ms/step - batch: 7.5000 - size: 62.5000 - loss: 0.3041 - lr: 0.0100 - time: 0.1113\n",
      "Epoch 10/100\n",
      "16/16 [==============================] - 0s 2ms/step - batch: 7.5000 - size: 62.5000 - loss: 0.2522 - lr: 0.0100 - time: 0.1087\n",
      "Epoch 11/100\n",
      "16/16 [==============================] - 0s 2ms/step - batch: 7.5000 - size: 62.5000 - loss: 0.2064 - lr: 0.0100 - time: 0.1178\n",
      "Epoch 12/100\n",
      "16/16 [==============================] - 0s 2ms/step - batch: 7.5000 - size: 62.5000 - loss: 0.1706 - lr: 0.0100 - time: 0.1125\n",
      "Epoch 13/100\n",
      "16/16 [==============================] - 0s 2ms/step - batch: 7.5000 - size: 62.5000 - loss: 0.1428 - lr: 0.0100 - time: 0.1138\n",
      "Epoch 14/100\n",
      "16/16 [==============================] - 0s 2ms/step - batch: 7.5000 - size: 62.5000 - loss: 0.1211 - lr: 0.0100 - time: 0.1177\n",
      "Epoch 15/100\n",
      "16/16 [==============================] - 0s 2ms/step - batch: 7.5000 - size: 62.5000 - loss: 0.1041 - lr: 0.0100 - time: 0.1081\n",
      "Epoch 16/100\n",
      "16/16 [==============================] - 0s 2ms/step - batch: 7.5000 - size: 62.5000 - loss: 0.0913 - lr: 0.0100 - time: 0.1091\n",
      "Epoch 17/100\n",
      "16/16 [==============================] - 0s 2ms/step - batch: 7.5000 - size: 62.5000 - loss: 0.0809 - lr: 0.0100 - time: 0.1165\n",
      "Epoch 18/100\n",
      "16/16 [==============================] - 0s 2ms/step - batch: 7.5000 - size: 62.5000 - loss: 0.0729 - lr: 0.0100 - time: 0.1087\n",
      "Epoch 19/100\n",
      "16/16 [==============================] - 0s 2ms/step - batch: 7.5000 - size: 62.5000 - loss: 0.0687 - lr: 0.0100 - time: 0.1179\n",
      "Epoch 20/100\n",
      "16/16 [==============================] - 0s 2ms/step - batch: 7.5000 - size: 62.5000 - loss: 0.0646 - lr: 0.0100 - time: 0.1125\n",
      "Epoch 21/100\n",
      "16/16 [==============================] - 0s 2ms/step - batch: 7.5000 - size: 62.5000 - loss: 0.0612 - lr: 0.0100 - time: 0.1116\n",
      "Epoch 22/100\n",
      "16/16 [==============================] - 0s 2ms/step - batch: 7.5000 - size: 62.5000 - loss: 0.0588 - lr: 0.0100 - time: 0.1141\n",
      "Epoch 23/100\n",
      "16/16 [==============================] - 0s 2ms/step - batch: 7.5000 - size: 62.5000 - loss: 0.0578 - lr: 0.0100 - time: 0.1101\n",
      "Epoch 24/100\n",
      "16/16 [==============================] - 0s 2ms/step - batch: 7.5000 - size: 62.5000 - loss: 0.0570 - lr: 0.0100 - time: 0.1091\n",
      "Epoch 25/100\n",
      "16/16 [==============================] - 0s 2ms/step - batch: 7.5000 - size: 62.5000 - loss: 0.0561 - lr: 0.0100 - time: 0.1106\n",
      "Epoch 26/100\n",
      "16/16 [==============================] - 0s 2ms/step - batch: 7.5000 - size: 62.5000 - loss: 0.0556 - lr: 0.0100 - time: 0.1166\n",
      "Epoch 27/100\n",
      "16/16 [==============================] - 0s 2ms/step - batch: 7.5000 - size: 62.5000 - loss: 0.0552 - lr: 0.0100 - time: 0.1133\n",
      "Epoch 28/100\n",
      "16/16 [==============================] - 0s 2ms/step - batch: 7.5000 - size: 62.5000 - loss: 0.0550 - lr: 0.0100 - time: 0.1099\n",
      "Epoch 29/100\n",
      "16/16 [==============================] - 0s 2ms/step - batch: 7.5000 - size: 62.5000 - loss: 0.0551 - lr: 0.0100 - time: 0.1190\n",
      "Epoch 30/100\n",
      "16/16 [==============================] - 0s 2ms/step - batch: 7.5000 - size: 62.5000 - loss: 0.0546 - lr: 0.0100 - time: 0.1112\n",
      "Epoch 31/100\n",
      "16/16 [==============================] - 0s 2ms/step - batch: 7.5000 - size: 62.5000 - loss: 0.0544 - lr: 0.0100 - time: 0.1100\n",
      "Epoch 32/100\n",
      "16/16 [==============================] - 0s 2ms/step - batch: 7.5000 - size: 62.5000 - loss: 0.0547 - lr: 0.0100 - time: 0.1131\n",
      "Epoch 33/100\n",
      "16/16 [==============================] - 0s 2ms/step - batch: 7.5000 - size: 62.5000 - loss: 0.0544 - lr: 0.0100 - time: 0.1143\n",
      "Epoch 34/100\n",
      "16/16 [==============================] - 0s 2ms/step - batch: 7.5000 - size: 62.5000 - loss: 0.0546 - lr: 0.0100 - time: 0.1133\n",
      "Epoch 35/100\n",
      "16/16 [==============================] - 0s 2ms/step - batch: 7.5000 - size: 62.5000 - loss: 0.0549 - lr: 0.0100 - time: 0.1099\n",
      "Epoch 36/100\n",
      "16/16 [==============================] - 0s 2ms/step - batch: 7.5000 - size: 62.5000 - loss: 0.0551 - lr: 0.0100 - time: 0.1092\n",
      "Epoch 37/100\n",
      "16/16 [==============================] - 0s 2ms/step - batch: 7.5000 - size: 62.5000 - loss: 0.0550 - lr: 0.0100 - time: 0.1165\n",
      "Epoch 38/100\n",
      "16/16 [==============================] - 0s 2ms/step - batch: 7.5000 - size: 62.5000 - loss: 0.0547 - lr: 0.0100 - time: 0.1171\n",
      "Epoch 39/100\n",
      "16/16 [==============================] - 0s 2ms/step - batch: 7.5000 - size: 62.5000 - loss: 0.0548 - lr: 0.0100 - time: 0.1096\n",
      "Epoch 40/100\n",
      "16/16 [==============================] - 0s 2ms/step - batch: 7.5000 - size: 62.5000 - loss: 0.0551 - lr: 0.0100 - time: 0.1126\n",
      "Epoch 41/100\n",
      "16/16 [==============================] - 0s 2ms/step - batch: 7.5000 - size: 62.5000 - loss: 0.0546 - lr: 0.0100 - time: 0.1141\n",
      "Epoch 42/100\n",
      "16/16 [==============================] - 0s 2ms/step - batch: 7.5000 - size: 62.5000 - loss: 0.0547 - lr: 0.0100 - time: 0.1101\n",
      "Epoch 43/100\n",
      "16/16 [==============================] - 0s 2ms/step - batch: 7.5000 - size: 62.5000 - loss: 0.0548 - lr: 0.0100 - time: 0.1092\n",
      "Epoch 44/100\n",
      "16/16 [==============================] - 0s 2ms/step - batch: 7.5000 - size: 62.5000 - loss: 0.0544 - lr: 0.0100 - time: 0.1116\n",
      "Epoch 45/100\n",
      "16/16 [==============================] - 0s 2ms/step - batch: 7.5000 - size: 62.5000 - loss: 0.0550 - lr: 0.0100 - time: 0.1076\n",
      "Epoch 46/100\n",
      "16/16 [==============================] - 0s 2ms/step - batch: 7.5000 - size: 62.5000 - loss: 0.0546 - lr: 0.0100 - time: 0.1198\n",
      "Epoch 47/100\n",
      " 1/16 [>.............................] - ETA: 1s - batch: 0.0000e+00 - size: 64.0000 - loss: 0.0354\n",
      "Epoch 00047: ReduceLROnPlateau reducing learning rate to 0.004999999888241291.\n",
      "16/16 [==============================] - 0s 2ms/step - batch: 7.5000 - size: 62.5000 - loss: 0.0542 - lr: 0.0100 - time: 0.1179\n",
      "Epoch 48/100\n",
      "16/16 [==============================] - 0s 2ms/step - batch: 7.5000 - size: 62.5000 - loss: 0.0549 - lr: 0.0050 - time: 0.1162\n",
      "Epoch 49/100\n",
      "16/16 [==============================] - 0s 2ms/step - batch: 7.5000 - size: 62.5000 - loss: 0.0547 - lr: 0.0050 - time: 0.1003\n",
      "Epoch 50/100\n",
      "16/16 [==============================] - 0s 1ms/step - batch: 7.5000 - size: 62.5000 - loss: 0.0543 - lr: 0.0050 - time: 0.1069\n",
      "Epoch 51/100\n",
      "16/16 [==============================] - 0s 2ms/step - batch: 7.5000 - size: 62.5000 - loss: 0.0546 - lr: 0.0050 - time: 0.1188\n",
      "Epoch 52/100\n",
      "16/16 [==============================] - 0s 2ms/step - batch: 7.5000 - size: 62.5000 - loss: 0.0546 - lr: 0.0050 - time: 0.1174\n",
      "Epoch 53/100\n",
      "16/16 [==============================] - 0s 2ms/step - batch: 7.5000 - size: 62.5000 - loss: 0.0548 - lr: 0.0050 - time: 0.1130\n",
      "Epoch 54/100\n",
      "16/16 [==============================] - 0s 2ms/step - batch: 7.5000 - size: 62.5000 - loss: 0.0547 - lr: 0.0050 - time: 0.1120\n",
      "Epoch 55/100\n",
      "16/16 [==============================] - 0s 2ms/step - batch: 7.5000 - size: 62.5000 - loss: 0.0545 - lr: 0.0050 - time: 0.1133\n",
      "Epoch 56/100\n",
      "16/16 [==============================] - 0s 2ms/step - batch: 7.5000 - size: 62.5000 - loss: 0.0550 - lr: 0.0050 - time: 0.1151\n",
      "Epoch 57/100\n"
     ]
    },
    {
     "name": "stdout",
     "output_type": "stream",
     "text": [
      "16/16 [==============================] - 0s 2ms/step - batch: 7.5000 - size: 62.5000 - loss: 0.0548 - lr: 0.0050 - time: 0.1109\n",
      "Epoch 58/100\n",
      "16/16 [==============================] - 0s 2ms/step - batch: 7.5000 - size: 62.5000 - loss: 0.0547 - lr: 0.0050 - time: 0.1080\n",
      "Epoch 59/100\n",
      "16/16 [==============================] - 0s 2ms/step - batch: 7.5000 - size: 62.5000 - loss: 0.0542 - lr: 0.0050 - time: 0.1095\n",
      "Epoch 60/100\n",
      "16/16 [==============================] - 0s 2ms/step - batch: 7.5000 - size: 62.5000 - loss: 0.0546 - lr: 0.0050 - time: 0.1189\n",
      "Epoch 61/100\n",
      "16/16 [==============================] - 0s 2ms/step - batch: 7.5000 - size: 62.5000 - loss: 0.0545 - lr: 0.0050 - time: 0.1159\n",
      "Epoch 62/100\n",
      "16/16 [==============================] - 0s 2ms/step - batch: 7.5000 - size: 62.5000 - loss: 0.0549 - lr: 0.0050 - time: 0.1119\n",
      "Epoch 63/100\n",
      "16/16 [==============================] - 0s 2ms/step - batch: 7.5000 - size: 62.5000 - loss: 0.0541 - lr: 0.0050 - time: 0.1151\n",
      "Epoch 64/100\n",
      "16/16 [==============================] - 0s 2ms/step - batch: 7.5000 - size: 62.5000 - loss: 0.0545 - lr: 0.0050 - time: 0.1160\n",
      "Epoch 65/100\n",
      "16/16 [==============================] - 0s 2ms/step - batch: 7.5000 - size: 62.5000 - loss: 0.0544 - lr: 0.0050 - time: 0.1110\n",
      "Epoch 66/100\n",
      "16/16 [==============================] - 0s 2ms/step - batch: 7.5000 - size: 62.5000 - loss: 0.0546 - lr: 0.0050 - time: 0.1132\n",
      "Epoch 67/100\n",
      "16/16 [==============================] - 0s 2ms/step - batch: 7.5000 - size: 62.5000 - loss: 0.0553 - lr: 0.0050 - time: 0.1085\n",
      "Epoch 68/100\n",
      "16/16 [==============================] - 0s 2ms/step - batch: 7.5000 - size: 62.5000 - loss: 0.0550 - lr: 0.0050 - time: 0.1158\n",
      "Epoch 69/100\n",
      "16/16 [==============================] - 0s 2ms/step - batch: 7.5000 - size: 62.5000 - loss: 0.0547 - lr: 0.0050 - time: 0.1134\n",
      "Epoch 70/100\n",
      "16/16 [==============================] - 0s 2ms/step - batch: 7.5000 - size: 62.5000 - loss: 0.0549 - lr: 0.0050 - time: 0.1132\n",
      "Epoch 71/100\n",
      "16/16 [==============================] - 0s 2ms/step - batch: 7.5000 - size: 62.5000 - loss: 0.0551 - lr: 0.0050 - time: 0.1087\n",
      "Epoch 72/100\n",
      " 1/16 [>.............................] - ETA: 1s - batch: 0.0000e+00 - size: 64.0000 - loss: 0.0546\n",
      "Epoch 00072: ReduceLROnPlateau reducing learning rate to 0.0024999999441206455.\n",
      "16/16 [==============================] - 0s 2ms/step - batch: 7.5000 - size: 62.5000 - loss: 0.0546 - lr: 0.0050 - time: 0.1215\n",
      "Epoch 73/100\n",
      "16/16 [==============================] - 0s 2ms/step - batch: 7.5000 - size: 62.5000 - loss: 0.0548 - lr: 0.0025 - time: 0.1064\n",
      "Epoch 74/100\n",
      "16/16 [==============================] - 0s 2ms/step - batch: 7.5000 - size: 62.5000 - loss: 0.0552 - lr: 0.0025 - time: 0.1134\n",
      "Epoch 75/100\n",
      "16/16 [==============================] - 0s 2ms/step - batch: 7.5000 - size: 62.5000 - loss: 0.0549 - lr: 0.0025 - time: 0.1145\n",
      "Epoch 76/100\n",
      "16/16 [==============================] - 0s 2ms/step - batch: 7.5000 - size: 62.5000 - loss: 0.0550 - lr: 0.0025 - time: 0.1137\n",
      "Epoch 77/100\n",
      "16/16 [==============================] - 0s 2ms/step - batch: 7.5000 - size: 62.5000 - loss: 0.0548 - lr: 0.0025 - time: 0.1153\n",
      "Epoch 78/100\n",
      "16/16 [==============================] - 0s 2ms/step - batch: 7.5000 - size: 62.5000 - loss: 0.0549 - lr: 0.0025 - time: 0.1125\n",
      "Epoch 79/100\n",
      "16/16 [==============================] - 0s 2ms/step - batch: 7.5000 - size: 62.5000 - loss: 0.0543 - lr: 0.0025 - time: 0.1085\n",
      "Epoch 80/100\n",
      "16/16 [==============================] - 0s 2ms/step - batch: 7.5000 - size: 62.5000 - loss: 0.0548 - lr: 0.0025 - time: 0.1157\n",
      "Epoch 81/100\n",
      "16/16 [==============================] - 0s 2ms/step - batch: 7.5000 - size: 62.5000 - loss: 0.0550 - lr: 0.0025 - time: 0.1176\n",
      "Epoch 82/100\n",
      " 1/16 [>.............................] - ETA: 1s - batch: 0.0000e+00 - size: 64.0000 - loss: 0.0550\n",
      "Epoch 00082: ReduceLROnPlateau reducing learning rate to 0.0012499999720603228.\n",
      "16/16 [==============================] - 0s 2ms/step - batch: 7.5000 - size: 62.5000 - loss: 0.0548 - lr: 0.0025 - time: 0.1146\n",
      "Epoch 83/100\n",
      "16/16 [==============================] - 0s 2ms/step - batch: 7.5000 - size: 62.5000 - loss: 0.0549 - lr: 0.0012 - time: 0.1106\n",
      "Epoch 84/100\n",
      "16/16 [==============================] - 0s 2ms/step - batch: 7.5000 - size: 62.5000 - loss: 0.0549 - lr: 0.0012 - time: 0.1173\n",
      "Epoch 85/100\n",
      "16/16 [==============================] - 0s 2ms/step - batch: 7.5000 - size: 62.5000 - loss: 0.0546 - lr: 0.0012 - time: 0.1079\n",
      "Epoch 86/100\n",
      "16/16 [==============================] - 0s 2ms/step - batch: 7.5000 - size: 62.5000 - loss: 0.0548 - lr: 0.0012 - time: 0.1093\n",
      "Epoch 87/100\n",
      "16/16 [==============================] - 0s 2ms/step - batch: 7.5000 - size: 62.5000 - loss: 0.0547 - lr: 0.0012 - time: 0.1183\n",
      "Epoch 88/100\n",
      "16/16 [==============================] - 0s 2ms/step - batch: 7.5000 - size: 62.5000 - loss: 0.0545 - lr: 0.0012 - time: 0.1089\n",
      "Epoch 89/100\n",
      "16/16 [==============================] - 0s 2ms/step - batch: 7.5000 - size: 62.5000 - loss: 0.0544 - lr: 0.0012 - time: 0.1194\n",
      "Epoch 90/100\n",
      "16/16 [==============================] - 0s 2ms/step - batch: 7.5000 - size: 62.5000 - loss: 0.0547 - lr: 0.0012 - time: 0.1063\n",
      "Epoch 91/100\n",
      "16/16 [==============================] - 0s 2ms/step - batch: 7.5000 - size: 62.5000 - loss: 0.0546 - lr: 0.0012 - time: 0.1159\n",
      "Epoch 92/100\n",
      " 1/16 [>.............................] - ETA: 1s - batch: 0.0000e+00 - size: 64.0000 - loss: 0.0486\n",
      "Epoch 00092: ReduceLROnPlateau reducing learning rate to 0.0006249999860301614.\n",
      "16/16 [==============================] - 0s 2ms/step - batch: 7.5000 - size: 62.5000 - loss: 0.0554 - lr: 0.0012 - time: 0.1115\n",
      "Epoch 93/100\n",
      "16/16 [==============================] - 0s 2ms/step - batch: 7.5000 - size: 62.5000 - loss: 0.0548 - lr: 6.2500e-04 - time: 0.1117\n",
      "Epoch 94/100\n",
      "16/16 [==============================] - 0s 2ms/step - batch: 7.5000 - size: 62.5000 - loss: 0.0546 - lr: 6.2500e-04 - time: 0.1181\n",
      "Epoch 95/100\n",
      "16/16 [==============================] - 0s 2ms/step - batch: 7.5000 - size: 62.5000 - loss: 0.0546 - lr: 6.2500e-04 - time: 0.1112\n",
      "Epoch 96/100\n",
      "16/16 [==============================] - 0s 2ms/step - batch: 7.5000 - size: 62.5000 - loss: 0.0546 - lr: 6.2500e-04 - time: 0.1152\n",
      "Epoch 97/100\n",
      "16/16 [==============================] - 0s 2ms/step - batch: 7.5000 - size: 62.5000 - loss: 0.0546 - lr: 6.2500e-04 - time: 0.1125\n",
      "Epoch 98/100\n",
      "16/16 [==============================] - 0s 2ms/step - batch: 7.5000 - size: 62.5000 - loss: 0.0548 - lr: 6.2500e-04 - time: 0.1116\n",
      "Epoch 99/100\n",
      "16/16 [==============================] - 0s 2ms/step - batch: 7.5000 - size: 62.5000 - loss: 0.0545 - lr: 6.2500e-04 - time: 0.1125\n",
      "Epoch 100/100\n",
      "16/16 [==============================] - 0s 2ms/step - batch: 7.5000 - size: 62.5000 - loss: 0.0547 - lr: 6.2500e-04 - time: 0.1180\n"
     ]
    },
    {
     "data": {
      "text/plain": [
       "<tensorflow.python.keras.callbacks.History at 0x2b88e4ddbb00>"
      ]
     },
     "execution_count": 8,
     "metadata": {},
     "output_type": "execute_result"
    }
   ],
   "source": [
    "m.train(x_data, y_data, learning_rate=0.01)"
   ]
  },
  {
   "cell_type": "markdown",
   "metadata": {
    "colab_type": "text",
    "id": "Q6E_eX6SBFR6"
   },
   "source": [
    "We can now re-evaluate the network as:"
   ]
  },
  {
   "cell_type": "code",
   "execution_count": 9,
   "metadata": {
    "colab": {
     "base_uri": "https://localhost:8080/",
     "height": 282
    },
    "colab_type": "code",
    "id": "Iwg2exd6IRK0",
    "outputId": "320589f3-2527-45c4-9279-7d30bf47c715"
   },
   "outputs": [
    {
     "data": {
      "image/png": "[encoded data removed]",
      "text/plain": [
       "<matplotlib.figure.Figure at 0x2b88e4dd7f28>"
      ]
     },
     "metadata": {},
     "output_type": "display_data"
    }
   ],
   "source": [
    "y_pred = y.eval(x_data)\n",
    "\n",
    "plt.scatter(x_data, y_data)\n",
    "plt.plot(x_data, y_pred, 'r')\n",
    "plt.show()"
   ]
  },
  {
   "cell_type": "markdown",
   "metadata": {
    "colab_type": "text",
    "id": "KCOW03v6BKP4"
   },
   "source": [
    "The final values of weights and biases are obtained: "
   ]
  },
  {
   "cell_type": "code",
   "execution_count": 10,
   "metadata": {
    "colab": {
     "base_uri": "https://localhost:8080/",
     "height": 34
    },
    "colab_type": "code",
    "id": "S9wse4PgIWyb",
    "outputId": "5cefe9d8-f6c3-4c22-cae3-6872831270d5"
   },
   "outputs": [
    {
     "data": {
      "text/plain": [
       "[[array([[1.9879982]], dtype=float32), array([0.9979587], dtype=float32)]]"
      ]
     },
     "execution_count": 10,
     "metadata": {},
     "output_type": "execute_result"
    }
   ],
   "source": [
    "y.get_weights()"
   ]
  },
  {
   "cell_type": "markdown",
   "metadata": {
    "colab_type": "text",
    "id": "egW3zY3JBOI_"
   },
   "source": [
    "As you find, these are very close to their true values for data. "
   ]
  },
  {
   "cell_type": "markdown",
   "metadata": {
    "colab_type": "text",
    "id": "5VXcTsVKJOki"
   },
   "source": [
    "# SciANN for Quadratic Regression \n",
    "\n",
    "As the second example, let us assume that we have a the following dataset: \n",
    "$$\n",
    "y = 2x^2 -x + 1 + \\epsilon, \\quad \\epsilon \\sim N(0, \\sigma^2)\n",
    "$$\n",
    "\n",
    "and we wish to perform a quadratic regression using neural networks. "
   ]
  },
  {
   "cell_type": "code",
   "execution_count": 11,
   "metadata": {
    "colab": {
     "base_uri": "https://localhost:8080/",
     "height": 282
    },
    "colab_type": "code",
    "id": "KIizvQppJbRv",
    "outputId": "9d7cd8a6-d157-480a-edbc-4e0541178d35"
   },
   "outputs": [
    {
     "data": {
      "text/plain": [
       "<matplotlib.collections.PathCollection at 0x2b88d96bd0f0>"
      ]
     },
     "execution_count": 11,
     "metadata": {},
     "output_type": "execute_result"
    }
   ],
   "source": [
    "x_data = np.linspace(-1, 1, 1000)\n",
    "y_data = 2*x_data**2 - x_data + 1 \n",
    "y_data += 0.2*np.std(y_data)*np.random.randn(1000)\n",
    "plt.scatter(x_data, y_data)"
   ]
  },
  {
   "cell_type": "markdown",
   "metadata": {
    "colab_type": "text",
    "id": "IMhqGSRZCC7Z"
   },
   "source": [
    "## Step 1\n",
    "\n",
    "Again, we first need to define the approximation space, i.e., the quadratic model: "
   ]
  },
  {
   "cell_type": "code",
   "execution_count": 12,
   "metadata": {
    "colab": {},
    "colab_type": "code",
    "collapsed": true,
    "id": "Gi2P57slJnmJ"
   },
   "outputs": [],
   "source": [
    "x = sn.Variable('x')\n",
    "x2 = sn.Variable('x2')\n",
    "y = sn.Functional('y', [x, x2])"
   ]
  },
  {
   "cell_type": "markdown",
   "metadata": {
    "colab_type": "text",
    "id": "oczOejBTCXpH"
   },
   "source": [
    "Initial state of the approximation can be evaluated as:"
   ]
  },
  {
   "cell_type": "code",
   "execution_count": 13,
   "metadata": {
    "colab": {
     "base_uri": "https://localhost:8080/",
     "height": 282
    },
    "colab_type": "code",
    "id": "QQpbzMoJKDxZ",
    "outputId": "1f697bfe-bc37-4942-bd9d-db1c53921b93"
   },
   "outputs": [
    {
     "data": {
      "image/png": "[encoded data removed]",
      "text/plain": [
       "<matplotlib.figure.Figure at 0x2b88e4d8f390>"
      ]
     },
     "metadata": {},
     "output_type": "display_data"
    }
   ],
   "source": [
    "y_pred = y.eval([x_data, x_data**2])\n",
    "\n",
    "plt.scatter(x_data, y_data)\n",
    "plt.plot(x_data, y_pred, 'r')\n",
    "plt.show()"
   ]
  },
  {
   "cell_type": "markdown",
   "metadata": {
    "colab_type": "text",
    "id": "ym-mDW49Cdne"
   },
   "source": [
    "## Step 2\n",
    "\n",
    "Defining the optimization model and training the network:"
   ]
  },
  {
   "cell_type": "code",
   "execution_count": 14,
   "metadata": {
    "colab": {
     "base_uri": "https://localhost:8080/",
     "height": 1000
    },
    "colab_type": "code",
    "id": "n2SKMAdMJ1SS",
    "outputId": "a54c9250-b70a-48c4-9255-cc50799d5ac4"
   },
   "outputs": [
    {
     "name": "stdout",
     "output_type": "stream",
     "text": [
      "\n",
      "Total samples: 1000 \n",
      "Batch size: 64 \n",
      "Total batches: 16 \n",
      "\n",
      "Epoch 1/100\n",
      "16/16 [==============================] - 0s 2ms/step - batch: 7.5000 - size: 62.5000 - loss: 3.8777 - lr: 0.0200 - time: 0.1763\n",
      "Epoch 2/100\n",
      "16/16 [==============================] - 0s 2ms/step - batch: 7.5000 - size: 62.5000 - loss: 2.3992 - lr: 0.0200 - time: 0.1220\n",
      "Epoch 3/100\n",
      "16/16 [==============================] - 0s 2ms/step - batch: 7.5000 - size: 62.5000 - loss: 1.3837 - lr: 0.0200 - time: 0.1157\n",
      "Epoch 4/100\n",
      "16/16 [==============================] - 0s 2ms/step - batch: 7.5000 - size: 62.5000 - loss: 0.7656 - lr: 0.0200 - time: 0.1123\n",
      "Epoch 5/100\n",
      "16/16 [==============================] - 0s 2ms/step - batch: 7.5000 - size: 62.5000 - loss: 0.4275 - lr: 0.0200 - time: 0.1176\n",
      "Epoch 6/100\n",
      "16/16 [==============================] - 0s 2ms/step - batch: 7.5000 - size: 62.5000 - loss: 0.2637 - lr: 0.0200 - time: 0.1090\n",
      "Epoch 7/100\n",
      "16/16 [==============================] - 0s 2ms/step - batch: 7.5000 - size: 62.5000 - loss: 0.1895 - lr: 0.0200 - time: 0.1181\n",
      "Epoch 8/100\n",
      "16/16 [==============================] - 0s 2ms/step - batch: 7.5000 - size: 62.5000 - loss: 0.1532 - lr: 0.0200 - time: 0.1129\n",
      "Epoch 9/100\n",
      "16/16 [==============================] - 0s 2ms/step - batch: 7.5000 - size: 62.5000 - loss: 0.1349 - lr: 0.0200 - time: 0.1078\n",
      "Epoch 10/100\n",
      "16/16 [==============================] - 0s 2ms/step - batch: 7.5000 - size: 62.5000 - loss: 0.1220 - lr: 0.0200 - time: 0.1193\n",
      "Epoch 11/100\n",
      "16/16 [==============================] - 0s 2ms/step - batch: 7.5000 - size: 62.5000 - loss: 0.1111 - lr: 0.0200 - time: 0.1133\n",
      "Epoch 12/100\n",
      "16/16 [==============================] - 0s 2ms/step - batch: 7.5000 - size: 62.5000 - loss: 0.1019 - lr: 0.0200 - time: 0.1090\n",
      "Epoch 13/100\n",
      "16/16 [==============================] - 0s 2ms/step - batch: 7.5000 - size: 62.5000 - loss: 0.0928 - lr: 0.0200 - time: 0.1169\n",
      "Epoch 14/100\n",
      "16/16 [==============================] - 0s 2ms/step - batch: 7.5000 - size: 62.5000 - loss: 0.0846 - lr: 0.0200 - time: 0.1141\n",
      "Epoch 15/100\n",
      "16/16 [==============================] - 0s 2ms/step - batch: 7.5000 - size: 62.5000 - loss: 0.0763 - lr: 0.0200 - time: 0.1079\n",
      "Epoch 16/100\n",
      "16/16 [==============================] - 0s 2ms/step - batch: 7.5000 - size: 62.5000 - loss: 0.0697 - lr: 0.0200 - time: 0.1213\n",
      "Epoch 17/100\n",
      "16/16 [==============================] - 0s 2ms/step - batch: 7.5000 - size: 62.5000 - loss: 0.0637 - lr: 0.0200 - time: 0.1086\n",
      "Epoch 18/100\n",
      "16/16 [==============================] - 0s 2ms/step - batch: 7.5000 - size: 62.5000 - loss: 0.0585 - lr: 0.0200 - time: 0.1200\n",
      "Epoch 19/100\n",
      "16/16 [==============================] - 0s 2ms/step - batch: 7.5000 - size: 62.5000 - loss: 0.0535 - lr: 0.0200 - time: 0.1161\n",
      "Epoch 20/100\n",
      "16/16 [==============================] - 0s 2ms/step - batch: 7.5000 - size: 62.5000 - loss: 0.0493 - lr: 0.0200 - time: 0.1161\n",
      "Epoch 21/100\n",
      "16/16 [==============================] - 0s 2ms/step - batch: 7.5000 - size: 62.5000 - loss: 0.0454 - lr: 0.0200 - time: 0.1159\n",
      "Epoch 22/100\n",
      "16/16 [==============================] - 0s 2ms/step - batch: 7.5000 - size: 62.5000 - loss: 0.0424 - lr: 0.0200 - time: 0.1123\n",
      "Epoch 23/100\n",
      "16/16 [==============================] - 0s 2ms/step - batch: 7.5000 - size: 62.5000 - loss: 0.0400 - lr: 0.0200 - time: 0.1178\n",
      "Epoch 24/100\n",
      "16/16 [==============================] - 0s 2ms/step - batch: 7.5000 - size: 62.5000 - loss: 0.0376 - lr: 0.0200 - time: 0.1150\n",
      "Epoch 25/100\n",
      "16/16 [==============================] - 0s 2ms/step - batch: 7.5000 - size: 62.5000 - loss: 0.0352 - lr: 0.0200 - time: 0.1165\n",
      "Epoch 26/100\n",
      "16/16 [==============================] - 0s 2ms/step - batch: 7.5000 - size: 62.5000 - loss: 0.0336 - lr: 0.0200 - time: 0.1120\n",
      "Epoch 27/100\n",
      "16/16 [==============================] - 0s 2ms/step - batch: 7.5000 - size: 62.5000 - loss: 0.0322 - lr: 0.0200 - time: 0.1141\n",
      "Epoch 28/100\n",
      "16/16 [==============================] - 0s 2ms/step - batch: 7.5000 - size: 62.5000 - loss: 0.0311 - lr: 0.0200 - time: 0.1163\n",
      "Epoch 29/100\n",
      "16/16 [==============================] - 0s 2ms/step - batch: 7.5000 - size: 62.5000 - loss: 0.0300 - lr: 0.0200 - time: 0.1094\n",
      "Epoch 30/100\n",
      "16/16 [==============================] - 0s 2ms/step - batch: 7.5000 - size: 62.5000 - loss: 0.0296 - lr: 0.0200 - time: 0.1199\n",
      "Epoch 31/100\n",
      "16/16 [==============================] - 0s 2ms/step - batch: 7.5000 - size: 62.5000 - loss: 0.0288 - lr: 0.0200 - time: 0.1167\n",
      "Epoch 32/100\n",
      "16/16 [==============================] - 0s 2ms/step - batch: 7.5000 - size: 62.5000 - loss: 0.0284 - lr: 0.0200 - time: 0.1161\n",
      "Epoch 33/100\n",
      "16/16 [==============================] - 0s 2ms/step - batch: 7.5000 - size: 62.5000 - loss: 0.0279 - lr: 0.0200 - time: 0.1159\n",
      "Epoch 34/100\n",
      "16/16 [==============================] - 0s 2ms/step - batch: 7.5000 - size: 62.5000 - loss: 0.0275 - lr: 0.0200 - time: 0.1102\n",
      "Epoch 35/100\n",
      "16/16 [==============================] - 0s 2ms/step - batch: 7.5000 - size: 62.5000 - loss: 0.0271 - lr: 0.0200 - time: 0.1086\n",
      "Epoch 36/100\n",
      "16/16 [==============================] - 0s 2ms/step - batch: 7.5000 - size: 62.5000 - loss: 0.0268 - lr: 0.0200 - time: 0.1214\n",
      "Epoch 37/100\n",
      "16/16 [==============================] - 0s 2ms/step - batch: 7.5000 - size: 62.5000 - loss: 0.0271 - lr: 0.0200 - time: 0.1139\n",
      "Epoch 38/100\n",
      "16/16 [==============================] - 0s 2ms/step - batch: 7.5000 - size: 62.5000 - loss: 0.0269 - lr: 0.0200 - time: 0.1129\n",
      "Epoch 39/100\n",
      "16/16 [==============================] - 0s 2ms/step - batch: 7.5000 - size: 62.5000 - loss: 0.0266 - lr: 0.0200 - time: 0.1160\n",
      "Epoch 40/100\n",
      "16/16 [==============================] - 0s 2ms/step - batch: 7.5000 - size: 62.5000 - loss: 0.0265 - lr: 0.0200 - time: 0.1095\n",
      "Epoch 41/100\n",
      "16/16 [==============================] - 0s 2ms/step - batch: 7.5000 - size: 62.5000 - loss: 0.0264 - lr: 0.0200 - time: 0.1082\n",
      "Epoch 42/100\n",
      "16/16 [==============================] - 0s 2ms/step - batch: 7.5000 - size: 62.5000 - loss: 0.0264 - lr: 0.0200 - time: 0.1107\n",
      "Epoch 43/100\n",
      "16/16 [==============================] - 0s 2ms/step - batch: 7.5000 - size: 62.5000 - loss: 0.0262 - lr: 0.0200 - time: 0.1226\n",
      "Epoch 44/100\n",
      "16/16 [==============================] - 0s 2ms/step - batch: 7.5000 - size: 62.5000 - loss: 0.0264 - lr: 0.0200 - time: 0.1160\n",
      "Epoch 45/100\n",
      "16/16 [==============================] - 0s 2ms/step - batch: 7.5000 - size: 62.5000 - loss: 0.0265 - lr: 0.0200 - time: 0.1162\n",
      "Epoch 46/100\n",
      "16/16 [==============================] - 0s 2ms/step - batch: 7.5000 - size: 62.5000 - loss: 0.0264 - lr: 0.0200 - time: 0.1069\n",
      "Epoch 47/100\n",
      "16/16 [==============================] - 0s 2ms/step - batch: 7.5000 - size: 62.5000 - loss: 0.0263 - lr: 0.0200 - time: 0.1084\n",
      "Epoch 48/100\n",
      "16/16 [==============================] - 0s 2ms/step - batch: 7.5000 - size: 62.5000 - loss: 0.0263 - lr: 0.0200 - time: 0.1154\n",
      "Epoch 49/100\n",
      "16/16 [==============================] - 0s 2ms/step - batch: 7.5000 - size: 62.5000 - loss: 0.0261 - lr: 0.0200 - time: 0.1096\n",
      "Epoch 50/100\n",
      "16/16 [==============================] - 0s 2ms/step - batch: 7.5000 - size: 62.5000 - loss: 0.0261 - lr: 0.0200 - time: 0.1101\n",
      "Epoch 51/100\n",
      "16/16 [==============================] - 0s 2ms/step - batch: 7.5000 - size: 62.5000 - loss: 0.0263 - lr: 0.0200 - time: 0.1122\n",
      "Epoch 52/100\n",
      "16/16 [==============================] - 0s 2ms/step - batch: 7.5000 - size: 62.5000 - loss: 0.0263 - lr: 0.0200 - time: 0.1176\n",
      "Epoch 53/100\n",
      "16/16 [==============================] - 0s 2ms/step - batch: 7.5000 - size: 62.5000 - loss: 0.0262 - lr: 0.0200 - time: 0.1163\n",
      "Epoch 54/100\n",
      "16/16 [==============================] - 0s 2ms/step - batch: 7.5000 - size: 62.5000 - loss: 0.0263 - lr: 0.0200 - time: 0.1151\n",
      "Epoch 55/100\n",
      "16/16 [==============================] - 0s 2ms/step - batch: 7.5000 - size: 62.5000 - loss: 0.0262 - lr: 0.0200 - time: 0.1129\n",
      "Epoch 56/100\n",
      "16/16 [==============================] - 0s 2ms/step - batch: 7.5000 - size: 62.5000 - loss: 0.0263 - lr: 0.0200 - time: 0.1106\n",
      "Epoch 57/100\n",
      "16/16 [==============================] - 0s 2ms/step - batch: 7.5000 - size: 62.5000 - loss: 0.0266 - lr: 0.0200 - time: 0.1097\n",
      "Epoch 58/100\n"
     ]
    },
    {
     "name": "stdout",
     "output_type": "stream",
     "text": [
      "16/16 [==============================] - 0s 2ms/step - batch: 7.5000 - size: 62.5000 - loss: 0.0261 - lr: 0.0200 - time: 0.1100\n",
      "Epoch 59/100\n",
      "16/16 [==============================] - 0s 2ms/step - batch: 7.5000 - size: 62.5000 - loss: 0.0263 - lr: 0.0200 - time: 0.1149\n",
      "Epoch 60/100\n",
      "16/16 [==============================] - 0s 2ms/step - batch: 7.5000 - size: 62.5000 - loss: 0.0263 - lr: 0.0200 - time: 0.1160\n",
      "Epoch 61/100\n",
      "16/16 [==============================] - 0s 2ms/step - batch: 7.5000 - size: 62.5000 - loss: 0.0262 - lr: 0.0200 - time: 0.1094\n",
      "Epoch 62/100\n",
      "16/16 [==============================] - 0s 2ms/step - batch: 7.5000 - size: 62.5000 - loss: 0.0262 - lr: 0.0200 - time: 0.1083\n",
      "Epoch 63/100\n",
      "16/16 [==============================] - 0s 2ms/step - batch: 7.5000 - size: 62.5000 - loss: 0.0261 - lr: 0.0200 - time: 0.1103\n",
      "Epoch 64/100\n",
      "16/16 [==============================] - 0s 2ms/step - batch: 7.5000 - size: 62.5000 - loss: 0.0262 - lr: 0.0200 - time: 0.1152\n",
      "Epoch 65/100\n",
      "16/16 [==============================] - 0s 2ms/step - batch: 7.5000 - size: 62.5000 - loss: 0.0263 - lr: 0.0200 - time: 0.1102\n",
      "Epoch 66/100\n",
      "16/16 [==============================] - 0s 2ms/step - batch: 7.5000 - size: 62.5000 - loss: 0.0262 - lr: 0.0200 - time: 0.1174\n",
      "Epoch 67/100\n",
      "16/16 [==============================] - 0s 2ms/step - batch: 7.5000 - size: 62.5000 - loss: 0.0263 - lr: 0.0200 - time: 0.1142\n",
      "Epoch 68/100\n",
      "16/16 [==============================] - 0s 2ms/step - batch: 7.5000 - size: 62.5000 - loss: 0.0261 - lr: 0.0200 - time: 0.1091\n",
      "Epoch 69/100\n",
      "16/16 [==============================] - 0s 2ms/step - batch: 7.5000 - size: 62.5000 - loss: 0.0261 - lr: 0.0200 - time: 0.1106\n",
      "Epoch 70/100\n",
      "16/16 [==============================] - 0s 2ms/step - batch: 7.5000 - size: 62.5000 - loss: 0.0262 - lr: 0.0200 - time: 0.1089\n",
      "Epoch 71/100\n",
      "16/16 [==============================] - 0s 2ms/step - batch: 7.5000 - size: 62.5000 - loss: 0.0263 - lr: 0.0200 - time: 0.1231\n",
      "Epoch 72/100\n",
      "16/16 [==============================] - 0s 2ms/step - batch: 7.5000 - size: 62.5000 - loss: 0.0263 - lr: 0.0200 - time: 0.1119\n",
      "Epoch 73/100\n",
      "16/16 [==============================] - 0s 2ms/step - batch: 7.5000 - size: 62.5000 - loss: 0.0264 - lr: 0.0200 - time: 0.1182\n",
      "Epoch 74/100\n",
      " 1/16 [>.............................] - ETA: 1s - batch: 0.0000e+00 - size: 64.0000 - loss: 0.0236\n",
      "Epoch 00074: ReduceLROnPlateau reducing learning rate to 0.009999999776482582.\n",
      "16/16 [==============================] - 0s 2ms/step - batch: 7.5000 - size: 62.5000 - loss: 0.0262 - lr: 0.0200 - time: 0.1179\n",
      "Epoch 75/100\n",
      "16/16 [==============================] - 0s 2ms/step - batch: 7.5000 - size: 62.5000 - loss: 0.0263 - lr: 0.0100 - time: 0.1068\n",
      "Epoch 76/100\n",
      "16/16 [==============================] - 0s 2ms/step - batch: 7.5000 - size: 62.5000 - loss: 0.0261 - lr: 0.0100 - time: 0.1161\n",
      "Epoch 77/100\n",
      "16/16 [==============================] - 0s 2ms/step - batch: 7.5000 - size: 62.5000 - loss: 0.0262 - lr: 0.0100 - time: 0.1182\n",
      "Epoch 78/100\n",
      "16/16 [==============================] - 0s 2ms/step - batch: 7.5000 - size: 62.5000 - loss: 0.0261 - lr: 0.0100 - time: 0.1086\n",
      "Epoch 79/100\n",
      "16/16 [==============================] - 0s 2ms/step - batch: 7.5000 - size: 62.5000 - loss: 0.0262 - lr: 0.0100 - time: 0.1181\n",
      "Epoch 80/100\n",
      "16/16 [==============================] - 0s 2ms/step - batch: 7.5000 - size: 62.5000 - loss: 0.0262 - lr: 0.0100 - time: 0.1131\n",
      "Epoch 81/100\n",
      "16/16 [==============================] - 0s 2ms/step - batch: 7.5000 - size: 62.5000 - loss: 0.0260 - lr: 0.0100 - time: 0.1140\n",
      "Epoch 82/100\n",
      "16/16 [==============================] - 0s 2ms/step - batch: 7.5000 - size: 62.5000 - loss: 0.0263 - lr: 0.0100 - time: 0.1142\n",
      "Epoch 83/100\n",
      "16/16 [==============================] - 0s 2ms/step - batch: 7.5000 - size: 62.5000 - loss: 0.0262 - lr: 0.0100 - time: 0.1103\n",
      "Epoch 84/100\n",
      "16/16 [==============================] - 0s 2ms/step - batch: 7.5000 - size: 62.5000 - loss: 0.0264 - lr: 0.0100 - time: 0.1161\n",
      "Epoch 85/100\n",
      "16/16 [==============================] - 0s 2ms/step - batch: 7.5000 - size: 62.5000 - loss: 0.0263 - lr: 0.0100 - time: 0.1139\n",
      "Epoch 86/100\n",
      "16/16 [==============================] - 0s 2ms/step - batch: 7.5000 - size: 62.5000 - loss: 0.0262 - lr: 0.0100 - time: 0.1141\n",
      "Epoch 87/100\n",
      "16/16 [==============================] - 0s 2ms/step - batch: 7.5000 - size: 62.5000 - loss: 0.0263 - lr: 0.0100 - time: 0.1090\n",
      "Epoch 88/100\n",
      "16/16 [==============================] - 0s 2ms/step - batch: 7.5000 - size: 62.5000 - loss: 0.0262 - lr: 0.0100 - time: 0.1104\n",
      "Epoch 89/100\n",
      "16/16 [==============================] - 0s 2ms/step - batch: 7.5000 - size: 62.5000 - loss: 0.0262 - lr: 0.0100 - time: 0.1173\n",
      "Epoch 90/100\n",
      "16/16 [==============================] - 0s 2ms/step - batch: 7.5000 - size: 62.5000 - loss: 0.0264 - lr: 0.0100 - time: 0.1091\n",
      "Epoch 91/100\n",
      "16/16 [==============================] - 0s 2ms/step - batch: 7.5000 - size: 62.5000 - loss: 0.0262 - lr: 0.0100 - time: 0.1082\n",
      "Epoch 92/100\n",
      "16/16 [==============================] - 0s 2ms/step - batch: 7.5000 - size: 62.5000 - loss: 0.0263 - lr: 0.0100 - time: 0.1228\n",
      "Epoch 93/100\n",
      "16/16 [==============================] - 0s 2ms/step - batch: 7.5000 - size: 62.5000 - loss: 0.0263 - lr: 0.0100 - time: 0.1137\n",
      "Epoch 94/100\n",
      "16/16 [==============================] - 0s 2ms/step - batch: 7.5000 - size: 62.5000 - loss: 0.0261 - lr: 0.0100 - time: 0.1080\n",
      "Epoch 95/100\n",
      "16/16 [==============================] - 0s 2ms/step - batch: 7.5000 - size: 62.5000 - loss: 0.0265 - lr: 0.0100 - time: 0.1119\n",
      "Epoch 96/100\n",
      "16/16 [==============================] - 0s 2ms/step - batch: 7.5000 - size: 62.5000 - loss: 0.0261 - lr: 0.0100 - time: 0.1149\n",
      "Epoch 97/100\n",
      "16/16 [==============================] - 0s 2ms/step - batch: 7.5000 - size: 62.5000 - loss: 0.0265 - lr: 0.0100 - time: 0.1106\n",
      "Epoch 98/100\n",
      "16/16 [==============================] - 0s 2ms/step - batch: 7.5000 - size: 62.5000 - loss: 0.0261 - lr: 0.0100 - time: 0.1089\n",
      "Epoch 99/100\n",
      "16/16 [==============================] - 0s 2ms/step - batch: 7.5000 - size: 62.5000 - loss: 0.0264 - lr: 0.0100 - time: 0.1184\n",
      "Epoch 100/100\n",
      " 1/16 [>.............................] - ETA: 1s - batch: 0.0000e+00 - size: 64.0000 - loss: 0.0210\n",
      "Epoch 00100: ReduceLROnPlateau reducing learning rate to 0.004999999888241291.\n",
      "16/16 [==============================] - 0s 2ms/step - batch: 7.5000 - size: 62.5000 - loss: 0.0265 - lr: 0.0100 - time: 0.1176\n"
     ]
    },
    {
     "data": {
      "text/plain": [
       "<tensorflow.python.keras.callbacks.History at 0x2b88d963f438>"
      ]
     },
     "execution_count": 14,
     "metadata": {},
     "output_type": "execute_result"
    }
   ],
   "source": [
    "d1 = sn.Data(y)\n",
    "m = sn.SciModel([x, x2], d1)\n",
    "m.train([x_data, x_data**2], y_data, learning_rate=0.02)"
   ]
  },
  {
   "cell_type": "markdown",
   "metadata": {
    "colab_type": "text",
    "id": "PXLwtjKDCkUQ"
   },
   "source": [
    "We can finally evaluate the network as: \n"
   ]
  },
  {
   "cell_type": "code",
   "execution_count": 15,
   "metadata": {
    "colab": {
     "base_uri": "https://localhost:8080/",
     "height": 282
    },
    "colab_type": "code",
    "id": "ByB_fSIfKT7d",
    "outputId": "35cc2529-e3b4-45d4-8fd5-e3141c587c51"
   },
   "outputs": [
    {
     "data": {
      "image/png": "[encoded data removed]",
      "text/plain": [
       "<matplotlib.figure.Figure at 0x2b88e4d8f358>"
      ]
     },
     "metadata": {},
     "output_type": "display_data"
    }
   ],
   "source": [
    "y_pred = y.eval([x_data, x_data**2])\n",
    "\n",
    "plt.scatter(x_data, y_data)\n",
    "plt.plot(x_data, y_pred, 'r')\n",
    "plt.show()"
   ]
  },
  {
   "cell_type": "markdown",
   "metadata": {
    "colab_type": "text",
    "id": "CYkXljMQCo45"
   },
   "source": [
    "The weights and biasses of the network are obtained as: "
   ]
  },
  {
   "cell_type": "code",
   "execution_count": 16,
   "metadata": {
    "colab": {
     "base_uri": "https://localhost:8080/",
     "height": 51
    },
    "colab_type": "code",
    "id": "1fouzGf-KW92",
    "outputId": "32ec5bb0-5b1b-49e3-9c34-2a93ce95f5e1"
   },
   "outputs": [
    {
     "data": {
      "text/plain": [
       "[[array([[-0.9977857],\n",
       "         [ 2.0224469]], dtype=float32), array([0.9920667], dtype=float32)]]"
      ]
     },
     "execution_count": 16,
     "metadata": {},
     "output_type": "execute_result"
    }
   ],
   "source": [
    "y.get_weights()"
   ]
  },
  {
   "cell_type": "code",
   "execution_count": null,
   "metadata": {
    "colab": {},
    "colab_type": "code",
    "collapsed": true,
    "id": "CHowRTS-KZj2"
   },
   "outputs": [],
   "source": []
  }
 ],
 "metadata": {
  "colab": {
   "collapsed_sections": [],
   "name": "lr1.ipynb",
   "provenance": [],
   "toc_visible": true
  },
  "kernelspec": {
   "display_name": "Python 3",
   "language": "python",
   "name": "python3"
  },
  "language_info": {
   "codemirror_mode": {
    "name": "ipython",
    "version": 3
   },
   "file_extension": ".py",
   "mimetype": "text/x-python",
   "name": "python",
   "nbconvert_exporter": "python",
   "pygments_lexer": "ipython3",
   "version": "3.6.1"
  }
 },
 "nbformat": 4,
 "nbformat_minor": 1
}
